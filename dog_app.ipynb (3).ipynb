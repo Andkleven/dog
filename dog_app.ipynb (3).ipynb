{
 "cells": [
  {
   "cell_type": "markdown",
   "metadata": {},
   "source": [
    "# Artificial Intelligence Nanodegree\n",
    "\n",
    "## Convolutional Neural Networks\n",
    "\n",
    "## Project: Write an Algorithm for a Dog Identification App \n",
    "\n",
    "---\n",
    "\n",
    "In this notebook, some template code has already been provided for you, and you will need to implement additional functionality to successfully complete this project. You will not need to modify the included code beyond what is requested. Sections that begin with **'(IMPLEMENTATION)'** in the header indicate that the following block of code will require additional functionality which you must provide. Instructions will be provided for each section, and the specifics of the implementation are marked in the code block with a 'TODO' statement. Please be sure to read the instructions carefully! \n",
    "\n",
    "> **Note**: Once you have completed all of the code implementations, you need to finalize your work by exporting the iPython Notebook as an HTML document. Before exporting the notebook to html, all of the code cells need to have been run so that reviewers can see the final implementation and output. You can then export the notebook by using the menu above and navigating to  \\n\",\n",
    "    \"**File -> Download as -> HTML (.html)**. Include the finished document along with this notebook as your submission.\n",
    "\n",
    "In addition to implementing code, there will be questions that you must answer which relate to the project and your implementation. Each section where you will answer a question is preceded by a **'Question X'** header. Carefully read each question and provide thorough answers in the following text boxes that begin with **'Answer:'**. Your project submission will be evaluated based on your answers to each of the questions and the implementation you provide.\n",
    "\n",
    ">**Note:** Code and Markdown cells can be executed using the **Shift + Enter** keyboard shortcut.  Markdown cells can be edited by double-clicking the cell to enter edit mode.\n",
    "\n",
    "The rubric contains _optional_ \"Stand Out Suggestions\" for enhancing the project beyond the minimum requirements. If you decide to pursue the \"Stand Out Suggestions\", you should include the code in this IPython notebook.\n",
    "\n",
    "\n",
    "\n",
    "---\n",
    "### Why We're Here \n",
    "\n",
    "In this notebook, you will make the first steps towards developing an algorithm that could be used as part of a mobile or web app.  At the end of this project, your code will accept any user-supplied image as input.  If a dog is detected in the image, it will provide an estimate of the dog's breed.  If a human is detected, it will provide an estimate of the dog breed that is most resembling.  The image below displays potential sample output of your finished project (... but we expect that each student's algorithm will behave differently!). \n",
    "\n",
    "![Sample Dog Output](images/sample_dog_output.png)\n",
    "\n",
    "In this real-world setting, you will need to piece together a series of models to perform different tasks; for instance, the algorithm that detects humans in an image will be different from the CNN that infers dog breed.  There are many points of possible failure, and no perfect algorithm exists.  Your imperfect solution will nonetheless create a fun user experience!\n",
    "\n",
    "### The Road Ahead\n",
    "\n",
    "We break the notebook into separate steps.  Feel free to use the links below to navigate the notebook.\n",
    "\n",
    "* [Step 0](#step0): Import Datasets\n",
    "* [Step 1](#step1): Detect Humans\n",
    "* [Step 2](#step2): Detect Dogs\n",
    "* [Step 3](#step3): Create a CNN to Classify Dog Breeds (from Scratch)\n",
    "* [Step 4](#step4): Use a CNN to Classify Dog Breeds (using Transfer Learning)\n",
    "* [Step 5](#step5): Create a CNN to Classify Dog Breeds (using Transfer Learning)\n",
    "* [Step 6](#step6): Write your Algorithm\n",
    "* [Step 7](#step7): Test Your Algorithm\n",
    "\n",
    "---\n",
    "<a id='step0'></a>\n",
    "## Step 0: Import Datasets\n",
    "\n",
    "### Import Dog Dataset\n",
    "\n",
    "In the code cell below, we import a dataset of dog images.  We populate a few variables through the use of the `load_files` function from the scikit-learn library:\n",
    "- `train_files`, `valid_files`, `test_files` - numpy arrays containing file paths to images\n",
    "- `train_targets`, `valid_targets`, `test_targets` - numpy arrays containing onehot-encoded classification labels \n",
    "- `dog_names` - list of string-valued dog breed names for translating labels"
   ]
  },
  {
   "cell_type": "code",
   "execution_count": 2,
   "metadata": {},
   "outputs": [
    {
     "name": "stderr",
     "output_type": "stream",
     "text": [
      "Using TensorFlow backend.\n"
     ]
    },
    {
     "name": "stdout",
     "output_type": "stream",
     "text": [
      "There are 133 total dog categories.\n",
      "There are 8351 total dog images.\n",
      "\n",
      "There are 6680 training dog images.\n",
      "There are 835 validation dog images.\n",
      "There are 836 test dog images.\n"
     ]
    }
   ],
   "source": [
    "from sklearn.datasets import load_files       \n",
    "from keras.utils import np_utils\n",
    "import numpy as np\n",
    "from glob import glob\n",
    "\n",
    "# define function to load train, test, and validation datasets\n",
    "def load_dataset(path):\n",
    "    data = load_files(path)\n",
    "    dog_files = np.array(data['filenames'])\n",
    "    dog_targets = np_utils.to_categorical(np.array(data['target']), 133)\n",
    "    return dog_files, dog_targets\n",
    "\n",
    "# load train, test, and validation datasets\n",
    "train_files, train_targets = load_dataset('dogImages/train')\n",
    "valid_files, valid_targets = load_dataset('dogImages/valid')\n",
    "test_files, test_targets = load_dataset('dogImages/test')\n",
    "\n",
    "# load list of dog names\n",
    "dog_names = [item[20:-1] for item in sorted(glob(\"dogImages/train/*/\"))]\n",
    "\n",
    "# print statistics about the dataset\n",
    "print('There are %d total dog categories.' % len(dog_names))\n",
    "print('There are %s total dog images.\\n' % len(np.hstack([train_files, valid_files, test_files])))\n",
    "print('There are %d training dog images.' % len(train_files))\n",
    "print('There are %d validation dog images.' % len(valid_files))\n",
    "print('There are %d test dog images.'% len(test_files))"
   ]
  },
  {
   "cell_type": "markdown",
   "metadata": {},
   "source": [
    "### Import Human Dataset\n",
    "\n",
    "In the code cell below, we import a dataset of human images, where the file paths are stored in the numpy array `human_files`."
   ]
  },
  {
   "cell_type": "code",
   "execution_count": 14,
   "metadata": {},
   "outputs": [
    {
     "name": "stdout",
     "output_type": "stream",
     "text": [
      "There are 5749 total human images.\n"
     ]
    }
   ],
   "source": [
    "import random\n",
    "random.seed(8675309)\n",
    "\n",
    "# load filenames in shuffled human dataset\n",
    "human_files = np.array(glob('lfw/lfw/*/'))\n",
    "random.shuffle(human_files)\n",
    "\n",
    "# print statistics about the dataset\n",
    "print('There are %d total human images.' % len(human_files))"
   ]
  },
  {
   "cell_type": "markdown",
   "metadata": {},
   "source": [
    "---\n",
    "<a id='step1'></a>\n",
    "## Step 1: Detect Humans\n",
    "\n",
    "We use OpenCV's implementation of [Haar feature-based cascade classifiers](http://docs.opencv.org/trunk/d7/d8b/tutorial_py_face_detection.html) to detect human faces in images.  OpenCV provides many pre-trained face detectors, stored as XML files on [github](https://github.com/opencv/opencv/tree/master/data/haarcascades).  We have downloaded one of these detectors and stored it in the `haarcascades` directory.\n",
    "\n",
    "In the next code cell, we demonstrate how to use this detector to find human faces in a sample image."
   ]
  },
  {
   "cell_type": "code",
   "execution_count": 13,
   "metadata": {},
   "outputs": [
    {
     "ename": "error",
     "evalue": "C:\\projects\\opencv-python\\opencv\\modules\\imgproc\\src\\color.cpp:9748: error: (-215) scn == 3 || scn == 4 in function cv::cvtColor\n",
     "output_type": "error",
     "traceback": [
      "\u001b[1;31m---------------------------------------------------------------------------\u001b[0m",
      "\u001b[1;31merror\u001b[0m                                     Traceback (most recent call last)",
      "\u001b[1;32m<ipython-input-13-d76d09ca5fb7>\u001b[0m in \u001b[0;36m<module>\u001b[1;34m()\u001b[0m\n\u001b[0;32m     10\u001b[0m \u001b[0mimg\u001b[0m \u001b[1;33m=\u001b[0m \u001b[0mcv2\u001b[0m\u001b[1;33m.\u001b[0m\u001b[0mimread\u001b[0m\u001b[1;33m(\u001b[0m\u001b[1;34m\"{}/{}\"\u001b[0m\u001b[1;33m.\u001b[0m\u001b[0mformat\u001b[0m\u001b[1;33m(\u001b[0m\u001b[0mcwd\u001b[0m\u001b[1;33m,\u001b[0m \u001b[0mhuman_files\u001b[0m\u001b[1;33m[\u001b[0m\u001b[1;36m3\u001b[0m\u001b[1;33m]\u001b[0m\u001b[1;33m)\u001b[0m\u001b[1;33m)\u001b[0m\u001b[1;33m\u001b[0m\u001b[0m\n\u001b[0;32m     11\u001b[0m \u001b[1;31m# convert BGR image to grayscale\u001b[0m\u001b[1;33m\u001b[0m\u001b[1;33m\u001b[0m\u001b[0m\n\u001b[1;32m---> 12\u001b[1;33m \u001b[0mgray\u001b[0m \u001b[1;33m=\u001b[0m \u001b[0mcv2\u001b[0m\u001b[1;33m.\u001b[0m\u001b[0mcvtColor\u001b[0m\u001b[1;33m(\u001b[0m\u001b[0mimg\u001b[0m\u001b[1;33m,\u001b[0m \u001b[0mcv2\u001b[0m\u001b[1;33m.\u001b[0m\u001b[0mCOLOR_BGR2GRAY\u001b[0m\u001b[1;33m)\u001b[0m\u001b[1;33m\u001b[0m\u001b[0m\n\u001b[0m\u001b[0;32m     13\u001b[0m \u001b[1;33m\u001b[0m\u001b[0m\n\u001b[0;32m     14\u001b[0m \u001b[1;31m# find faces in image\u001b[0m\u001b[1;33m\u001b[0m\u001b[1;33m\u001b[0m\u001b[0m\n",
      "\u001b[1;31merror\u001b[0m: C:\\projects\\opencv-python\\opencv\\modules\\imgproc\\src\\color.cpp:9748: error: (-215) scn == 3 || scn == 4 in function cv::cvtColor\n"
     ]
    }
   ],
   "source": [
    "import cv2                \n",
    "import matplotlib.pyplot as plt                        \n",
    "%matplotlib inline                               \n",
    "import os\n",
    "# extract pre-trained face detector\n",
    "face_cascade = cv2.CascadeClassifier('haarcascades/haarcascade_frontalface_alt.xml')\n",
    "\n",
    "# load color (BGR) image\n",
    "cwd = os.getcwd()\n",
    "img = cv2.imread(\"{}/{}\".format(cwd, human_files[3]))\n",
    "# convert BGR image to grayscale\n",
    "gray = cv2.cvtColor(img, cv2.COLOR_BGR2GRAY)\n",
    "\n",
    "# find faces in image\n",
    "faces = face_cascade.detectMultiScale(gray)\n",
    "\n",
    "# print number of faces detected in the image\n",
    "print('Number of faces detected:', len(faces))\n",
    "\n",
    "# get bounding box for each detected face\n",
    "for (x,y,w,h) in faces:\n",
    "    # add bounding box to color image\n",
    "    cv2.rectangle(img,(x,y),(x+w,y+h),(255,0,0),2)\n",
    "    \n",
    "# convert BGR image to RGB for plotting\n",
    "cv_rgb = cv2.cvtColor(img, cv2.COLOR_BGR2RGB)\n",
    "\n",
    "# display the image, along with bounding box\n",
    "plt.imshow(cv_rgb)\n",
    "plt.show()"
   ]
  },
  {
   "cell_type": "markdown",
   "metadata": {},
   "source": [
    "Before using any of the face detectors, it is standard procedure to convert the images to grayscale.  The `detectMultiScale` function executes the classifier stored in `face_cascade` and takes the grayscale image as a parameter.  \n",
    "\n",
    "In the above code, `faces` is a numpy array of detected faces, where each row corresponds to a detected face.  Each detected face is a 1D array with four entries that specifies the bounding box of the detected face.  The first two entries in the array (extracted in the above code as `x` and `y`) specify the horizontal and vertical positions of the top left corner of the bounding box.  The last two entries in the array (extracted here as `w` and `h`) specify the width and height of the box.\n",
    "\n",
    "### Write a Human Face Detector\n",
    "\n",
    "We can use this procedure to write a function that returns `True` if a human face is detected in an image and `False` otherwise.  This function, aptly named `face_detector`, takes a string-valued file path to an image as input and appears in the code block below."
   ]
  },
  {
   "cell_type": "code",
   "execution_count": 8,
   "metadata": {},
   "outputs": [],
   "source": [
    "# returns \"True\" if face is detected in image stored at img_path\n",
    "def face_detector(img_path):\n",
    "    img = cv2.imread(img_path)\n",
    "    gray = cv2.cvtColor(img, cv2.COLOR_BGR2GRAY)\n",
    "    faces = face_cascade.detectMultiScale(gray)\n",
    "    return len(faces) > 0"
   ]
  },
  {
   "cell_type": "markdown",
   "metadata": {},
   "source": [
    "### (IMPLEMENTATION) Assess the Human Face Detector\n",
    "\n",
    "__Question 1:__ Use the code cell below to test the performance of the `face_detector` function.  \n",
    "- What percentage of the first 100 images in `human_files` have a detected human face?  \n",
    "- What percentage of the first 100 images in `dog_files` have a detected human face? \n",
    "\n",
    "Ideally, we would like 100% of human images with a detected face and 0% of dog images with a detected face.  You will see that our algorithm falls short of this goal, but still gives acceptable performance.  We extract the file paths for the first 100 images from each of the datasets and store them in the numpy arrays `human_files_short` and `dog_files_short`.\n",
    "\n",
    "__Answer:__ "
   ]
  },
  {
   "cell_type": "code",
   "execution_count": 9,
   "metadata": {},
   "outputs": [
    {
     "name": "stdout",
     "output_type": "stream",
     "text": [
      "There are 99 images in the human_files.\n",
      "There are 11 images in the dog_files.\n"
     ]
    }
   ],
   "source": [
    "human_files_short = human_files[:100]\n",
    "dog_files_short = train_files[:100]\n",
    "# Do NOT modify the code above this line.\n",
    "human_face_count = 0\n",
    "for image_y in human_files_short:\n",
    "    if(face_detector(image_y)) == True:\n",
    "        human_face_count += 1\n",
    "        \n",
    "dog_face_count = 0\n",
    "for image_x in dog_files_short:\n",
    "    if(face_detector(image_x)) == True:\n",
    "        dog_face_count += 1\n",
    "## TODO: Test the performance of the face_detector algorithm \n",
    "\n",
    "\n",
    "print('There are %d images in the human_files.' % human_face_count)\n",
    "print('There are %d images in the dog_files.' % dog_face_count)"
   ]
  },
  {
   "cell_type": "markdown",
   "metadata": {},
   "source": [
    "__Question 2:__ This algorithmic choice necessitates that we communicate to the user that we accept human images only when they provide a clear view of a face (otherwise, we risk having unneccessarily frustrated users!). In your opinion, is this a reasonable expectation to pose on the user? If not, can you think of a way to detect humans in images that does not necessitate an image with a clearly presented face?\n",
    "\n",
    "__Answer:__\n",
    "\n",
    "We suggest the face detector from OpenCV as a potential way to detect human images in your algorithm, but you are free to explore other approaches, especially approaches that make use of deep learning :).  Please use the code cell below to design and test your own face detection algorithm.  If you decide to pursue this _optional_ task, report performance on each of the datasets."
   ]
  },
  {
   "cell_type": "code",
   "execution_count": 10,
   "metadata": {},
   "outputs": [],
   "source": [
    "## (Optional) TODO: Report the performance of another  \n",
    "## face detection algorithm on the LFW dataset\n",
    "### Feel free to use as many code cells as needed.\n",
    "\n",
    "## dont now have to make this code"
   ]
  },
  {
   "cell_type": "markdown",
   "metadata": {},
   "source": [
    "---\n",
    "<a id='step2'></a>\n",
    "## Step 2: Detect Dogs\n",
    "\n",
    "In this section, we use a pre-trained [ResNet-50](http://ethereon.github.io/netscope/#/gist/db945b393d40bfa26006) model to detect dogs in images.  Our first line of code downloads the ResNet-50 model, along with weights that have been trained on [ImageNet](http://www.image-net.org/), a very large, very popular dataset used for image classification and other vision tasks.  ImageNet contains over 10 million URLs, each linking to an image containing an object from one of [1000 categories](https://gist.github.com/yrevar/942d3a0ac09ec9e5eb3a).  Given an image, this pre-trained ResNet-50 model returns a prediction (derived from the available categories in ImageNet) for the object that is contained in the image."
   ]
  },
  {
   "cell_type": "code",
   "execution_count": 11,
   "metadata": {},
   "outputs": [],
   "source": [
    "from keras.applications.resnet50 import ResNet50\n",
    "\n",
    "# define ResNet50 model\n",
    "ResNet50_model = ResNet50(weights='imagenet')"
   ]
  },
  {
   "cell_type": "markdown",
   "metadata": {},
   "source": [
    "### Pre-process the Data\n",
    "\n",
    "When using TensorFlow as backend, Keras CNNs require a 4D array (which we'll also refer to as a 4D tensor) as input, with shape\n",
    "\n",
    "$$\n",
    "(\\text{nb_samples}, \\text{rows}, \\text{columns}, \\text{channels}),\n",
    "$$\n",
    "\n",
    "where `nb_samples` corresponds to the total number of images (or samples), and `rows`, `columns`, and `channels` correspond to the number of rows, columns, and channels for each image, respectively.  \n",
    "\n",
    "The `path_to_tensor` function below takes a string-valued file path to a color image as input and returns a 4D tensor suitable for supplying to a Keras CNN.  The function first loads the image and resizes it to a square image that is $224 \\times 224$ pixels.  Next, the image is converted to an array, which is then resized to a 4D tensor.  In this case, since we are working with color images, each image has three channels.  Likewise, since we are processing a single image (or sample), the returned tensor will always have shape\n",
    "\n",
    "$$\n",
    "(1, 224, 224, 3).\n",
    "$$\n",
    "\n",
    "The `paths_to_tensor` function takes a numpy array of string-valued image paths as input and returns a 4D tensor with shape \n",
    "\n",
    "$$\n",
    "(\\text{nb_samples}, 224, 224, 3).\n",
    "$$\n",
    "\n",
    "Here, `nb_samples` is the number of samples, or number of images, in the supplied array of image paths.  It is best to think of `nb_samples` as the number of 3D tensors (where each 3D tensor corresponds to a different image) in your dataset!"
   ]
  },
  {
   "cell_type": "code",
   "execution_count": 12,
   "metadata": {},
   "outputs": [],
   "source": [
    "from keras.preprocessing import image                  \n",
    "from tqdm import tqdm\n",
    "\n",
    "def path_to_tensor(img_path):\n",
    "    # loads RGB image as PIL.Image.Image type\n",
    "    img = image.load_img(img_path, target_size=(224, 224))\n",
    "    # convert PIL.Image.Image type to 3D tensor with shape (224, 224, 3)\n",
    "    x = image.img_to_array(img)\n",
    "    # convert 3D tensor to 4D tensor with shape (1, 224, 224, 3) and return 4D tensor\n",
    "    return np.expand_dims(x, axis=0)\n",
    "\n",
    "def paths_to_tensor(img_paths):\n",
    "    list_of_tensors = [path_to_tensor(img_path) for img_path in tqdm(img_paths)]\n",
    "    return np.vstack(list_of_tensors)"
   ]
  },
  {
   "cell_type": "markdown",
   "metadata": {},
   "source": [
    "### Making Predictions with ResNet-50\n",
    "\n",
    "Getting the 4D tensor ready for ResNet-50, and for any other pre-trained model in Keras, requires some additional processing.  First, the RGB image is converted to BGR by reordering the channels.  All pre-trained models have the additional normalization step that the mean pixel (expressed in RGB as $[103.939, 116.779, 123.68]$ and calculated from all pixels in all images in ImageNet) must be subtracted from every pixel in each image.  This is implemented in the imported function `preprocess_input`.  If you're curious, you can check the code for `preprocess_input` [here](https://github.com/fchollet/keras/blob/master/keras/applications/imagenet_utils.py).\n",
    "\n",
    "Now that we have a way to format our image for supplying to ResNet-50, we are now ready to use the model to extract the predictions.  This is accomplished with the `predict` method, which returns an array whose $i$-th entry is the model's predicted probability that the image belongs to the $i$-th ImageNet category.  This is implemented in the `ResNet50_predict_labels` function below.\n",
    "\n",
    "By taking the argmax of the predicted probability vector, we obtain an integer corresponding to the model's predicted object class, which we can identify with an object category through the use of this [dictionary](https://gist.github.com/yrevar/942d3a0ac09ec9e5eb3a). "
   ]
  },
  {
   "cell_type": "code",
   "execution_count": 13,
   "metadata": {},
   "outputs": [],
   "source": [
    "from keras.applications.resnet50 import preprocess_input, decode_predictions\n",
    "\n",
    "def ResNet50_predict_labels(img_path):\n",
    "    # returns prediction vector for image located at img_path\n",
    "    img = preprocess_input(path_to_tensor(img_path))\n",
    "    return np.argmax(ResNet50_model.predict(img))"
   ]
  },
  {
   "cell_type": "markdown",
   "metadata": {},
   "source": [
    "### Write a Dog Detector\n",
    "\n",
    "While looking at the [dictionary](https://gist.github.com/yrevar/942d3a0ac09ec9e5eb3a), you will notice that the categories corresponding to dogs appear in an uninterrupted sequence and correspond to dictionary keys 151-268, inclusive, to include all categories from `'Chihuahua'` to `'Mexican hairless'`.  Thus, in order to check to see if an image is predicted to contain a dog by the pre-trained ResNet-50 model, we need only check if the `ResNet50_predict_labels` function above returns a value between 151 and 268 (inclusive).\n",
    "\n",
    "We use these ideas to complete the `dog_detector` function below, which returns `True` if a dog is detected in an image (and `False` if not)."
   ]
  },
  {
   "cell_type": "code",
   "execution_count": 14,
   "metadata": {},
   "outputs": [],
   "source": [
    "### returns \"True\" if a dog is detected in the image stored at img_path\n",
    "def dog_detector(img_path):\n",
    "    prediction = ResNet50_predict_labels(img_path)\n",
    "    return ((prediction <= 268) & (prediction >= 151)) "
   ]
  },
  {
   "cell_type": "markdown",
   "metadata": {},
   "source": [
    "### (IMPLEMENTATION) Assess the Dog Detector\n",
    "\n",
    "__Question 3:__ Use the code cell below to test the performance of your `dog_detector` function.  \n",
    "- What percentage of the images in `human_files_short` have a detected dog?  \n",
    "- What percentage of the images in `dog_files_short` have a detected dog?\n",
    "\n",
    "__Answer:__ "
   ]
  },
  {
   "cell_type": "code",
   "execution_count": 16,
   "metadata": {
    "scrolled": true
   },
   "outputs": [
    {
     "name": "stdout",
     "output_type": "stream",
     "text": [
      "1\n",
      "100\n"
     ]
    }
   ],
   "source": [
    "humen_rase_count = 0\n",
    "for i in human_files_short:\n",
    "    if(dog_detector(i)) == True:\n",
    "        humen_rase_count += 1\n",
    "\n",
    "dog_rase_count = 0\n",
    "for im in dog_files_short:\n",
    "    if(dog_detector(im)) == True:\n",
    "        dog_rase_count += 1\n",
    "        \n",
    "print(humen_rase_count)\n",
    "print(dog_rase_count)\n",
    "### TODO: Test the performance of the dog_detector function\n",
    "### on the images in human_files_short and dog_files_short."
   ]
  },
  {
   "cell_type": "markdown",
   "metadata": {},
   "source": [
    "---\n",
    "<a id='step3'></a>\n",
    "## Step 3: Create a CNN to Classify Dog Breeds (from Scratch)\n",
    "\n",
    "Now that we have functions for detecting humans and dogs in images, we need a way to predict breed from images.  In this step, you will create a CNN that classifies dog breeds.  You must create your CNN _from scratch_ (so, you can't use transfer learning _yet_!), and you must attain a test accuracy of at least 1%.  In Step 5 of this notebook, you will have the opportunity to use transfer learning to create a CNN that attains greatly improved accuracy.\n",
    "\n",
    "Be careful with adding too many trainable layers!  More parameters means longer training, which means you are more likely to need a GPU to accelerate the training process.  Thankfully, Keras provides a handy estimate of the time that each epoch is likely to take; you can extrapolate this estimate to figure out how long it will take for your algorithm to train. \n",
    "\n",
    "We mention that the task of assigning breed to dogs from images is considered exceptionally challenging.  To see why, consider that *even a human* would have great difficulty in distinguishing between a Brittany and a Welsh Springer Spaniel.  \n",
    "\n",
    "Brittany | Welsh Springer Spaniel\n",
    "- | - \n",
    "<img src=\"images/Brittany_02625.jpg\" width=\"100\"> | <img src=\"images/Welsh_springer_spaniel_08203.jpg\" width=\"200\">\n",
    "\n",
    "It is not difficult to find other dog breed pairs with minimal inter-class variation (for instance, Curly-Coated Retrievers and American Water Spaniels).  \n",
    "\n",
    "Curly-Coated Retriever | American Water Spaniel\n",
    "- | -\n",
    "<img src=\"images/Curly-coated_retriever_03896.jpg\" width=\"200\"> | <img src=\"images/American_water_spaniel_00648.jpg\" width=\"200\">\n",
    "\n",
    "\n",
    "Likewise, recall that labradors come in yellow, chocolate, and black.  Your vision-based algorithm will have to conquer this high intra-class variation to determine how to classify all of these different shades as the same breed.  \n",
    "\n",
    "Yellow Labrador | Chocolate Labrador | Black Labrador\n",
    "- | -\n",
    "<img src=\"images/Labrador_retriever_06457.jpg\" width=\"150\"> | <img src=\"images/Labrador_retriever_06455.jpg\" width=\"240\"> | <img src=\"images/Labrador_retriever_06449.jpg\" width=\"220\">\n",
    "\n",
    "We also mention that random chance presents an exceptionally low bar: setting aside the fact that the classes are slightly imabalanced, a random guess will provide a correct answer roughly 1 in 133 times, which corresponds to an accuracy of less than 1%.  \n",
    "\n",
    "Remember that the practice is far ahead of the theory in deep learning.  Experiment with many different architectures, and trust your intuition.  And, of course, have fun! \n",
    "\n",
    "### Pre-process the Data\n",
    "\n",
    "We rescale the images by dividing every pixel in every image by 255."
   ]
  },
  {
   "cell_type": "code",
   "execution_count": 17,
   "metadata": {
    "scrolled": true
   },
   "outputs": [
    {
     "name": "stderr",
     "output_type": "stream",
     "text": [
      "100%|██████████████████████████████████████████████████████████████████████████████| 6680/6680 [01:51<00:00, 60.15it/s]\n",
      "100%|████████████████████████████████████████████████████████████████████████████████| 835/835 [00:13<00:00, 63.25it/s]\n",
      "100%|████████████████████████████████████████████████████████████████████████████████| 836/836 [00:13<00:00, 60.36it/s]\n"
     ]
    }
   ],
   "source": [
    "from PIL import ImageFile                            \n",
    "ImageFile.LOAD_TRUNCATED_IMAGES = True                 \n",
    "\n",
    "# pre-process the data for Keras\n",
    "train_tensors = paths_to_tensor(train_files).astype('float32')/255\n",
    "valid_tensors = paths_to_tensor(valid_files).astype('float32')/255\n",
    "test_tensors = paths_to_tensor(test_files).astype('float32')/255"
   ]
  },
  {
   "cell_type": "markdown",
   "metadata": {},
   "source": [
    "### (IMPLEMENTATION) Model Architecture\n",
    "\n",
    "Create a CNN to classify dog breed.  At the end of your code cell block, summarize the layers of your model by executing the line:\n",
    "    \n",
    "        model.summary()\n",
    "\n",
    "We have imported some Python modules to get you started, but feel free to import as many modules as you need.  If you end up getting stuck, here's a hint that specifies a model that trains relatively fast on CPU and attains >1% test accuracy in 5 epochs:\n",
    "\n",
    "![Sample CNN](images/sample_cnn.png)\n",
    "           \n",
    "__Question 4:__ Outline the steps you took to get to your final CNN architecture and your reasoning at each step.  If you chose to use the hinted architecture above, describe why you think that CNN architecture should work well for the image classification task.\n",
    "\n",
    "__Answer:__ "
   ]
  },
  {
   "cell_type": "code",
   "execution_count": 18,
   "metadata": {},
   "outputs": [
    {
     "name": "stdout",
     "output_type": "stream",
     "text": [
      "_________________________________________________________________\n",
      "Layer (type)                 Output Shape              Param #   \n",
      "=================================================================\n",
      "conv2d_1 (Conv2D)            (None, 223, 223, 16)      208       \n",
      "_________________________________________________________________\n",
      "max_pooling2d_2 (MaxPooling2 (None, 111, 111, 16)      0         \n",
      "_________________________________________________________________\n",
      "conv2d_2 (Conv2D)            (None, 110, 110, 32)      2080      \n",
      "_________________________________________________________________\n",
      "max_pooling2d_3 (MaxPooling2 (None, 55, 55, 32)        0         \n",
      "_________________________________________________________________\n",
      "conv2d_3 (Conv2D)            (None, 54, 54, 64)        8256      \n",
      "_________________________________________________________________\n",
      "max_pooling2d_4 (MaxPooling2 (None, 27, 27, 64)        0         \n",
      "_________________________________________________________________\n",
      "global_average_pooling2d_1 ( (None, 64)                0         \n",
      "_________________________________________________________________\n",
      "dense_1 (Dense)              (None, 133)               8645      \n",
      "=================================================================\n",
      "Total params: 19,189\n",
      "Trainable params: 19,189\n",
      "Non-trainable params: 0\n",
      "_________________________________________________________________\n"
     ]
    }
   ],
   "source": [
    "from keras.layers import Conv2D, MaxPooling2D, GlobalAveragePooling2D\n",
    "from keras.layers import Dropout, Flatten, Dense\n",
    "from keras.models import Sequential\n",
    "\n",
    "model = Sequential()\n",
    "model.add(Conv2D(filters=16, kernel_size=2, activation='relu', input_shape=(224, 224, 3))) # get the images in th first layer\n",
    "model.add(MaxPooling2D(pool_size=2))   # make them smaller\n",
    "model.add(Conv2D(filters=32, kernel_size=2, activation='relu'))  #\n",
    "model.add(MaxPooling2D(pool_size=2))\n",
    "model.add(Conv2D(filters=64, kernel_size=2, activation='relu'))\n",
    "model.add(MaxPooling2D(pool_size=2))\n",
    "model.add(GlobalAveragePooling2D())\n",
    "model.add(Dense(133, activation='softmax'))\n",
    "\n",
    "\n",
    "\n",
    "model.summary()"
   ]
  },
  {
   "cell_type": "markdown",
   "metadata": {},
   "source": [
    "### Compile the Model"
   ]
  },
  {
   "cell_type": "code",
   "execution_count": 19,
   "metadata": {},
   "outputs": [],
   "source": [
    "model.compile(optimizer='rmsprop', loss='categorical_crossentropy', metrics=['accuracy'])"
   ]
  },
  {
   "cell_type": "markdown",
   "metadata": {},
   "source": [
    "### (IMPLEMENTATION) Train the Model\n",
    "\n",
    "Train your model in the code cell below.  Use model checkpointing to save the model that attains the best validation loss.\n",
    "\n",
    "You are welcome to [augment the training data](https://blog.keras.io/building-powerful-image-classification-models-using-very-little-data.html), but this is not a requirement. "
   ]
  },
  {
   "cell_type": "code",
   "execution_count": 20,
   "metadata": {},
   "outputs": [
    {
     "name": "stdout",
     "output_type": "stream",
     "text": [
      "Train on 6680 samples, validate on 835 samples\n",
      "Epoch 1/10\n",
      "4040/6680 [=================>............] - ETA: 13:12 - loss: 4.9224 - acc: 0.0000e+ - ETA: 9:18 - loss: 4.9098 - acc: 0.0000e+00 - ETA: 7:56 - loss: 4.9019 - acc: 0.0000e+0 - ETA: 7:17 - loss: 4.8987 - acc: 0.0000e+0 - ETA: 6:53 - loss: 4.8973 - acc: 0.0000e+0 - ETA: 6:36 - loss: 4.8960 - acc: 0.0000e+0 - ETA: 6:24 - loss: 4.8951 - acc: 0.0000e+0 - ETA: 6:15 - loss: 4.8943 - acc: 0.0000e+0 - ETA: 6:08 - loss: 4.8928 - acc: 0.0000e+0 - ETA: 6:02 - loss: 4.8912 - acc: 0.0000e+0 - ETA: 5:57 - loss: 4.8896 - acc: 0.0045    - ETA: 5:53 - loss: 4.8887 - acc: 0.012 - ETA: 5:49 - loss: 4.8885 - acc: 0.011 - ETA: 5:45 - loss: 4.8899 - acc: 0.010 - ETA: 5:42 - loss: 4.8893 - acc: 0.010 - ETA: 5:39 - loss: 4.8923 - acc: 0.009 - ETA: 5:37 - loss: 4.8930 - acc: 0.008 - ETA: 5:34 - loss: 4.8923 - acc: 0.008 - ETA: 5:32 - loss: 4.8917 - acc: 0.007 - ETA: 5:30 - loss: 4.8915 - acc: 0.007 - ETA: 5:28 - loss: 4.8924 - acc: 0.009 - ETA: 5:26 - loss: 4.8917 - acc: 0.009 - ETA: 5:24 - loss: 4.8901 - acc: 0.010 - ETA: 5:23 - loss: 4.8889 - acc: 0.010 - ETA: 5:21 - loss: 4.8879 - acc: 0.010 - ETA: 5:19 - loss: 4.8860 - acc: 0.011 - ETA: 5:17 - loss: 4.8856 - acc: 0.013 - ETA: 5:16 - loss: 4.8877 - acc: 0.012 - ETA: 5:15 - loss: 4.8880 - acc: 0.012 - ETA: 5:13 - loss: 4.8881 - acc: 0.011 - ETA: 5:11 - loss: 4.8879 - acc: 0.011 - ETA: 5:10 - loss: 4.8882 - acc: 0.012 - ETA: 5:09 - loss: 4.8890 - acc: 0.012 - ETA: 5:07 - loss: 4.8892 - acc: 0.013 - ETA: 5:06 - loss: 4.8887 - acc: 0.012 - ETA: 5:05 - loss: 4.8878 - acc: 0.012 - ETA: 5:04 - loss: 4.8869 - acc: 0.012 - ETA: 5:03 - loss: 4.8876 - acc: 0.011 - ETA: 5:01 - loss: 4.8885 - acc: 0.011 - ETA: 5:00 - loss: 4.8891 - acc: 0.011 - ETA: 4:59 - loss: 4.8895 - acc: 0.011 - ETA: 4:57 - loss: 4.8890 - acc: 0.010 - ETA: 4:56 - loss: 4.8885 - acc: 0.010 - ETA: 4:55 - loss: 4.8894 - acc: 0.010 - ETA: 4:54 - loss: 4.8898 - acc: 0.010 - ETA: 4:53 - loss: 4.8902 - acc: 0.009 - ETA: 4:51 - loss: 4.8896 - acc: 0.010 - ETA: 4:50 - loss: 4.8897 - acc: 0.010 - ETA: 4:49 - loss: 4.8896 - acc: 0.011 - ETA: 4:48 - loss: 4.8897 - acc: 0.011 - ETA: 4:47 - loss: 4.8900 - acc: 0.010 - ETA: 4:46 - loss: 4.8902 - acc: 0.010 - ETA: 4:45 - loss: 4.8900 - acc: 0.010 - ETA: 4:43 - loss: 4.8902 - acc: 0.010 - ETA: 4:42 - loss: 4.8903 - acc: 0.010 - ETA: 4:41 - loss: 4.8900 - acc: 0.009 - ETA: 4:40 - loss: 4.8898 - acc: 0.009 - ETA: 4:39 - loss: 4.8893 - acc: 0.009 - ETA: 4:38 - loss: 4.8892 - acc: 0.009 - ETA: 4:36 - loss: 4.8888 - acc: 0.009 - ETA: 4:35 - loss: 4.8889 - acc: 0.009 - ETA: 4:34 - loss: 4.8887 - acc: 0.009 - ETA: 4:33 - loss: 4.8884 - acc: 0.009 - ETA: 4:32 - loss: 4.8885 - acc: 0.009 - ETA: 4:31 - loss: 4.8880 - acc: 0.010 - ETA: 4:30 - loss: 4.8877 - acc: 0.009 - ETA: 4:29 - loss: 4.8875 - acc: 0.009 - ETA: 4:28 - loss: 4.8881 - acc: 0.009 - ETA: 4:27 - loss: 4.8875 - acc: 0.009 - ETA: 4:26 - loss: 4.8878 - acc: 0.009 - ETA: 4:25 - loss: 4.8881 - acc: 0.009 - ETA: 4:24 - loss: 4.8887 - acc: 0.009 - ETA: 4:23 - loss: 4.8887 - acc: 0.008 - ETA: 4:22 - loss: 4.8886 - acc: 0.008 - ETA: 4:21 - loss: 4.8885 - acc: 0.009 - ETA: 4:20 - loss: 4.8882 - acc: 0.009 - ETA: 4:18 - loss: 4.8883 - acc: 0.009 - ETA: 4:17 - loss: 4.8884 - acc: 0.009 - ETA: 4:16 - loss: 4.8884 - acc: 0.008 - ETA: 4:15 - loss: 4.8890 - acc: 0.008 - ETA: 4:14 - loss: 4.8890 - acc: 0.009 - ETA: 4:13 - loss: 4.8893 - acc: 0.009 - ETA: 4:12 - loss: 4.8893 - acc: 0.009 - ETA: 4:11 - loss: 4.8895 - acc: 0.008 - ETA: 4:10 - loss: 4.8898 - acc: 0.008 - ETA: 4:09 - loss: 4.8897 - acc: 0.008 - ETA: 4:08 - loss: 4.8895 - acc: 0.008 - ETA: 4:07 - loss: 4.8897 - acc: 0.008 - ETA: 4:06 - loss: 4.8897 - acc: 0.009 - ETA: 4:05 - loss: 4.8896 - acc: 0.008 - ETA: 4:04 - loss: 4.8893 - acc: 0.008 - ETA: 4:03 - loss: 4.8893 - acc: 0.008 - ETA: 4:02 - loss: 4.8894 - acc: 0.008 - ETA: 4:01 - loss: 4.8893 - acc: 0.009 - ETA: 4:00 - loss: 4.8892 - acc: 0.009 - ETA: 3:59 - loss: 4.8889 - acc: 0.009 - ETA: 3:58 - loss: 4.8887 - acc: 0.009 - ETA: 3:57 - loss: 4.8888 - acc: 0.009 - ETA: 3:56 - loss: 4.8888 - acc: 0.009 - ETA: 3:55 - loss: 4.8888 - acc: 0.010 - ETA: 3:54 - loss: 4.8889 - acc: 0.009 - ETA: 3:53 - loss: 4.8891 - acc: 0.010 - ETA: 3:52 - loss: 4.8888 - acc: 0.010 - ETA: 3:51 - loss: 4.8888 - acc: 0.010 - ETA: 3:50 - loss: 4.8890 - acc: 0.010 - ETA: 3:49 - loss: 4.8890 - acc: 0.010 - ETA: 3:48 - loss: 4.8887 - acc: 0.010 - ETA: 3:47 - loss: 4.8886 - acc: 0.010 - ETA: 3:46 - loss: 4.8887 - acc: 0.010 - ETA: 3:45 - loss: 4.8887 - acc: 0.010 - ETA: 3:44 - loss: 4.8888 - acc: 0.010 - ETA: 3:43 - loss: 4.8885 - acc: 0.010 - ETA: 3:42 - loss: 4.8885 - acc: 0.010 - ETA: 3:41 - loss: 4.8884 - acc: 0.010 - ETA: 3:40 - loss: 4.8884 - acc: 0.010 - ETA: 3:39 - loss: 4.8883 - acc: 0.010 - ETA: 3:38 - loss: 4.8885 - acc: 0.010 - ETA: 3:37 - loss: 4.8885 - acc: 0.010 - ETA: 3:36 - loss: 4.8885 - acc: 0.010 - ETA: 3:35 - loss: 4.8881 - acc: 0.010 - ETA: 3:34 - loss: 4.8880 - acc: 0.010 - ETA: 3:33 - loss: 4.8882 - acc: 0.010 - ETA: 3:32 - loss: 4.8881 - acc: 0.011 - ETA: 3:31 - loss: 4.8884 - acc: 0.010 - ETA: 3:30 - loss: 4.8884 - acc: 0.011 - ETA: 3:29 - loss: 4.8885 - acc: 0.011 - ETA: 3:28 - loss: 4.8882 - acc: 0.011 - ETA: 3:27 - loss: 4.8885 - acc: 0.011 - ETA: 3:26 - loss: 4.8886 - acc: 0.011 - ETA: 3:25 - loss: 4.8885 - acc: 0.011 - ETA: 3:24 - loss: 4.8882 - acc: 0.011 - ETA: 3:23 - loss: 4.8884 - acc: 0.011 - ETA: 3:21 - loss: 4.8885 - acc: 0.010 - ETA: 3:20 - loss: 4.8885 - acc: 0.010 - ETA: 3:19 - loss: 4.8882 - acc: 0.010 - ETA: 3:18 - loss: 4.8884 - acc: 0.010 - ETA: 3:17 - loss: 4.8884 - acc: 0.010 - ETA: 3:16 - loss: 4.8884 - acc: 0.010 - ETA: 3:15 - loss: 4.8883 - acc: 0.010 - ETA: 3:14 - loss: 4.8881 - acc: 0.010 - ETA: 3:13 - loss: 4.8883 - acc: 0.010 - ETA: 3:12 - loss: 4.8887 - acc: 0.010 - ETA: 3:11 - loss: 4.8887 - acc: 0.010 - ETA: 3:10 - loss: 4.8888 - acc: 0.010 - ETA: 3:09 - loss: 4.8887 - acc: 0.010 - ETA: 3:08 - loss: 4.8887 - acc: 0.009 - ETA: 3:07 - loss: 4.8887 - acc: 0.009 - ETA: 3:06 - loss: 4.8887 - acc: 0.009 - ETA: 3:05 - loss: 4.8886 - acc: 0.010 - ETA: 3:04 - loss: 4.8886 - acc: 0.010 - ETA: 3:03 - loss: 4.8885 - acc: 0.009 - ETA: 3:02 - loss: 4.8887 - acc: 0.009 - ETA: 3:01 - loss: 4.8887 - acc: 0.009 - ETA: 3:00 - loss: 4.8887 - acc: 0.009 - ETA: 2:59 - loss: 4.8885 - acc: 0.010 - ETA: 2:58 - loss: 4.8882 - acc: 0.010 - ETA: 2:57 - loss: 4.8881 - acc: 0.010 - ETA: 2:56 - loss: 4.8881 - acc: 0.010 - ETA: 2:55 - loss: 4.8883 - acc: 0.010 - ETA: 2:54 - loss: 4.8882 - acc: 0.010 - ETA: 2:53 - loss: 4.8882 - acc: 0.009 - ETA: 2:52 - loss: 4.8883 - acc: 0.010 - ETA: 2:51 - loss: 4.8882 - acc: 0.010 - ETA: 2:50 - loss: 4.8883 - acc: 0.010 - ETA: 2:49 - loss: 4.8882 - acc: 0.010 - ETA: 2:48 - loss: 4.8883 - acc: 0.010 - ETA: 2:47 - loss: 4.8882 - acc: 0.010 - ETA: 2:46 - loss: 4.8881 - acc: 0.010 - ETA: 2:45 - loss: 4.8880 - acc: 0.010 - ETA: 2:44 - loss: 4.8880 - acc: 0.010 - ETA: 2:43 - loss: 4.8880 - acc: 0.010 - ETA: 2:42 - loss: 4.8880 - acc: 0.010 - ETA: 2:41 - loss: 4.8880 - acc: 0.010 - ETA: 2:40 - loss: 4.8877 - acc: 0.010 - ETA: 2:39 - loss: 4.8878 - acc: 0.010 - ETA: 2:38 - loss: 4.8879 - acc: 0.009 - ETA: 2:37 - loss: 4.8878 - acc: 0.010 - ETA: 2:36 - loss: 4.8876 - acc: 0.010 - ETA: 2:35 - loss: 4.8874 - acc: 0.010 - ETA: 2:34 - loss: 4.8873 - acc: 0.010 - ETA: 2:33 - loss: 4.8871 - acc: 0.010 - ETA: 2:32 - loss: 4.8870 - acc: 0.010 - ETA: 2:31 - loss: 4.8872 - acc: 0.010 - ETA: 2:30 - loss: 4.8871 - acc: 0.010 - ETA: 2:29 - loss: 4.8871 - acc: 0.010 - ETA: 2:28 - loss: 4.8871 - acc: 0.010 - ETA: 2:27 - loss: 4.8871 - acc: 0.010 - ETA: 2:26 - loss: 4.8869 - acc: 0.010 - ETA: 2:25 - loss: 4.8869 - acc: 0.010 - ETA: 2:24 - loss: 4.8867 - acc: 0.010 - ETA: 2:23 - loss: 4.8865 - acc: 0.010 - ETA: 2:22 - loss: 4.8865 - acc: 0.010 - ETA: 2:21 - loss: 4.8867 - acc: 0.010 - ETA: 2:20 - loss: 4.8869 - acc: 0.010 - ETA: 2:19 - loss: 4.8868 - acc: 0.010 - ETA: 2:18 - loss: 4.8868 - acc: 0.010 - ETA: 2:17 - loss: 4.8869 - acc: 0.010 - ETA: 2:16 - loss: 4.8871 - acc: 0.010 - ETA: 2:15 - loss: 4.8873 - acc: 0.010 - ETA: 2:14 - loss: 4.8874 - acc: 0.010 - ETA: 2:13 - loss: 4.8872 - acc: 0.010 - ETA: 2:12 - loss: 4.8874 - acc: 0.0106680/6680 [==============================] - ETA: 2:11 - loss: 4.8872 - acc: 0.011 - ETA: 2:10 - loss: 4.8871 - acc: 0.011 - ETA: 2:09 - loss: 4.8872 - acc: 0.011 - ETA: 2:08 - loss: 4.8871 - acc: 0.010 - ETA: 2:07 - loss: 4.8870 - acc: 0.010 - ETA: 2:06 - loss: 4.8869 - acc: 0.010 - ETA: 2:05 - loss: 4.8870 - acc: 0.010 - ETA: 2:04 - loss: 4.8869 - acc: 0.010 - ETA: 2:03 - loss: 4.8866 - acc: 0.010 - ETA: 2:02 - loss: 4.8866 - acc: 0.010 - ETA: 2:01 - loss: 4.8865 - acc: 0.010 - ETA: 2:00 - loss: 4.8865 - acc: 0.010 - ETA: 1:59 - loss: 4.8865 - acc: 0.010 - ETA: 1:58 - loss: 4.8864 - acc: 0.010 - ETA: 1:57 - loss: 4.8864 - acc: 0.010 - ETA: 1:56 - loss: 4.8862 - acc: 0.010 - ETA: 1:55 - loss: 4.8863 - acc: 0.010 - ETA: 1:54 - loss: 4.8862 - acc: 0.010 - ETA: 1:53 - loss: 4.8859 - acc: 0.010 - ETA: 1:52 - loss: 4.8857 - acc: 0.011 - ETA: 1:51 - loss: 4.8858 - acc: 0.011 - ETA: 1:50 - loss: 4.8858 - acc: 0.010 - ETA: 1:49 - loss: 4.8859 - acc: 0.011 - ETA: 1:48 - loss: 4.8862 - acc: 0.011 - ETA: 1:47 - loss: 4.8861 - acc: 0.011 - ETA: 1:46 - loss: 4.8863 - acc: 0.011 - ETA: 1:45 - loss: 4.8863 - acc: 0.011 - ETA: 1:44 - loss: 4.8862 - acc: 0.011 - ETA: 1:43 - loss: 4.8862 - acc: 0.011 - ETA: 1:42 - loss: 4.8861 - acc: 0.011 - ETA: 1:41 - loss: 4.8860 - acc: 0.010 - ETA: 1:40 - loss: 4.8859 - acc: 0.010 - ETA: 1:39 - loss: 4.8857 - acc: 0.010 - ETA: 1:38 - loss: 4.8854 - acc: 0.011 - ETA: 1:37 - loss: 4.8853 - acc: 0.011 - ETA: 1:36 - loss: 4.8849 - acc: 0.011 - ETA: 1:35 - loss: 4.8849 - acc: 0.011 - ETA: 1:34 - loss: 4.8847 - acc: 0.011 - ETA: 1:33 - loss: 4.8848 - acc: 0.011 - ETA: 1:32 - loss: 4.8849 - acc: 0.011 - ETA: 1:31 - loss: 4.8850 - acc: 0.011 - ETA: 1:30 - loss: 4.8851 - acc: 0.011 - ETA: 1:29 - loss: 4.8851 - acc: 0.011 - ETA: 1:28 - loss: 4.8850 - acc: 0.011 - ETA: 1:27 - loss: 4.8847 - acc: 0.011 - ETA: 1:26 - loss: 4.8849 - acc: 0.011 - ETA: 1:25 - loss: 4.8848 - acc: 0.011 - ETA: 1:24 - loss: 4.8845 - acc: 0.011 - ETA: 1:23 - loss: 4.8847 - acc: 0.011 - ETA: 1:22 - loss: 4.8844 - acc: 0.011 - ETA: 1:21 - loss: 4.8846 - acc: 0.011 - ETA: 1:20 - loss: 4.8846 - acc: 0.011 - ETA: 1:19 - loss: 4.8845 - acc: 0.011 - ETA: 1:18 - loss: 4.8845 - acc: 0.011 - ETA: 1:17 - loss: 4.8847 - acc: 0.011 - ETA: 1:16 - loss: 4.8847 - acc: 0.011 - ETA: 1:15 - loss: 4.8847 - acc: 0.011 - ETA: 1:14 - loss: 4.8848 - acc: 0.011 - ETA: 1:13 - loss: 4.8848 - acc: 0.011 - ETA: 1:12 - loss: 4.8850 - acc: 0.011 - ETA: 1:11 - loss: 4.8849 - acc: 0.011 - ETA: 1:10 - loss: 4.8849 - acc: 0.011 - ETA: 1:09 - loss: 4.8848 - acc: 0.011 - ETA: 1:08 - loss: 4.8848 - acc: 0.011 - ETA: 1:07 - loss: 4.8849 - acc: 0.011 - ETA: 1:06 - loss: 4.8850 - acc: 0.011 - ETA: 1:05 - loss: 4.8852 - acc: 0.011 - ETA: 1:04 - loss: 4.8851 - acc: 0.011 - ETA: 1:03 - loss: 4.8850 - acc: 0.011 - ETA: 1:02 - loss: 4.8849 - acc: 0.011 - ETA: 1:01 - loss: 4.8850 - acc: 0.011 - ETA: 1:00 - loss: 4.8850 - acc: 0.010 - ETA: 59s - loss: 4.8853 - acc: 0.010 - ETA: 58s - loss: 4.8853 - acc: 0.01 - ETA: 57s - loss: 4.8853 - acc: 0.01 - ETA: 56s - loss: 4.8855 - acc: 0.01 - ETA: 55s - loss: 4.8854 - acc: 0.01 - ETA: 54s - loss: 4.8853 - acc: 0.01 - ETA: 53s - loss: 4.8853 - acc: 0.01 - ETA: 52s - loss: 4.8852 - acc: 0.01 - ETA: 51s - loss: 4.8852 - acc: 0.01 - ETA: 50s - loss: 4.8852 - acc: 0.01 - ETA: 49s - loss: 4.8849 - acc: 0.01 - ETA: 48s - loss: 4.8849 - acc: 0.01 - ETA: 47s - loss: 4.8848 - acc: 0.01 - ETA: 46s - loss: 4.8847 - acc: 0.01 - ETA: 45s - loss: 4.8847 - acc: 0.01 - ETA: 44s - loss: 4.8847 - acc: 0.01 - ETA: 43s - loss: 4.8846 - acc: 0.01 - ETA: 42s - loss: 4.8845 - acc: 0.01 - ETA: 41s - loss: 4.8843 - acc: 0.01 - ETA: 40s - loss: 4.8844 - acc: 0.01 - ETA: 39s - loss: 4.8842 - acc: 0.01 - ETA: 38s - loss: 4.8845 - acc: 0.01 - ETA: 37s - loss: 4.8846 - acc: 0.01 - ETA: 36s - loss: 4.8847 - acc: 0.01 - ETA: 35s - loss: 4.8847 - acc: 0.01 - ETA: 34s - loss: 4.8848 - acc: 0.01 - ETA: 33s - loss: 4.8846 - acc: 0.01 - ETA: 32s - loss: 4.8848 - acc: 0.01 - ETA: 31s - loss: 4.8848 - acc: 0.01 - ETA: 30s - loss: 4.8849 - acc: 0.01 - ETA: 29s - loss: 4.8848 - acc: 0.01 - ETA: 28s - loss: 4.8849 - acc: 0.01 - ETA: 27s - loss: 4.8848 - acc: 0.01 - ETA: 26s - loss: 4.8849 - acc: 0.01 - ETA: 25s - loss: 4.8848 - acc: 0.01 - ETA: 24s - loss: 4.8847 - acc: 0.01 - ETA: 23s - loss: 4.8846 - acc: 0.01 - ETA: 22s - loss: 4.8846 - acc: 0.01 - ETA: 21s - loss: 4.8845 - acc: 0.01 - ETA: 20s - loss: 4.8845 - acc: 0.01 - ETA: 19s - loss: 4.8846 - acc: 0.01 - ETA: 18s - loss: 4.8845 - acc: 0.01 - ETA: 17s - loss: 4.8846 - acc: 0.01 - ETA: 16s - loss: 4.8844 - acc: 0.01 - ETA: 15s - loss: 4.8843 - acc: 0.01 - ETA: 14s - loss: 4.8843 - acc: 0.01 - ETA: 13s - loss: 4.8844 - acc: 0.01 - ETA: 12s - loss: 4.8844 - acc: 0.01 - ETA: 11s - loss: 4.8843 - acc: 0.01 - ETA: 10s - loss: 4.8842 - acc: 0.01 - ETA: 9s - loss: 4.8843 - acc: 0.0106 - ETA: 8s - loss: 4.8842 - acc: 0.010 - ETA: 7s - loss: 4.8844 - acc: 0.010 - ETA: 6s - loss: 4.8843 - acc: 0.010 - ETA: 5s - loss: 4.8845 - acc: 0.010 - ETA: 4s - loss: 4.8846 - acc: 0.010 - ETA: 3s - loss: 4.8846 - acc: 0.010 - ETA: 2s - loss: 4.8845 - acc: 0.010 - ETA: 1s - loss: 4.8845 - acc: 0.010 - 357s 53ms/step - loss: 4.8845 - acc: 0.0105 - val_loss: 4.8699 - val_acc: 0.0120\n",
      "\n",
      "Epoch 00001: val_loss improved from inf to 4.86985, saving model to saved_models/weights.best.from_scratch.hdf5\n",
      "Epoch 2/10\n"
     ]
    },
    {
     "name": "stdout",
     "output_type": "stream",
     "text": [
      "4080/6680 [=================>............] - ETA: 7:20 - loss: 4.9048 - acc: 0.0000e+0 - ETA: 6:13 - loss: 4.9136 - acc: 0.0000e+0 - ETA: 5:49 - loss: 4.9061 - acc: 0.0000e+0 - ETA: 5:47 - loss: 4.8898 - acc: 0.0125    - ETA: 5:43 - loss: 4.8931 - acc: 0.010 - ETA: 5:39 - loss: 4.8801 - acc: 0.008 - ETA: 5:49 - loss: 4.8748 - acc: 0.007 - ETA: 6:54 - loss: 4.8680 - acc: 0.012 - ETA: 7:05 - loss: 4.8650 - acc: 0.016 - ETA: 7:28 - loss: 4.8661 - acc: 0.015 - ETA: 7:22 - loss: 4.8678 - acc: 0.013 - ETA: 7:19 - loss: 4.8642 - acc: 0.016 - ETA: 7:15 - loss: 4.8659 - acc: 0.015 - ETA: 7:03 - loss: 4.8669 - acc: 0.017 - ETA: 6:53 - loss: 4.8660 - acc: 0.016 - ETA: 6:44 - loss: 4.8639 - acc: 0.015 - ETA: 6:37 - loss: 4.8616 - acc: 0.014 - ETA: 6:29 - loss: 4.8631 - acc: 0.013 - ETA: 6:23 - loss: 4.8636 - acc: 0.013 - ETA: 6:19 - loss: 4.8615 - acc: 0.012 - ETA: 6:14 - loss: 4.8644 - acc: 0.011 - ETA: 6:09 - loss: 4.8647 - acc: 0.011 - ETA: 6:04 - loss: 4.8684 - acc: 0.010 - ETA: 6:00 - loss: 4.8679 - acc: 0.010 - ETA: 5:56 - loss: 4.8701 - acc: 0.012 - ETA: 5:52 - loss: 4.8691 - acc: 0.011 - ETA: 5:49 - loss: 4.8707 - acc: 0.011 - ETA: 5:46 - loss: 4.8690 - acc: 0.010 - ETA: 5:44 - loss: 4.8698 - acc: 0.010 - ETA: 5:41 - loss: 4.8696 - acc: 0.010 - ETA: 5:38 - loss: 4.8687 - acc: 0.009 - ETA: 5:35 - loss: 4.8684 - acc: 0.010 - ETA: 5:32 - loss: 4.8681 - acc: 0.010 - ETA: 5:30 - loss: 4.8711 - acc: 0.010 - ETA: 5:28 - loss: 4.8715 - acc: 0.010 - ETA: 5:26 - loss: 4.8716 - acc: 0.009 - ETA: 5:24 - loss: 4.8721 - acc: 0.009 - ETA: 5:23 - loss: 4.8724 - acc: 0.009 - ETA: 5:21 - loss: 4.8708 - acc: 0.009 - ETA: 5:19 - loss: 4.8712 - acc: 0.010 - ETA: 5:17 - loss: 4.8701 - acc: 0.011 - ETA: 5:15 - loss: 4.8703 - acc: 0.013 - ETA: 5:14 - loss: 4.8729 - acc: 0.012 - ETA: 5:13 - loss: 4.8707 - acc: 0.013 - ETA: 5:11 - loss: 4.8714 - acc: 0.013 - ETA: 5:09 - loss: 4.8712 - acc: 0.013 - ETA: 5:07 - loss: 4.8716 - acc: 0.012 - ETA: 5:05 - loss: 4.8709 - acc: 0.012 - ETA: 5:03 - loss: 4.8706 - acc: 0.012 - ETA: 5:01 - loss: 4.8703 - acc: 0.012 - ETA: 5:00 - loss: 4.8699 - acc: 0.011 - ETA: 4:58 - loss: 4.8697 - acc: 0.011 - ETA: 4:56 - loss: 4.8698 - acc: 0.011 - ETA: 4:54 - loss: 4.8694 - acc: 0.011 - ETA: 4:53 - loss: 4.8676 - acc: 0.011 - ETA: 4:51 - loss: 4.8665 - acc: 0.011 - ETA: 4:50 - loss: 4.8660 - acc: 0.011 - ETA: 4:49 - loss: 4.8640 - acc: 0.012 - ETA: 4:47 - loss: 4.8632 - acc: 0.012 - ETA: 4:46 - loss: 4.8640 - acc: 0.012 - ETA: 4:45 - loss: 4.8623 - acc: 0.013 - ETA: 4:43 - loss: 4.8595 - acc: 0.014 - ETA: 4:42 - loss: 4.8593 - acc: 0.014 - ETA: 4:41 - loss: 4.8571 - acc: 0.014 - ETA: 4:41 - loss: 4.8584 - acc: 0.013 - ETA: 4:40 - loss: 4.8596 - acc: 0.013 - ETA: 4:39 - loss: 4.8584 - acc: 0.013 - ETA: 4:38 - loss: 4.8591 - acc: 0.014 - ETA: 4:37 - loss: 4.8604 - acc: 0.013 - ETA: 4:36 - loss: 4.8612 - acc: 0.013 - ETA: 4:35 - loss: 4.8611 - acc: 0.014 - ETA: 4:34 - loss: 4.8619 - acc: 0.013 - ETA: 4:33 - loss: 4.8626 - acc: 0.013 - ETA: 4:32 - loss: 4.8621 - acc: 0.013 - ETA: 4:31 - loss: 4.8620 - acc: 0.013 - ETA: 4:30 - loss: 4.8626 - acc: 0.013 - ETA: 4:29 - loss: 4.8629 - acc: 0.013 - ETA: 4:28 - loss: 4.8622 - acc: 0.014 - ETA: 4:27 - loss: 4.8623 - acc: 0.013 - ETA: 4:26 - loss: 4.8628 - acc: 0.013 - ETA: 4:25 - loss: 4.8626 - acc: 0.013 - ETA: 4:24 - loss: 4.8627 - acc: 0.013 - ETA: 4:23 - loss: 4.8626 - acc: 0.013 - ETA: 4:22 - loss: 4.8628 - acc: 0.013 - ETA: 4:20 - loss: 4.8627 - acc: 0.012 - ETA: 4:19 - loss: 4.8630 - acc: 0.012 - ETA: 4:18 - loss: 4.8627 - acc: 0.013 - ETA: 4:17 - loss: 4.8626 - acc: 0.013 - ETA: 4:16 - loss: 4.8631 - acc: 0.014 - ETA: 4:14 - loss: 4.8629 - acc: 0.013 - ETA: 4:13 - loss: 4.8635 - acc: 0.013 - ETA: 4:12 - loss: 4.8635 - acc: 0.013 - ETA: 4:11 - loss: 4.8643 - acc: 0.014 - ETA: 4:10 - loss: 4.8640 - acc: 0.013 - ETA: 4:08 - loss: 4.8633 - acc: 0.013 - ETA: 4:07 - loss: 4.8624 - acc: 0.014 - ETA: 4:06 - loss: 4.8621 - acc: 0.014 - ETA: 4:05 - loss: 4.8622 - acc: 0.014 - ETA: 4:04 - loss: 4.8616 - acc: 0.014 - ETA: 4:02 - loss: 4.8619 - acc: 0.015 - ETA: 4:01 - loss: 4.8623 - acc: 0.014 - ETA: 4:00 - loss: 4.8621 - acc: 0.014 - ETA: 3:58 - loss: 4.8625 - acc: 0.014 - ETA: 3:57 - loss: 4.8629 - acc: 0.014 - ETA: 3:56 - loss: 4.8626 - acc: 0.014 - ETA: 3:54 - loss: 4.8629 - acc: 0.014 - ETA: 3:53 - loss: 4.8621 - acc: 0.014 - ETA: 3:52 - loss: 4.8630 - acc: 0.014 - ETA: 3:51 - loss: 4.8623 - acc: 0.014 - ETA: 3:49 - loss: 4.8633 - acc: 0.014 - ETA: 3:48 - loss: 4.8633 - acc: 0.014 - ETA: 3:47 - loss: 4.8632 - acc: 0.013 - ETA: 3:46 - loss: 4.8633 - acc: 0.014 - ETA: 3:44 - loss: 4.8642 - acc: 0.014 - ETA: 3:43 - loss: 4.8646 - acc: 0.014 - ETA: 3:42 - loss: 4.8641 - acc: 0.014 - ETA: 3:41 - loss: 4.8642 - acc: 0.014 - ETA: 3:40 - loss: 4.8634 - acc: 0.014 - ETA: 3:38 - loss: 4.8637 - acc: 0.014 - ETA: 3:37 - loss: 4.8641 - acc: 0.014 - ETA: 3:36 - loss: 4.8638 - acc: 0.014 - ETA: 3:35 - loss: 4.8634 - acc: 0.014 - ETA: 3:34 - loss: 4.8636 - acc: 0.014 - ETA: 3:33 - loss: 4.8643 - acc: 0.014 - ETA: 3:31 - loss: 4.8644 - acc: 0.014 - ETA: 3:30 - loss: 4.8635 - acc: 0.014 - ETA: 3:29 - loss: 4.8634 - acc: 0.015 - ETA: 3:28 - loss: 4.8636 - acc: 0.014 - ETA: 3:27 - loss: 4.8643 - acc: 0.014 - ETA: 3:25 - loss: 4.8646 - acc: 0.014 - ETA: 3:24 - loss: 4.8642 - acc: 0.014 - ETA: 3:23 - loss: 4.8642 - acc: 0.014 - ETA: 3:22 - loss: 4.8642 - acc: 0.014 - ETA: 3:21 - loss: 4.8641 - acc: 0.014 - ETA: 3:20 - loss: 4.8637 - acc: 0.014 - ETA: 3:19 - loss: 4.8640 - acc: 0.014 - ETA: 3:19 - loss: 4.8640 - acc: 0.013 - ETA: 3:18 - loss: 4.8634 - acc: 0.014 - ETA: 3:17 - loss: 4.8638 - acc: 0.014 - ETA: 3:16 - loss: 4.8642 - acc: 0.013 - ETA: 3:15 - loss: 4.8635 - acc: 0.013 - ETA: 3:14 - loss: 4.8637 - acc: 0.013 - ETA: 3:13 - loss: 4.8647 - acc: 0.013 - ETA: 3:12 - loss: 4.8642 - acc: 0.013 - ETA: 3:11 - loss: 4.8647 - acc: 0.013 - ETA: 3:10 - loss: 4.8648 - acc: 0.013 - ETA: 3:10 - loss: 4.8649 - acc: 0.013 - ETA: 3:09 - loss: 4.8650 - acc: 0.013 - ETA: 3:08 - loss: 4.8642 - acc: 0.013 - ETA: 3:07 - loss: 4.8640 - acc: 0.013 - ETA: 3:06 - loss: 4.8637 - acc: 0.014 - ETA: 3:05 - loss: 4.8634 - acc: 0.014 - ETA: 3:05 - loss: 4.8636 - acc: 0.014 - ETA: 3:04 - loss: 4.8639 - acc: 0.014 - ETA: 3:03 - loss: 4.8639 - acc: 0.013 - ETA: 3:02 - loss: 4.8641 - acc: 0.013 - ETA: 3:01 - loss: 4.8643 - acc: 0.013 - ETA: 3:00 - loss: 4.8641 - acc: 0.014 - ETA: 2:59 - loss: 4.8641 - acc: 0.014 - ETA: 2:58 - loss: 4.8638 - acc: 0.014 - ETA: 2:57 - loss: 4.8641 - acc: 0.014 - ETA: 2:56 - loss: 4.8644 - acc: 0.013 - ETA: 2:55 - loss: 4.8644 - acc: 0.014 - ETA: 2:54 - loss: 4.8646 - acc: 0.014 - ETA: 2:53 - loss: 4.8641 - acc: 0.013 - ETA: 2:52 - loss: 4.8643 - acc: 0.013 - ETA: 2:51 - loss: 4.8645 - acc: 0.013 - ETA: 2:51 - loss: 4.8643 - acc: 0.013 - ETA: 2:50 - loss: 4.8647 - acc: 0.013 - ETA: 2:49 - loss: 4.8648 - acc: 0.013 - ETA: 2:47 - loss: 4.8646 - acc: 0.013 - ETA: 2:46 - loss: 4.8645 - acc: 0.013 - ETA: 2:45 - loss: 4.8649 - acc: 0.013 - ETA: 2:44 - loss: 4.8644 - acc: 0.013 - ETA: 2:43 - loss: 4.8639 - acc: 0.013 - ETA: 2:42 - loss: 4.8638 - acc: 0.013 - ETA: 2:41 - loss: 4.8642 - acc: 0.013 - ETA: 2:40 - loss: 4.8636 - acc: 0.013 - ETA: 2:39 - loss: 4.8637 - acc: 0.013 - ETA: 2:38 - loss: 4.8638 - acc: 0.013 - ETA: 2:37 - loss: 4.8641 - acc: 0.013 - ETA: 2:36 - loss: 4.8644 - acc: 0.013 - ETA: 2:35 - loss: 4.8647 - acc: 0.013 - ETA: 2:34 - loss: 4.8645 - acc: 0.013 - ETA: 2:33 - loss: 4.8644 - acc: 0.013 - ETA: 2:32 - loss: 4.8644 - acc: 0.013 - ETA: 2:31 - loss: 4.8643 - acc: 0.013 - ETA: 2:31 - loss: 4.8645 - acc: 0.013 - ETA: 2:30 - loss: 4.8650 - acc: 0.013 - ETA: 2:29 - loss: 4.8652 - acc: 0.013 - ETA: 2:28 - loss: 4.8654 - acc: 0.013 - ETA: 2:27 - loss: 4.8655 - acc: 0.013 - ETA: 2:26 - loss: 4.8655 - acc: 0.014 - ETA: 2:25 - loss: 4.8656 - acc: 0.013 - ETA: 2:24 - loss: 4.8659 - acc: 0.013 - ETA: 2:25 - loss: 4.8655 - acc: 0.013 - ETA: 2:24 - loss: 4.8655 - acc: 0.013 - ETA: 2:24 - loss: 4.8655 - acc: 0.013 - ETA: 2:23 - loss: 4.8653 - acc: 0.013 - ETA: 2:22 - loss: 4.8652 - acc: 0.013 - ETA: 2:22 - loss: 4.8652 - acc: 0.013 - ETA: 2:21 - loss: 4.8653 - acc: 0.014 - ETA: 2:20 - loss: 4.8651 - acc: 0.014 - ETA: 2:20 - loss: 4.8654 - acc: 0.0142"
     ]
    },
    {
     "name": "stdout",
     "output_type": "stream",
     "text": [
      "6680/6680 [==============================] - ETA: 2:19 - loss: 4.8654 - acc: 0.014 - ETA: 2:18 - loss: 4.8655 - acc: 0.014 - ETA: 2:17 - loss: 4.8653 - acc: 0.014 - ETA: 2:16 - loss: 4.8651 - acc: 0.014 - ETA: 2:15 - loss: 4.8648 - acc: 0.014 - ETA: 2:14 - loss: 4.8649 - acc: 0.014 - ETA: 2:13 - loss: 4.8654 - acc: 0.014 - ETA: 2:12 - loss: 4.8656 - acc: 0.014 - ETA: 2:11 - loss: 4.8660 - acc: 0.014 - ETA: 2:10 - loss: 4.8661 - acc: 0.014 - ETA: 2:09 - loss: 4.8662 - acc: 0.014 - ETA: 2:08 - loss: 4.8661 - acc: 0.014 - ETA: 2:07 - loss: 4.8660 - acc: 0.014 - ETA: 2:06 - loss: 4.8660 - acc: 0.014 - ETA: 2:05 - loss: 4.8663 - acc: 0.014 - ETA: 2:04 - loss: 4.8662 - acc: 0.014 - ETA: 2:03 - loss: 4.8663 - acc: 0.014 - ETA: 2:01 - loss: 4.8663 - acc: 0.014 - ETA: 2:00 - loss: 4.8661 - acc: 0.014 - ETA: 1:59 - loss: 4.8662 - acc: 0.014 - ETA: 1:58 - loss: 4.8660 - acc: 0.014 - ETA: 1:57 - loss: 4.8661 - acc: 0.014 - ETA: 1:56 - loss: 4.8662 - acc: 0.014 - ETA: 1:56 - loss: 4.8663 - acc: 0.014 - ETA: 1:54 - loss: 4.8664 - acc: 0.014 - ETA: 1:53 - loss: 4.8666 - acc: 0.013 - ETA: 1:52 - loss: 4.8666 - acc: 0.013 - ETA: 1:51 - loss: 4.8666 - acc: 0.013 - ETA: 1:50 - loss: 4.8667 - acc: 0.013 - ETA: 1:49 - loss: 4.8668 - acc: 0.013 - ETA: 1:48 - loss: 4.8665 - acc: 0.013 - ETA: 1:47 - loss: 4.8670 - acc: 0.013 - ETA: 1:46 - loss: 4.8670 - acc: 0.013 - ETA: 1:45 - loss: 4.8670 - acc: 0.013 - ETA: 1:44 - loss: 4.8671 - acc: 0.013 - ETA: 1:43 - loss: 4.8672 - acc: 0.013 - ETA: 1:42 - loss: 4.8675 - acc: 0.013 - ETA: 1:41 - loss: 4.8673 - acc: 0.013 - ETA: 1:40 - loss: 4.8672 - acc: 0.013 - ETA: 1:39 - loss: 4.8671 - acc: 0.013 - ETA: 1:38 - loss: 4.8673 - acc: 0.013 - ETA: 1:37 - loss: 4.8673 - acc: 0.013 - ETA: 1:36 - loss: 4.8675 - acc: 0.013 - ETA: 1:35 - loss: 4.8674 - acc: 0.013 - ETA: 1:33 - loss: 4.8673 - acc: 0.013 - ETA: 1:32 - loss: 4.8673 - acc: 0.013 - ETA: 1:31 - loss: 4.8672 - acc: 0.013 - ETA: 1:30 - loss: 4.8673 - acc: 0.013 - ETA: 1:29 - loss: 4.8675 - acc: 0.013 - ETA: 1:28 - loss: 4.8672 - acc: 0.013 - ETA: 1:27 - loss: 4.8671 - acc: 0.013 - ETA: 1:26 - loss: 4.8668 - acc: 0.013 - ETA: 1:25 - loss: 4.8669 - acc: 0.013 - ETA: 1:24 - loss: 4.8670 - acc: 0.013 - ETA: 1:23 - loss: 4.8669 - acc: 0.012 - ETA: 1:22 - loss: 4.8670 - acc: 0.012 - ETA: 1:21 - loss: 4.8670 - acc: 0.012 - ETA: 1:20 - loss: 4.8670 - acc: 0.012 - ETA: 1:18 - loss: 4.8671 - acc: 0.012 - ETA: 1:17 - loss: 4.8670 - acc: 0.012 - ETA: 1:16 - loss: 4.8667 - acc: 0.012 - ETA: 1:15 - loss: 4.8666 - acc: 0.012 - ETA: 1:14 - loss: 4.8665 - acc: 0.012 - ETA: 1:13 - loss: 4.8664 - acc: 0.012 - ETA: 1:12 - loss: 4.8663 - acc: 0.012 - ETA: 1:11 - loss: 4.8664 - acc: 0.012 - ETA: 1:10 - loss: 4.8664 - acc: 0.012 - ETA: 1:09 - loss: 4.8665 - acc: 0.012 - ETA: 1:08 - loss: 4.8665 - acc: 0.012 - ETA: 1:07 - loss: 4.8665 - acc: 0.012 - ETA: 1:06 - loss: 4.8667 - acc: 0.012 - ETA: 1:05 - loss: 4.8666 - acc: 0.012 - ETA: 1:04 - loss: 4.8667 - acc: 0.012 - ETA: 1:03 - loss: 4.8665 - acc: 0.012 - ETA: 1:02 - loss: 4.8666 - acc: 0.012 - ETA: 1:01 - loss: 4.8669 - acc: 0.012 - ETA: 1:00 - loss: 4.8669 - acc: 0.012 - ETA: 59s - loss: 4.8667 - acc: 0.012 - ETA: 58s - loss: 4.8665 - acc: 0.01 - ETA: 56s - loss: 4.8667 - acc: 0.01 - ETA: 55s - loss: 4.8668 - acc: 0.01 - ETA: 54s - loss: 4.8664 - acc: 0.01 - ETA: 53s - loss: 4.8665 - acc: 0.01 - ETA: 52s - loss: 4.8665 - acc: 0.01 - ETA: 51s - loss: 4.8664 - acc: 0.01 - ETA: 50s - loss: 4.8661 - acc: 0.01 - ETA: 49s - loss: 4.8659 - acc: 0.01 - ETA: 48s - loss: 4.8659 - acc: 0.01 - ETA: 47s - loss: 4.8659 - acc: 0.01 - ETA: 46s - loss: 4.8661 - acc: 0.01 - ETA: 44s - loss: 4.8658 - acc: 0.01 - ETA: 43s - loss: 4.8660 - acc: 0.01 - ETA: 42s - loss: 4.8659 - acc: 0.01 - ETA: 41s - loss: 4.8663 - acc: 0.01 - ETA: 40s - loss: 4.8663 - acc: 0.01 - ETA: 39s - loss: 4.8663 - acc: 0.01 - ETA: 38s - loss: 4.8665 - acc: 0.01 - ETA: 37s - loss: 4.8665 - acc: 0.01 - ETA: 35s - loss: 4.8666 - acc: 0.01 - ETA: 34s - loss: 4.8667 - acc: 0.01 - ETA: 33s - loss: 4.8668 - acc: 0.01 - ETA: 32s - loss: 4.8670 - acc: 0.01 - ETA: 31s - loss: 4.8670 - acc: 0.01 - ETA: 30s - loss: 4.8669 - acc: 0.01 - ETA: 29s - loss: 4.8668 - acc: 0.01 - ETA: 27s - loss: 4.8667 - acc: 0.01 - ETA: 26s - loss: 4.8668 - acc: 0.01 - ETA: 25s - loss: 4.8668 - acc: 0.01 - ETA: 24s - loss: 4.8665 - acc: 0.01 - ETA: 23s - loss: 4.8664 - acc: 0.01 - ETA: 22s - loss: 4.8667 - acc: 0.01 - ETA: 21s - loss: 4.8668 - acc: 0.01 - ETA: 19s - loss: 4.8671 - acc: 0.01 - ETA: 18s - loss: 4.8669 - acc: 0.01 - ETA: 17s - loss: 4.8668 - acc: 0.01 - ETA: 16s - loss: 4.8668 - acc: 0.01 - ETA: 15s - loss: 4.8672 - acc: 0.01 - ETA: 14s - loss: 4.8670 - acc: 0.01 - ETA: 12s - loss: 4.8671 - acc: 0.01 - ETA: 11s - loss: 4.8669 - acc: 0.01 - ETA: 10s - loss: 4.8669 - acc: 0.01 - ETA: 9s - loss: 4.8670 - acc: 0.0126 - ETA: 8s - loss: 4.8670 - acc: 0.012 - ETA: 7s - loss: 4.8672 - acc: 0.012 - ETA: 5s - loss: 4.8670 - acc: 0.012 - ETA: 4s - loss: 4.8669 - acc: 0.012 - ETA: 3s - loss: 4.8670 - acc: 0.012 - ETA: 2s - loss: 4.8670 - acc: 0.012 - ETA: 1s - loss: 4.8670 - acc: 0.012 - 419s 63ms/step - loss: 4.8669 - acc: 0.0124 - val_loss: 4.8570 - val_acc: 0.0216\n",
      "\n",
      "Epoch 00002: val_loss improved from 4.86985 to 4.85703, saving model to saved_models/weights.best.from_scratch.hdf5\n",
      "Epoch 3/10\n",
      "4080/6680 [=================>............] - ETA: 8:46 - loss: 4.8252 - acc: 0.050 - ETA: 8:40 - loss: 4.8125 - acc: 0.050 - ETA: 8:35 - loss: 4.8214 - acc: 0.033 - ETA: 8:31 - loss: 4.8182 - acc: 0.025 - ETA: 8:34 - loss: 4.8085 - acc: 0.020 - ETA: 8:31 - loss: 4.8209 - acc: 0.016 - ETA: 8:29 - loss: 4.8385 - acc: 0.014 - ETA: 8:24 - loss: 4.8376 - acc: 0.018 - ETA: 8:19 - loss: 4.8374 - acc: 0.016 - ETA: 8:16 - loss: 4.8385 - acc: 0.015 - ETA: 8:11 - loss: 4.8412 - acc: 0.013 - ETA: 8:09 - loss: 4.8336 - acc: 0.012 - ETA: 8:07 - loss: 4.8367 - acc: 0.011 - ETA: 8:08 - loss: 4.8368 - acc: 0.010 - ETA: 8:06 - loss: 4.8446 - acc: 0.010 - ETA: 8:05 - loss: 4.8445 - acc: 0.009 - ETA: 8:02 - loss: 4.8422 - acc: 0.011 - ETA: 7:59 - loss: 4.8399 - acc: 0.013 - ETA: 8:00 - loss: 4.8424 - acc: 0.013 - ETA: 7:59 - loss: 4.8402 - acc: 0.012 - ETA: 7:58 - loss: 4.8426 - acc: 0.011 - ETA: 7:57 - loss: 4.8428 - acc: 0.011 - ETA: 7:55 - loss: 4.8419 - acc: 0.010 - ETA: 7:53 - loss: 4.8416 - acc: 0.012 - ETA: 7:50 - loss: 4.8429 - acc: 0.012 - ETA: 7:48 - loss: 4.8412 - acc: 0.013 - ETA: 7:45 - loss: 4.8422 - acc: 0.014 - ETA: 7:44 - loss: 4.8391 - acc: 0.017 - ETA: 7:42 - loss: 4.8374 - acc: 0.017 - ETA: 7:39 - loss: 4.8380 - acc: 0.016 - ETA: 7:38 - loss: 4.8373 - acc: 0.017 - ETA: 7:35 - loss: 4.8377 - acc: 0.017 - ETA: 7:34 - loss: 4.8368 - acc: 0.016 - ETA: 7:32 - loss: 4.8358 - acc: 0.016 - ETA: 7:29 - loss: 4.8319 - acc: 0.015 - ETA: 7:28 - loss: 4.8328 - acc: 0.015 - ETA: 7:26 - loss: 4.8343 - acc: 0.014 - ETA: 7:24 - loss: 4.8361 - acc: 0.014 - ETA: 7:22 - loss: 4.8365 - acc: 0.014 - ETA: 7:21 - loss: 4.8381 - acc: 0.013 - ETA: 7:19 - loss: 4.8392 - acc: 0.013 - ETA: 7:17 - loss: 4.8378 - acc: 0.013 - ETA: 7:15 - loss: 4.8368 - acc: 0.015 - ETA: 7:13 - loss: 4.8387 - acc: 0.014 - ETA: 7:12 - loss: 4.8383 - acc: 0.014 - ETA: 7:09 - loss: 4.8385 - acc: 0.014 - ETA: 7:07 - loss: 4.8380 - acc: 0.013 - ETA: 7:05 - loss: 4.8377 - acc: 0.014 - ETA: 7:04 - loss: 4.8383 - acc: 0.014 - ETA: 7:02 - loss: 4.8382 - acc: 0.014 - ETA: 7:01 - loss: 4.8413 - acc: 0.013 - ETA: 7:00 - loss: 4.8415 - acc: 0.014 - ETA: 6:58 - loss: 4.8419 - acc: 0.014 - ETA: 6:56 - loss: 4.8415 - acc: 0.013 - ETA: 6:54 - loss: 4.8423 - acc: 0.013 - ETA: 6:53 - loss: 4.8418 - acc: 0.013 - ETA: 6:50 - loss: 4.8411 - acc: 0.013 - ETA: 6:49 - loss: 4.8408 - acc: 0.013 - ETA: 6:47 - loss: 4.8401 - acc: 0.013 - ETA: 6:46 - loss: 4.8415 - acc: 0.014 - ETA: 6:44 - loss: 4.8412 - acc: 0.014 - ETA: 6:43 - loss: 4.8413 - acc: 0.014 - ETA: 6:41 - loss: 4.8411 - acc: 0.014 - ETA: 6:40 - loss: 4.8407 - acc: 0.014 - ETA: 6:39 - loss: 4.8406 - acc: 0.014 - ETA: 6:37 - loss: 4.8415 - acc: 0.014 - ETA: 6:36 - loss: 4.8411 - acc: 0.014 - ETA: 6:34 - loss: 4.8419 - acc: 0.014 - ETA: 6:33 - loss: 4.8428 - acc: 0.013 - ETA: 6:32 - loss: 4.8426 - acc: 0.013 - ETA: 6:30 - loss: 4.8428 - acc: 0.013 - ETA: 6:29 - loss: 4.8427 - acc: 0.013 - ETA: 6:28 - loss: 4.8429 - acc: 0.013 - ETA: 6:28 - loss: 4.8428 - acc: 0.012 - ETA: 6:26 - loss: 4.8438 - acc: 0.012 - ETA: 6:25 - loss: 4.8448 - acc: 0.013 - ETA: 6:24 - loss: 4.8447 - acc: 0.013 - ETA: 6:22 - loss: 4.8453 - acc: 0.014 - ETA: 6:21 - loss: 4.8457 - acc: 0.013 - ETA: 6:20 - loss: 4.8459 - acc: 0.013 - ETA: 6:18 - loss: 4.8463 - acc: 0.013 - ETA: 6:17 - loss: 4.8467 - acc: 0.013 - ETA: 6:16 - loss: 4.8465 - acc: 0.013 - ETA: 6:14 - loss: 4.8466 - acc: 0.013 - ETA: 6:14 - loss: 4.8459 - acc: 0.012 - ETA: 6:12 - loss: 4.8453 - acc: 0.012 - ETA: 6:11 - loss: 4.8456 - acc: 0.013 - ETA: 6:09 - loss: 4.8442 - acc: 0.013 - ETA: 6:08 - loss: 4.8447 - acc: 0.014 - ETA: 6:08 - loss: 4.8457 - acc: 0.013 - ETA: 6:07 - loss: 4.8458 - acc: 0.013 - ETA: 6:06 - loss: 4.8460 - acc: 0.014 - ETA: 6:05 - loss: 4.8468 - acc: 0.014 - ETA: 6:04 - loss: 4.8465 - acc: 0.013 - ETA: 6:02 - loss: 4.8471 - acc: 0.013 - ETA: 6:01 - loss: 4.8461 - acc: 0.014 - ETA: 6:00 - loss: 4.8454 - acc: 0.013 - ETA: 5:58 - loss: 4.8445 - acc: 0.014 - ETA: 5:57 - loss: 4.8456 - acc: 0.014 - ETA: 5:54 - loss: 4.8458 - acc: 0.014 - ETA: 5:52 - loss: 4.8458 - acc: 0.014 - ETA: 5:49 - loss: 4.8473 - acc: 0.014 - ETA: 5:47 - loss: 4.8468 - acc: 0.014 - ETA: 5:44 - loss: 4.8472 - acc: 0.014 - ETA: 5:42 - loss: 4.8467 - acc: 0.014 - ETA: 5:40 - loss: 4.8464 - acc: 0.014 - ETA: 5:37 - loss: 4.8464 - acc: 0.014 - ETA: 5:35 - loss: 4.8457 - acc: 0.014 - ETA: 5:33 - loss: 4.8457 - acc: 0.015 - ETA: 5:30 - loss: 4.8451 - acc: 0.015 - ETA: 5:28 - loss: 4.8446 - acc: 0.015 - ETA: 5:26 - loss: 4.8436 - acc: 0.015 - ETA: 5:23 - loss: 4.8436 - acc: 0.015 - ETA: 5:21 - loss: 4.8435 - acc: 0.014 - ETA: 5:19 - loss: 4.8439 - acc: 0.014 - ETA: 5:17 - loss: 4.8439 - acc: 0.014 - ETA: 5:14 - loss: 4.8446 - acc: 0.014 - ETA: 5:12 - loss: 4.8435 - acc: 0.015 - ETA: 5:10 - loss: 4.8423 - acc: 0.015 - ETA: 5:08 - loss: 4.8428 - acc: 0.015 - ETA: 5:06 - loss: 4.8422 - acc: 0.014 - ETA: 5:03 - loss: 4.8421 - acc: 0.014 - ETA: 5:01 - loss: 4.8424 - acc: 0.014 - ETA: 4:59 - loss: 4.8428 - acc: 0.014 - ETA: 4:58 - loss: 4.8434 - acc: 0.014 - ETA: 4:56 - loss: 4.8432 - acc: 0.014 - ETA: 4:54 - loss: 4.8421 - acc: 0.015 - ETA: 4:53 - loss: 4.8422 - acc: 0.015 - ETA: 4:52 - loss: 4.8413 - acc: 0.015 - ETA: 4:50 - loss: 4.8412 - acc: 0.015 - ETA: 4:48 - loss: 4.8414 - acc: 0.015 - ETA: 4:46 - loss: 4.8422 - acc: 0.015 - ETA: 4:45 - loss: 4.8422 - acc: 0.015 - ETA: 4:43 - loss: 4.8422 - acc: 0.015 - ETA: 4:41 - loss: 4.8421 - acc: 0.015 - ETA: 4:39 - loss: 4.8420 - acc: 0.015 - ETA: 4:38 - loss: 4.8419 - acc: 0.015 - ETA: 4:36 - loss: 4.8415 - acc: 0.015 - ETA: 4:34 - loss: 4.8414 - acc: 0.015 - ETA: 4:33 - loss: 4.8419 - acc: 0.015 - ETA: 4:31 - loss: 4.8423 - acc: 0.015 - ETA: 4:29 - loss: 4.8423 - acc: 0.015 - ETA: 4:27 - loss: 4.8419 - acc: 0.015 - ETA: 4:26 - loss: 4.8418 - acc: 0.014 - ETA: 4:24 - loss: 4.8419 - acc: 0.014 - ETA: 4:22 - loss: 4.8418 - acc: 0.014 - ETA: 4:20 - loss: 4.8418 - acc: 0.014 - ETA: 4:19 - loss: 4.8422 - acc: 0.014 - ETA: 4:17 - loss: 4.8429 - acc: 0.014 - ETA: 4:15 - loss: 4.8428 - acc: 0.014 - ETA: 4:13 - loss: 4.8432 - acc: 0.014 - ETA: 4:11 - loss: 4.8436 - acc: 0.014 - ETA: 4:09 - loss: 4.8430 - acc: 0.014 - ETA: 4:07 - loss: 4.8432 - acc: 0.014 - ETA: 4:06 - loss: 4.8436 - acc: 0.014 - ETA: 4:04 - loss: 4.8430 - acc: 0.014 - ETA: 4:03 - loss: 4.8423 - acc: 0.014 - ETA: 4:01 - loss: 4.8423 - acc: 0.014 - ETA: 4:00 - loss: 4.8429 - acc: 0.014 - ETA: 3:58 - loss: 4.8429 - acc: 0.014 - ETA: 3:56 - loss: 4.8427 - acc: 0.014 - ETA: 3:55 - loss: 4.8432 - acc: 0.014 - ETA: 3:53 - loss: 4.8441 - acc: 0.014 - ETA: 3:52 - loss: 4.8441 - acc: 0.014 - ETA: 3:51 - loss: 4.8435 - acc: 0.014 - ETA: 3:49 - loss: 4.8436 - acc: 0.014 - ETA: 3:48 - loss: 4.8432 - acc: 0.014 - ETA: 3:46 - loss: 4.8429 - acc: 0.014 - ETA: 3:45 - loss: 4.8425 - acc: 0.013 - ETA: 3:43 - loss: 4.8419 - acc: 0.014 - ETA: 3:42 - loss: 4.8416 - acc: 0.014 - ETA: 3:40 - loss: 4.8410 - acc: 0.014 - ETA: 3:38 - loss: 4.8412 - acc: 0.014 - ETA: 3:37 - loss: 4.8413 - acc: 0.014 - ETA: 3:35 - loss: 4.8412 - acc: 0.014 - ETA: 3:34 - loss: 4.8410 - acc: 0.014 - ETA: 3:32 - loss: 4.8405 - acc: 0.014 - ETA: 3:30 - loss: 4.8404 - acc: 0.014 - ETA: 3:29 - loss: 4.8400 - acc: 0.014 - ETA: 3:27 - loss: 4.8401 - acc: 0.014 - ETA: 3:26 - loss: 4.8399 - acc: 0.014 - ETA: 3:24 - loss: 4.8399 - acc: 0.014 - ETA: 3:23 - loss: 4.8396 - acc: 0.013 - ETA: 3:21 - loss: 4.8392 - acc: 0.013 - ETA: 3:19 - loss: 4.8398 - acc: 0.013 - ETA: 3:18 - loss: 4.8395 - acc: 0.014 - ETA: 3:17 - loss: 4.8390 - acc: 0.014 - ETA: 3:15 - loss: 4.8386 - acc: 0.014 - ETA: 3:13 - loss: 4.8387 - acc: 0.014 - ETA: 3:12 - loss: 4.8381 - acc: 0.014 - ETA: 3:10 - loss: 4.8384 - acc: 0.014 - ETA: 3:09 - loss: 4.8379 - acc: 0.014 - ETA: 3:07 - loss: 4.8381 - acc: 0.014 - ETA: 3:06 - loss: 4.8380 - acc: 0.014 - ETA: 3:04 - loss: 4.8380 - acc: 0.014 - ETA: 3:03 - loss: 4.8376 - acc: 0.014 - ETA: 3:01 - loss: 4.8377 - acc: 0.014 - ETA: 3:00 - loss: 4.8375 - acc: 0.014 - ETA: 2:59 - loss: 4.8370 - acc: 0.015 - ETA: 2:57 - loss: 4.8370 - acc: 0.015 - ETA: 2:56 - loss: 4.8365 - acc: 0.014 - ETA: 2:54 - loss: 4.8365 - acc: 0.014 - ETA: 2:53 - loss: 4.8368 - acc: 0.014 - ETA: 2:51 - loss: 4.8371 - acc: 0.01476680/6680 [==============================] - ETA: 2:50 - loss: 4.8376 - acc: 0.014 - ETA: 2:48 - loss: 4.8371 - acc: 0.014 - ETA: 2:47 - loss: 4.8369 - acc: 0.014 - ETA: 2:45 - loss: 4.8374 - acc: 0.014 - ETA: 2:44 - loss: 4.8372 - acc: 0.014 - ETA: 2:42 - loss: 4.8371 - acc: 0.014 - ETA: 2:41 - loss: 4.8363 - acc: 0.014 - ETA: 2:40 - loss: 4.8362 - acc: 0.014 - ETA: 2:38 - loss: 4.8361 - acc: 0.014 - ETA: 2:37 - loss: 4.8360 - acc: 0.014 - ETA: 2:35 - loss: 4.8361 - acc: 0.014 - ETA: 2:34 - loss: 4.8363 - acc: 0.014 - ETA: 2:32 - loss: 4.8361 - acc: 0.014 - ETA: 2:31 - loss: 4.8362 - acc: 0.014 - ETA: 2:30 - loss: 4.8356 - acc: 0.014 - ETA: 2:28 - loss: 4.8358 - acc: 0.014 - ETA: 2:27 - loss: 4.8357 - acc: 0.014 - ETA: 2:25 - loss: 4.8361 - acc: 0.014 - ETA: 2:24 - loss: 4.8369 - acc: 0.014 - ETA: 2:22 - loss: 4.8367 - acc: 0.014 - ETA: 2:21 - loss: 4.8362 - acc: 0.014 - ETA: 2:20 - loss: 4.8363 - acc: 0.014 - ETA: 2:18 - loss: 4.8367 - acc: 0.014 - ETA: 2:17 - loss: 4.8372 - acc: 0.014 - ETA: 2:16 - loss: 4.8367 - acc: 0.014 - ETA: 2:14 - loss: 4.8370 - acc: 0.014 - ETA: 2:13 - loss: 4.8372 - acc: 0.014 - ETA: 2:12 - loss: 4.8367 - acc: 0.014 - ETA: 2:10 - loss: 4.8358 - acc: 0.015 - ETA: 2:09 - loss: 4.8364 - acc: 0.015 - ETA: 2:07 - loss: 4.8360 - acc: 0.015 - ETA: 2:06 - loss: 4.8361 - acc: 0.015 - ETA: 2:05 - loss: 4.8358 - acc: 0.015 - ETA: 2:03 - loss: 4.8363 - acc: 0.015 - ETA: 2:02 - loss: 4.8363 - acc: 0.015 - ETA: 2:01 - loss: 4.8357 - acc: 0.015 - ETA: 1:59 - loss: 4.8357 - acc: 0.015 - ETA: 1:58 - loss: 4.8360 - acc: 0.015 - ETA: 1:56 - loss: 4.8359 - acc: 0.015 - ETA: 1:55 - loss: 4.8359 - acc: 0.015 - ETA: 1:54 - loss: 4.8360 - acc: 0.015 - ETA: 1:52 - loss: 4.8359 - acc: 0.015 - ETA: 1:51 - loss: 4.8365 - acc: 0.015 - ETA: 1:50 - loss: 4.8365 - acc: 0.015 - ETA: 1:48 - loss: 4.8364 - acc: 0.015 - ETA: 1:47 - loss: 4.8366 - acc: 0.015 - ETA: 1:46 - loss: 4.8364 - acc: 0.015 - ETA: 1:44 - loss: 4.8366 - acc: 0.015 - ETA: 1:43 - loss: 4.8369 - acc: 0.016 - ETA: 1:42 - loss: 4.8365 - acc: 0.016 - ETA: 1:40 - loss: 4.8363 - acc: 0.016 - ETA: 1:39 - loss: 4.8359 - acc: 0.016 - ETA: 1:38 - loss: 4.8360 - acc: 0.016 - ETA: 1:36 - loss: 4.8362 - acc: 0.015 - ETA: 1:35 - loss: 4.8362 - acc: 0.015 - ETA: 1:34 - loss: 4.8362 - acc: 0.015 - ETA: 1:32 - loss: 4.8360 - acc: 0.015 - ETA: 1:31 - loss: 4.8361 - acc: 0.015 - ETA: 1:30 - loss: 4.8360 - acc: 0.015 - ETA: 1:28 - loss: 4.8360 - acc: 0.015 - ETA: 1:27 - loss: 4.8360 - acc: 0.015 - ETA: 1:26 - loss: 4.8359 - acc: 0.015 - ETA: 1:24 - loss: 4.8360 - acc: 0.015 - ETA: 1:23 - loss: 4.8358 - acc: 0.015 - ETA: 1:22 - loss: 4.8355 - acc: 0.015 - ETA: 1:21 - loss: 4.8352 - acc: 0.015 - ETA: 1:19 - loss: 4.8346 - acc: 0.015 - ETA: 1:18 - loss: 4.8342 - acc: 0.015 - ETA: 1:17 - loss: 4.8342 - acc: 0.015 - ETA: 1:15 - loss: 4.8339 - acc: 0.015 - ETA: 1:14 - loss: 4.8331 - acc: 0.015 - ETA: 1:13 - loss: 4.8330 - acc: 0.015 - ETA: 1:11 - loss: 4.8331 - acc: 0.015 - ETA: 1:10 - loss: 4.8331 - acc: 0.015 - ETA: 1:09 - loss: 4.8333 - acc: 0.015 - ETA: 1:08 - loss: 4.8334 - acc: 0.015 - ETA: 1:06 - loss: 4.8334 - acc: 0.015 - ETA: 1:05 - loss: 4.8329 - acc: 0.015 - ETA: 1:04 - loss: 4.8332 - acc: 0.015 - ETA: 1:02 - loss: 4.8332 - acc: 0.015 - ETA: 1:01 - loss: 4.8328 - acc: 0.015 - ETA: 1:00 - loss: 4.8328 - acc: 0.015 - ETA: 59s - loss: 4.8330 - acc: 0.015 - ETA: 57s - loss: 4.8322 - acc: 0.01 - ETA: 56s - loss: 4.8324 - acc: 0.01 - ETA: 55s - loss: 4.8324 - acc: 0.01 - ETA: 53s - loss: 4.8324 - acc: 0.01 - ETA: 52s - loss: 4.8325 - acc: 0.01 - ETA: 51s - loss: 4.8320 - acc: 0.01 - ETA: 49s - loss: 4.8322 - acc: 0.01 - ETA: 48s - loss: 4.8321 - acc: 0.01 - ETA: 47s - loss: 4.8318 - acc: 0.01 - ETA: 46s - loss: 4.8317 - acc: 0.01 - ETA: 44s - loss: 4.8314 - acc: 0.01 - ETA: 43s - loss: 4.8314 - acc: 0.01 - ETA: 42s - loss: 4.8318 - acc: 0.01 - ETA: 41s - loss: 4.8312 - acc: 0.01 - ETA: 39s - loss: 4.8315 - acc: 0.01 - ETA: 38s - loss: 4.8315 - acc: 0.01 - ETA: 37s - loss: 4.8311 - acc: 0.01 - ETA: 35s - loss: 4.8306 - acc: 0.01 - ETA: 34s - loss: 4.8306 - acc: 0.01 - ETA: 33s - loss: 4.8306 - acc: 0.01 - ETA: 32s - loss: 4.8311 - acc: 0.01 - ETA: 30s - loss: 4.8314 - acc: 0.01 - ETA: 29s - loss: 4.8312 - acc: 0.01 - ETA: 28s - loss: 4.8311 - acc: 0.01 - ETA: 27s - loss: 4.8308 - acc: 0.01 - ETA: 25s - loss: 4.8305 - acc: 0.01 - ETA: 24s - loss: 4.8308 - acc: 0.01 - ETA: 23s - loss: 4.8308 - acc: 0.01 - ETA: 22s - loss: 4.8303 - acc: 0.01 - ETA: 20s - loss: 4.8299 - acc: 0.01 - ETA: 19s - loss: 4.8296 - acc: 0.01 - ETA: 18s - loss: 4.8294 - acc: 0.01 - ETA: 17s - loss: 4.8297 - acc: 0.01 - ETA: 16s - loss: 4.8300 - acc: 0.01 - ETA: 14s - loss: 4.8303 - acc: 0.01 - ETA: 13s - loss: 4.8307 - acc: 0.01 - ETA: 12s - loss: 4.8306 - acc: 0.01 - ETA: 11s - loss: 4.8307 - acc: 0.01 - ETA: 9s - loss: 4.8311 - acc: 0.0164 - ETA: 8s - loss: 4.8307 - acc: 0.016 - ETA: 7s - loss: 4.8305 - acc: 0.016 - ETA: 6s - loss: 4.8307 - acc: 0.016 - ETA: 4s - loss: 4.8309 - acc: 0.016 - ETA: 3s - loss: 4.8310 - acc: 0.016 - ETA: 2s - loss: 4.8311 - acc: 0.016 - ETA: 1s - loss: 4.8311 - acc: 0.016 - 427s 64ms/step - loss: 4.8312 - acc: 0.0163 - val_loss: 4.8165 - val_acc: 0.0204\n",
      "\n",
      "Epoch 00003: val_loss improved from 4.85703 to 4.81646, saving model to saved_models/weights.best.from_scratch.hdf5\n",
      "Epoch 4/10\n"
     ]
    },
    {
     "name": "stdout",
     "output_type": "stream",
     "text": [
      "4080/6680 [=================>............] - ETA: 5:34 - loss: 4.7087 - acc: 0.050 - ETA: 5:37 - loss: 4.7049 - acc: 0.050 - ETA: 5:35 - loss: 4.7214 - acc: 0.033 - ETA: 5:38 - loss: 4.7302 - acc: 0.025 - ETA: 5:38 - loss: 4.7377 - acc: 0.020 - ETA: 5:39 - loss: 4.7433 - acc: 0.033 - ETA: 5:40 - loss: 4.7663 - acc: 0.028 - ETA: 5:45 - loss: 4.7702 - acc: 0.025 - ETA: 5:47 - loss: 4.7808 - acc: 0.022 - ETA: 5:45 - loss: 4.7745 - acc: 0.025 - ETA: 5:43 - loss: 4.7728 - acc: 0.022 - ETA: 5:42 - loss: 4.7817 - acc: 0.020 - ETA: 5:40 - loss: 4.7746 - acc: 0.019 - ETA: 5:39 - loss: 4.7654 - acc: 0.021 - ETA: 5:38 - loss: 4.7704 - acc: 0.020 - ETA: 5:36 - loss: 4.7618 - acc: 0.025 - ETA: 5:35 - loss: 4.7662 - acc: 0.023 - ETA: 5:34 - loss: 4.7638 - acc: 0.022 - ETA: 5:32 - loss: 4.7623 - acc: 0.023 - ETA: 5:31 - loss: 4.7623 - acc: 0.022 - ETA: 5:30 - loss: 4.7586 - acc: 0.023 - ETA: 5:28 - loss: 4.7661 - acc: 0.022 - ETA: 5:27 - loss: 4.7645 - acc: 0.021 - ETA: 5:26 - loss: 4.7740 - acc: 0.020 - ETA: 5:24 - loss: 4.7685 - acc: 0.020 - ETA: 5:23 - loss: 4.7679 - acc: 0.019 - ETA: 5:22 - loss: 4.7678 - acc: 0.018 - ETA: 5:20 - loss: 4.7736 - acc: 0.019 - ETA: 5:19 - loss: 4.7728 - acc: 0.019 - ETA: 5:18 - loss: 4.7746 - acc: 0.018 - ETA: 5:16 - loss: 4.7745 - acc: 0.017 - ETA: 5:15 - loss: 4.7738 - acc: 0.017 - ETA: 5:14 - loss: 4.7711 - acc: 0.016 - ETA: 5:13 - loss: 4.7738 - acc: 0.016 - ETA: 5:12 - loss: 4.7718 - acc: 0.017 - ETA: 5:10 - loss: 4.7670 - acc: 0.019 - ETA: 5:10 - loss: 4.7684 - acc: 0.020 - ETA: 5:09 - loss: 4.7642 - acc: 0.019 - ETA: 5:08 - loss: 4.7644 - acc: 0.019 - ETA: 5:06 - loss: 4.7636 - acc: 0.018 - ETA: 5:05 - loss: 4.7612 - acc: 0.018 - ETA: 5:04 - loss: 4.7635 - acc: 0.017 - ETA: 5:03 - loss: 4.7655 - acc: 0.018 - ETA: 5:02 - loss: 4.7651 - acc: 0.019 - ETA: 5:02 - loss: 4.7653 - acc: 0.018 - ETA: 5:01 - loss: 4.7668 - acc: 0.019 - ETA: 5:00 - loss: 4.7662 - acc: 0.019 - ETA: 4:59 - loss: 4.7646 - acc: 0.018 - ETA: 4:57 - loss: 4.7665 - acc: 0.018 - ETA: 4:56 - loss: 4.7676 - acc: 0.018 - ETA: 4:55 - loss: 4.7686 - acc: 0.017 - ETA: 4:54 - loss: 4.7721 - acc: 0.017 - ETA: 4:53 - loss: 4.7736 - acc: 0.017 - ETA: 4:52 - loss: 4.7721 - acc: 0.017 - ETA: 4:51 - loss: 4.7690 - acc: 0.017 - ETA: 4:50 - loss: 4.7706 - acc: 0.017 - ETA: 4:49 - loss: 4.7702 - acc: 0.017 - ETA: 4:48 - loss: 4.7698 - acc: 0.017 - ETA: 4:47 - loss: 4.7708 - acc: 0.016 - ETA: 4:46 - loss: 4.7707 - acc: 0.016 - ETA: 4:44 - loss: 4.7700 - acc: 0.016 - ETA: 4:44 - loss: 4.7728 - acc: 0.016 - ETA: 4:43 - loss: 4.7749 - acc: 0.015 - ETA: 4:42 - loss: 4.7766 - acc: 0.016 - ETA: 4:41 - loss: 4.7801 - acc: 0.016 - ETA: 4:40 - loss: 4.7829 - acc: 0.015 - ETA: 4:39 - loss: 4.7822 - acc: 0.015 - ETA: 4:38 - loss: 4.7837 - acc: 0.015 - ETA: 4:37 - loss: 4.7825 - acc: 0.015 - ETA: 4:36 - loss: 4.7828 - acc: 0.015 - ETA: 4:35 - loss: 4.7824 - acc: 0.015 - ETA: 4:34 - loss: 4.7821 - acc: 0.015 - ETA: 4:32 - loss: 4.7831 - acc: 0.016 - ETA: 4:31 - loss: 4.7816 - acc: 0.016 - ETA: 4:30 - loss: 4.7820 - acc: 0.016 - ETA: 4:29 - loss: 4.7812 - acc: 0.016 - ETA: 4:28 - loss: 4.7823 - acc: 0.016 - ETA: 4:27 - loss: 4.7829 - acc: 0.016 - ETA: 4:26 - loss: 4.7841 - acc: 0.015 - ETA: 4:25 - loss: 4.7825 - acc: 0.016 - ETA: 4:23 - loss: 4.7827 - acc: 0.016 - ETA: 4:22 - loss: 4.7820 - acc: 0.016 - ETA: 4:21 - loss: 4.7833 - acc: 0.016 - ETA: 4:20 - loss: 4.7823 - acc: 0.016 - ETA: 4:19 - loss: 4.7820 - acc: 0.015 - ETA: 4:18 - loss: 4.7821 - acc: 0.016 - ETA: 4:17 - loss: 4.7814 - acc: 0.016 - ETA: 4:16 - loss: 4.7817 - acc: 0.015 - ETA: 4:15 - loss: 4.7810 - acc: 0.016 - ETA: 4:14 - loss: 4.7819 - acc: 0.016 - ETA: 4:13 - loss: 4.7815 - acc: 0.015 - ETA: 4:12 - loss: 4.7805 - acc: 0.015 - ETA: 4:11 - loss: 4.7789 - acc: 0.015 - ETA: 4:09 - loss: 4.7799 - acc: 0.015 - ETA: 4:08 - loss: 4.7797 - acc: 0.015 - ETA: 4:07 - loss: 4.7811 - acc: 0.015 - ETA: 4:06 - loss: 4.7820 - acc: 0.015 - ETA: 4:05 - loss: 4.7831 - acc: 0.015 - ETA: 4:04 - loss: 4.7842 - acc: 0.015 - ETA: 4:03 - loss: 4.7841 - acc: 0.015 - ETA: 4:02 - loss: 4.7848 - acc: 0.015 - ETA: 4:01 - loss: 4.7864 - acc: 0.015 - ETA: 4:00 - loss: 4.7860 - acc: 0.015 - ETA: 3:59 - loss: 4.7841 - acc: 0.016 - ETA: 3:58 - loss: 4.7835 - acc: 0.016 - ETA: 3:57 - loss: 4.7827 - acc: 0.017 - ETA: 3:56 - loss: 4.7830 - acc: 0.016 - ETA: 3:55 - loss: 4.7839 - acc: 0.016 - ETA: 3:54 - loss: 4.7837 - acc: 0.016 - ETA: 3:53 - loss: 4.7842 - acc: 0.016 - ETA: 3:52 - loss: 4.7849 - acc: 0.016 - ETA: 3:51 - loss: 4.7850 - acc: 0.016 - ETA: 3:50 - loss: 4.7861 - acc: 0.015 - ETA: 3:49 - loss: 4.7858 - acc: 0.015 - ETA: 3:47 - loss: 4.7853 - acc: 0.015 - ETA: 3:46 - loss: 4.7845 - acc: 0.015 - ETA: 3:45 - loss: 4.7841 - acc: 0.015 - ETA: 3:44 - loss: 4.7830 - acc: 0.015 - ETA: 3:43 - loss: 4.7833 - acc: 0.015 - ETA: 3:42 - loss: 4.7831 - acc: 0.015 - ETA: 3:41 - loss: 4.7819 - acc: 0.015 - ETA: 3:40 - loss: 4.7830 - acc: 0.016 - ETA: 3:39 - loss: 4.7823 - acc: 0.015 - ETA: 3:38 - loss: 4.7828 - acc: 0.015 - ETA: 3:37 - loss: 4.7832 - acc: 0.015 - ETA: 3:36 - loss: 4.7851 - acc: 0.015 - ETA: 3:35 - loss: 4.7855 - acc: 0.015 - ETA: 3:34 - loss: 4.7866 - acc: 0.015 - ETA: 3:33 - loss: 4.7863 - acc: 0.015 - ETA: 3:32 - loss: 4.7858 - acc: 0.015 - ETA: 3:31 - loss: 4.7855 - acc: 0.014 - ETA: 3:30 - loss: 4.7857 - acc: 0.014 - ETA: 3:29 - loss: 4.7845 - acc: 0.015 - ETA: 3:27 - loss: 4.7857 - acc: 0.014 - ETA: 3:26 - loss: 4.7866 - acc: 0.015 - ETA: 3:25 - loss: 4.7860 - acc: 0.015 - ETA: 3:24 - loss: 4.7862 - acc: 0.015 - ETA: 3:23 - loss: 4.7862 - acc: 0.015 - ETA: 3:22 - loss: 4.7860 - acc: 0.015 - ETA: 3:21 - loss: 4.7864 - acc: 0.015 - ETA: 3:20 - loss: 4.7857 - acc: 0.014 - ETA: 3:19 - loss: 4.7850 - acc: 0.014 - ETA: 3:18 - loss: 4.7847 - acc: 0.014 - ETA: 3:17 - loss: 4.7844 - acc: 0.014 - ETA: 3:16 - loss: 4.7853 - acc: 0.014 - ETA: 3:15 - loss: 4.7856 - acc: 0.014 - ETA: 3:14 - loss: 4.7855 - acc: 0.014 - ETA: 3:13 - loss: 4.7859 - acc: 0.014 - ETA: 3:12 - loss: 4.7866 - acc: 0.014 - ETA: 3:11 - loss: 4.7883 - acc: 0.014 - ETA: 3:10 - loss: 4.7889 - acc: 0.013 - ETA: 3:09 - loss: 4.7885 - acc: 0.013 - ETA: 3:08 - loss: 4.7880 - acc: 0.013 - ETA: 3:07 - loss: 4.7873 - acc: 0.013 - ETA: 3:06 - loss: 4.7861 - acc: 0.013 - ETA: 3:05 - loss: 4.7851 - acc: 0.013 - ETA: 3:04 - loss: 4.7847 - acc: 0.013 - ETA: 3:02 - loss: 4.7841 - acc: 0.013 - ETA: 3:01 - loss: 4.7840 - acc: 0.013 - ETA: 3:00 - loss: 4.7836 - acc: 0.013 - ETA: 2:59 - loss: 4.7832 - acc: 0.013 - ETA: 2:58 - loss: 4.7826 - acc: 0.013 - ETA: 2:57 - loss: 4.7827 - acc: 0.013 - ETA: 2:56 - loss: 4.7830 - acc: 0.013 - ETA: 2:55 - loss: 4.7832 - acc: 0.013 - ETA: 2:54 - loss: 4.7823 - acc: 0.013 - ETA: 2:53 - loss: 4.7818 - acc: 0.014 - ETA: 2:52 - loss: 4.7815 - acc: 0.014 - ETA: 2:51 - loss: 4.7813 - acc: 0.013 - ETA: 2:50 - loss: 4.7812 - acc: 0.014 - ETA: 2:49 - loss: 4.7804 - acc: 0.014 - ETA: 2:48 - loss: 4.7798 - acc: 0.014 - ETA: 2:47 - loss: 4.7804 - acc: 0.013 - ETA: 2:46 - loss: 4.7803 - acc: 0.013 - ETA: 2:45 - loss: 4.7793 - acc: 0.013 - ETA: 2:44 - loss: 4.7798 - acc: 0.013 - ETA: 2:43 - loss: 4.7795 - acc: 0.013 - ETA: 2:42 - loss: 4.7799 - acc: 0.013 - ETA: 2:41 - loss: 4.7801 - acc: 0.013 - ETA: 2:40 - loss: 4.7809 - acc: 0.013 - ETA: 2:39 - loss: 4.7810 - acc: 0.013 - ETA: 2:37 - loss: 4.7815 - acc: 0.013 - ETA: 2:36 - loss: 4.7810 - acc: 0.013 - ETA: 2:35 - loss: 4.7797 - acc: 0.013 - ETA: 2:34 - loss: 4.7808 - acc: 0.013 - ETA: 2:33 - loss: 4.7809 - acc: 0.013 - ETA: 2:32 - loss: 4.7813 - acc: 0.013 - ETA: 2:31 - loss: 4.7809 - acc: 0.013 - ETA: 2:30 - loss: 4.7810 - acc: 0.013 - ETA: 2:29 - loss: 4.7811 - acc: 0.013 - ETA: 2:28 - loss: 4.7811 - acc: 0.013 - ETA: 2:27 - loss: 4.7814 - acc: 0.013 - ETA: 2:26 - loss: 4.7821 - acc: 0.013 - ETA: 2:25 - loss: 4.7810 - acc: 0.013 - ETA: 2:24 - loss: 4.7817 - acc: 0.013 - ETA: 2:23 - loss: 4.7817 - acc: 0.013 - ETA: 2:22 - loss: 4.7821 - acc: 0.013 - ETA: 2:21 - loss: 4.7811 - acc: 0.013 - ETA: 2:20 - loss: 4.7817 - acc: 0.013 - ETA: 2:19 - loss: 4.7820 - acc: 0.013 - ETA: 2:18 - loss: 4.7822 - acc: 0.013 - ETA: 2:17 - loss: 4.7823 - acc: 0.013 - ETA: 2:16 - loss: 4.7822 - acc: 0.013 - ETA: 2:15 - loss: 4.7821 - acc: 0.0135"
     ]
    },
    {
     "name": "stdout",
     "output_type": "stream",
     "text": [
      "6680/6680 [==============================] - ETA: 2:13 - loss: 4.7818 - acc: 0.013 - ETA: 2:12 - loss: 4.7824 - acc: 0.013 - ETA: 2:11 - loss: 4.7821 - acc: 0.013 - ETA: 2:10 - loss: 4.7814 - acc: 0.013 - ETA: 2:09 - loss: 4.7813 - acc: 0.013 - ETA: 2:08 - loss: 4.7817 - acc: 0.013 - ETA: 2:07 - loss: 4.7823 - acc: 0.013 - ETA: 2:06 - loss: 4.7818 - acc: 0.013 - ETA: 2:05 - loss: 4.7815 - acc: 0.013 - ETA: 2:04 - loss: 4.7821 - acc: 0.013 - ETA: 2:03 - loss: 4.7816 - acc: 0.013 - ETA: 2:02 - loss: 4.7817 - acc: 0.013 - ETA: 2:01 - loss: 4.7810 - acc: 0.013 - ETA: 2:00 - loss: 4.7811 - acc: 0.013 - ETA: 1:59 - loss: 4.7801 - acc: 0.013 - ETA: 1:58 - loss: 4.7799 - acc: 0.013 - ETA: 1:57 - loss: 4.7803 - acc: 0.013 - ETA: 1:56 - loss: 4.7805 - acc: 0.013 - ETA: 1:55 - loss: 4.7806 - acc: 0.013 - ETA: 1:54 - loss: 4.7809 - acc: 0.013 - ETA: 1:53 - loss: 4.7811 - acc: 0.013 - ETA: 1:52 - loss: 4.7810 - acc: 0.013 - ETA: 1:51 - loss: 4.7812 - acc: 0.013 - ETA: 1:50 - loss: 4.7813 - acc: 0.013 - ETA: 1:49 - loss: 4.7811 - acc: 0.013 - ETA: 1:48 - loss: 4.7816 - acc: 0.013 - ETA: 1:47 - loss: 4.7815 - acc: 0.013 - ETA: 1:46 - loss: 4.7819 - acc: 0.013 - ETA: 1:44 - loss: 4.7818 - acc: 0.013 - ETA: 1:43 - loss: 4.7821 - acc: 0.013 - ETA: 1:42 - loss: 4.7827 - acc: 0.013 - ETA: 1:41 - loss: 4.7828 - acc: 0.013 - ETA: 1:40 - loss: 4.7825 - acc: 0.013 - ETA: 1:39 - loss: 4.7825 - acc: 0.013 - ETA: 1:38 - loss: 4.7820 - acc: 0.013 - ETA: 1:37 - loss: 4.7814 - acc: 0.013 - ETA: 1:36 - loss: 4.7808 - acc: 0.013 - ETA: 1:35 - loss: 4.7811 - acc: 0.013 - ETA: 1:34 - loss: 4.7809 - acc: 0.013 - ETA: 1:33 - loss: 4.7809 - acc: 0.013 - ETA: 1:32 - loss: 4.7803 - acc: 0.013 - ETA: 1:31 - loss: 4.7796 - acc: 0.013 - ETA: 1:30 - loss: 4.7797 - acc: 0.013 - ETA: 1:29 - loss: 4.7799 - acc: 0.013 - ETA: 1:28 - loss: 4.7801 - acc: 0.013 - ETA: 1:27 - loss: 4.7803 - acc: 0.013 - ETA: 1:26 - loss: 4.7804 - acc: 0.013 - ETA: 1:25 - loss: 4.7800 - acc: 0.013 - ETA: 1:24 - loss: 4.7796 - acc: 0.013 - ETA: 1:23 - loss: 4.7797 - acc: 0.013 - ETA: 1:22 - loss: 4.7793 - acc: 0.013 - ETA: 1:21 - loss: 4.7789 - acc: 0.013 - ETA: 1:19 - loss: 4.7787 - acc: 0.013 - ETA: 1:18 - loss: 4.7789 - acc: 0.013 - ETA: 1:17 - loss: 4.7786 - acc: 0.013 - ETA: 1:16 - loss: 4.7791 - acc: 0.013 - ETA: 1:15 - loss: 4.7781 - acc: 0.013 - ETA: 1:14 - loss: 4.7784 - acc: 0.013 - ETA: 1:13 - loss: 4.7791 - acc: 0.013 - ETA: 1:12 - loss: 4.7792 - acc: 0.013 - ETA: 1:11 - loss: 4.7784 - acc: 0.013 - ETA: 1:10 - loss: 4.7784 - acc: 0.013 - ETA: 1:09 - loss: 4.7788 - acc: 0.013 - ETA: 1:08 - loss: 4.7788 - acc: 0.013 - ETA: 1:07 - loss: 4.7791 - acc: 0.013 - ETA: 1:06 - loss: 4.7786 - acc: 0.014 - ETA: 1:05 - loss: 4.7782 - acc: 0.014 - ETA: 1:04 - loss: 4.7790 - acc: 0.014 - ETA: 1:03 - loss: 4.7790 - acc: 0.014 - ETA: 1:02 - loss: 4.7790 - acc: 0.014 - ETA: 1:01 - loss: 4.7790 - acc: 0.014 - ETA: 1:00 - loss: 4.7790 - acc: 0.014 - ETA: 59s - loss: 4.7788 - acc: 0.014 - ETA: 58s - loss: 4.7793 - acc: 0.01 - ETA: 57s - loss: 4.7797 - acc: 0.01 - ETA: 56s - loss: 4.7801 - acc: 0.01 - ETA: 55s - loss: 4.7800 - acc: 0.01 - ETA: 54s - loss: 4.7803 - acc: 0.01 - ETA: 53s - loss: 4.7799 - acc: 0.01 - ETA: 51s - loss: 4.7800 - acc: 0.01 - ETA: 50s - loss: 4.7805 - acc: 0.01 - ETA: 49s - loss: 4.7803 - acc: 0.01 - ETA: 48s - loss: 4.7804 - acc: 0.01 - ETA: 47s - loss: 4.7804 - acc: 0.01 - ETA: 46s - loss: 4.7805 - acc: 0.01 - ETA: 45s - loss: 4.7802 - acc: 0.01 - ETA: 44s - loss: 4.7801 - acc: 0.01 - ETA: 43s - loss: 4.7801 - acc: 0.01 - ETA: 42s - loss: 4.7806 - acc: 0.01 - ETA: 41s - loss: 4.7803 - acc: 0.01 - ETA: 40s - loss: 4.7801 - acc: 0.01 - ETA: 39s - loss: 4.7796 - acc: 0.01 - ETA: 38s - loss: 4.7795 - acc: 0.01 - ETA: 37s - loss: 4.7799 - acc: 0.01 - ETA: 36s - loss: 4.7799 - acc: 0.01 - ETA: 35s - loss: 4.7798 - acc: 0.01 - ETA: 34s - loss: 4.7800 - acc: 0.01 - ETA: 33s - loss: 4.7798 - acc: 0.01 - ETA: 32s - loss: 4.7798 - acc: 0.01 - ETA: 31s - loss: 4.7798 - acc: 0.01 - ETA: 30s - loss: 4.7797 - acc: 0.01 - ETA: 29s - loss: 4.7798 - acc: 0.01 - ETA: 28s - loss: 4.7792 - acc: 0.01 - ETA: 27s - loss: 4.7791 - acc: 0.01 - ETA: 26s - loss: 4.7789 - acc: 0.01 - ETA: 24s - loss: 4.7788 - acc: 0.01 - ETA: 23s - loss: 4.7785 - acc: 0.01 - ETA: 22s - loss: 4.7778 - acc: 0.01 - ETA: 21s - loss: 4.7779 - acc: 0.01 - ETA: 20s - loss: 4.7776 - acc: 0.01 - ETA: 19s - loss: 4.7772 - acc: 0.01 - ETA: 18s - loss: 4.7770 - acc: 0.01 - ETA: 17s - loss: 4.7770 - acc: 0.01 - ETA: 16s - loss: 4.7766 - acc: 0.01 - ETA: 15s - loss: 4.7765 - acc: 0.01 - ETA: 14s - loss: 4.7763 - acc: 0.01 - ETA: 13s - loss: 4.7770 - acc: 0.01 - ETA: 12s - loss: 4.7764 - acc: 0.01 - ETA: 11s - loss: 4.7762 - acc: 0.01 - ETA: 10s - loss: 4.7762 - acc: 0.01 - ETA: 9s - loss: 4.7757 - acc: 0.0157 - ETA: 8s - loss: 4.7750 - acc: 0.016 - ETA: 7s - loss: 4.7753 - acc: 0.016 - ETA: 6s - loss: 4.7756 - acc: 0.016 - ETA: 5s - loss: 4.7759 - acc: 0.016 - ETA: 4s - loss: 4.7758 - acc: 0.016 - ETA: 3s - loss: 4.7758 - acc: 0.016 - ETA: 2s - loss: 4.7761 - acc: 0.016 - ETA: 1s - loss: 4.7764 - acc: 0.016 - 365s 55ms/step - loss: 4.7766 - acc: 0.0160 - val_loss: 4.7802 - val_acc: 0.0228\n",
      "\n",
      "Epoch 00004: val_loss improved from 4.81646 to 4.78016, saving model to saved_models/weights.best.from_scratch.hdf5\n",
      "Epoch 5/10\n",
      "4080/6680 [=================>............] - ETA: 5:47 - loss: 4.8585 - acc: 0.0000e+0 - ETA: 5:40 - loss: 4.7827 - acc: 0.0000e+0 - ETA: 5:38 - loss: 4.7848 - acc: 0.0167    - ETA: 5:37 - loss: 4.8061 - acc: 0.025 - ETA: 5:36 - loss: 4.8117 - acc: 0.020 - ETA: 5:35 - loss: 4.8005 - acc: 0.025 - ETA: 5:33 - loss: 4.7925 - acc: 0.021 - ETA: 5:33 - loss: 4.7565 - acc: 0.025 - ETA: 5:31 - loss: 4.7554 - acc: 0.027 - ETA: 5:30 - loss: 4.7509 - acc: 0.025 - ETA: 5:29 - loss: 4.7663 - acc: 0.027 - ETA: 5:28 - loss: 4.7574 - acc: 0.025 - ETA: 5:27 - loss: 4.7443 - acc: 0.026 - ETA: 5:26 - loss: 4.7529 - acc: 0.028 - ETA: 5:26 - loss: 4.7585 - acc: 0.026 - ETA: 5:25 - loss: 4.7496 - acc: 0.028 - ETA: 5:24 - loss: 4.7442 - acc: 0.029 - ETA: 5:23 - loss: 4.7377 - acc: 0.030 - ETA: 5:23 - loss: 4.7391 - acc: 0.031 - ETA: 5:22 - loss: 4.7409 - acc: 0.032 - ETA: 5:21 - loss: 4.7455 - acc: 0.033 - ETA: 5:21 - loss: 4.7458 - acc: 0.031 - ETA: 5:22 - loss: 4.7460 - acc: 0.032 - ETA: 5:20 - loss: 4.7507 - acc: 0.031 - ETA: 5:19 - loss: 4.7455 - acc: 0.032 - ETA: 5:18 - loss: 4.7450 - acc: 0.030 - ETA: 5:17 - loss: 4.7478 - acc: 0.029 - ETA: 5:15 - loss: 4.7472 - acc: 0.028 - ETA: 5:14 - loss: 4.7481 - acc: 0.027 - ETA: 5:13 - loss: 4.7480 - acc: 0.028 - ETA: 5:12 - loss: 4.7491 - acc: 0.027 - ETA: 5:11 - loss: 4.7499 - acc: 0.026 - ETA: 5:10 - loss: 4.7481 - acc: 0.025 - ETA: 5:10 - loss: 4.7436 - acc: 0.025 - ETA: 5:10 - loss: 4.7413 - acc: 0.024 - ETA: 5:09 - loss: 4.7381 - acc: 0.023 - ETA: 5:09 - loss: 4.7419 - acc: 0.023 - ETA: 5:08 - loss: 4.7426 - acc: 0.022 - ETA: 5:07 - loss: 4.7422 - acc: 0.021 - ETA: 5:05 - loss: 4.7439 - acc: 0.021 - ETA: 5:04 - loss: 4.7416 - acc: 0.020 - ETA: 5:03 - loss: 4.7377 - acc: 0.020 - ETA: 5:02 - loss: 4.7371 - acc: 0.022 - ETA: 5:01 - loss: 4.7371 - acc: 0.021 - ETA: 5:00 - loss: 4.7363 - acc: 0.021 - ETA: 4:59 - loss: 4.7397 - acc: 0.020 - ETA: 4:58 - loss: 4.7375 - acc: 0.020 - ETA: 4:57 - loss: 4.7353 - acc: 0.019 - ETA: 4:56 - loss: 4.7356 - acc: 0.019 - ETA: 4:55 - loss: 4.7334 - acc: 0.020 - ETA: 4:53 - loss: 4.7337 - acc: 0.019 - ETA: 4:52 - loss: 4.7318 - acc: 0.020 - ETA: 4:51 - loss: 4.7298 - acc: 0.021 - ETA: 4:50 - loss: 4.7323 - acc: 0.022 - ETA: 4:49 - loss: 4.7323 - acc: 0.021 - ETA: 4:48 - loss: 4.7326 - acc: 0.022 - ETA: 4:47 - loss: 4.7318 - acc: 0.022 - ETA: 4:46 - loss: 4.7360 - acc: 0.022 - ETA: 4:45 - loss: 4.7377 - acc: 0.022 - ETA: 4:44 - loss: 4.7377 - acc: 0.021 - ETA: 4:43 - loss: 4.7382 - acc: 0.021 - ETA: 4:41 - loss: 4.7378 - acc: 0.021 - ETA: 4:41 - loss: 4.7395 - acc: 0.021 - ETA: 4:40 - loss: 4.7378 - acc: 0.021 - ETA: 4:38 - loss: 4.7368 - acc: 0.020 - ETA: 4:38 - loss: 4.7367 - acc: 0.020 - ETA: 4:37 - loss: 4.7366 - acc: 0.021 - ETA: 4:35 - loss: 4.7344 - acc: 0.022 - ETA: 4:34 - loss: 4.7359 - acc: 0.023 - ETA: 4:33 - loss: 4.7368 - acc: 0.023 - ETA: 4:32 - loss: 4.7365 - acc: 0.023 - ETA: 4:31 - loss: 4.7369 - acc: 0.024 - ETA: 4:30 - loss: 4.7355 - acc: 0.024 - ETA: 4:29 - loss: 4.7363 - acc: 0.025 - ETA: 4:28 - loss: 4.7344 - acc: 0.024 - ETA: 4:27 - loss: 4.7343 - acc: 0.025 - ETA: 4:26 - loss: 4.7339 - acc: 0.024 - ETA: 4:25 - loss: 4.7351 - acc: 0.024 - ETA: 4:23 - loss: 4.7334 - acc: 0.024 - ETA: 4:22 - loss: 4.7333 - acc: 0.024 - ETA: 4:21 - loss: 4.7341 - acc: 0.024 - ETA: 4:20 - loss: 4.7367 - acc: 0.023 - ETA: 4:19 - loss: 4.7359 - acc: 0.024 - ETA: 4:18 - loss: 4.7350 - acc: 0.024 - ETA: 4:17 - loss: 4.7340 - acc: 0.024 - ETA: 4:16 - loss: 4.7334 - acc: 0.023 - ETA: 4:15 - loss: 4.7330 - acc: 0.023 - ETA: 4:14 - loss: 4.7326 - acc: 0.023 - ETA: 4:13 - loss: 4.7339 - acc: 0.023 - ETA: 4:12 - loss: 4.7335 - acc: 0.023 - ETA: 4:11 - loss: 4.7319 - acc: 0.023 - ETA: 4:10 - loss: 4.7305 - acc: 0.023 - ETA: 4:09 - loss: 4.7296 - acc: 0.023 - ETA: 4:08 - loss: 4.7293 - acc: 0.023 - ETA: 4:07 - loss: 4.7283 - acc: 0.023 - ETA: 4:05 - loss: 4.7280 - acc: 0.022 - ETA: 4:04 - loss: 4.7296 - acc: 0.022 - ETA: 4:03 - loss: 4.7306 - acc: 0.023 - ETA: 4:02 - loss: 4.7298 - acc: 0.022 - ETA: 4:01 - loss: 4.7298 - acc: 0.022 - ETA: 4:00 - loss: 4.7309 - acc: 0.022 - ETA: 3:59 - loss: 4.7306 - acc: 0.022 - ETA: 3:58 - loss: 4.7307 - acc: 0.021 - ETA: 3:57 - loss: 4.7307 - acc: 0.021 - ETA: 3:56 - loss: 4.7319 - acc: 0.021 - ETA: 3:55 - loss: 4.7305 - acc: 0.021 - ETA: 3:54 - loss: 4.7303 - acc: 0.021 - ETA: 3:53 - loss: 4.7319 - acc: 0.020 - ETA: 3:52 - loss: 4.7326 - acc: 0.020 - ETA: 3:51 - loss: 4.7339 - acc: 0.020 - ETA: 3:50 - loss: 4.7351 - acc: 0.020 - ETA: 3:49 - loss: 4.7349 - acc: 0.021 - ETA: 3:48 - loss: 4.7345 - acc: 0.020 - ETA: 3:47 - loss: 4.7337 - acc: 0.020 - ETA: 3:46 - loss: 4.7327 - acc: 0.020 - ETA: 3:45 - loss: 4.7335 - acc: 0.021 - ETA: 3:43 - loss: 4.7340 - acc: 0.021 - ETA: 3:42 - loss: 4.7340 - acc: 0.022 - ETA: 3:41 - loss: 4.7345 - acc: 0.021 - ETA: 3:40 - loss: 4.7346 - acc: 0.021 - ETA: 3:39 - loss: 4.7340 - acc: 0.021 - ETA: 3:38 - loss: 4.7339 - acc: 0.021 - ETA: 3:37 - loss: 4.7342 - acc: 0.021 - ETA: 3:36 - loss: 4.7344 - acc: 0.021 - ETA: 3:35 - loss: 4.7350 - acc: 0.021 - ETA: 3:34 - loss: 4.7349 - acc: 0.021 - ETA: 3:33 - loss: 4.7341 - acc: 0.021 - ETA: 3:32 - loss: 4.7359 - acc: 0.021 - ETA: 3:31 - loss: 4.7367 - acc: 0.021 - ETA: 3:30 - loss: 4.7360 - acc: 0.021 - ETA: 3:29 - loss: 4.7355 - acc: 0.021 - ETA: 3:28 - loss: 4.7369 - acc: 0.020 - ETA: 3:27 - loss: 4.7375 - acc: 0.021 - ETA: 3:26 - loss: 4.7383 - acc: 0.020 - ETA: 3:25 - loss: 4.7392 - acc: 0.021 - ETA: 3:24 - loss: 4.7389 - acc: 0.021 - ETA: 3:23 - loss: 4.7391 - acc: 0.021 - ETA: 3:22 - loss: 4.7397 - acc: 0.021 - ETA: 3:21 - loss: 4.7387 - acc: 0.021 - ETA: 3:19 - loss: 4.7384 - acc: 0.022 - ETA: 3:18 - loss: 4.7389 - acc: 0.022 - ETA: 3:17 - loss: 4.7388 - acc: 0.022 - ETA: 3:16 - loss: 4.7389 - acc: 0.022 - ETA: 3:15 - loss: 4.7390 - acc: 0.022 - ETA: 3:14 - loss: 4.7374 - acc: 0.022 - ETA: 3:13 - loss: 4.7374 - acc: 0.022 - ETA: 3:12 - loss: 4.7352 - acc: 0.022 - ETA: 3:11 - loss: 4.7353 - acc: 0.022 - ETA: 3:10 - loss: 4.7353 - acc: 0.022 - ETA: 3:09 - loss: 4.7346 - acc: 0.022 - ETA: 3:08 - loss: 4.7350 - acc: 0.021 - ETA: 3:07 - loss: 4.7344 - acc: 0.021 - ETA: 3:06 - loss: 4.7346 - acc: 0.021 - ETA: 3:05 - loss: 4.7354 - acc: 0.021 - ETA: 3:04 - loss: 4.7352 - acc: 0.021 - ETA: 3:03 - loss: 4.7365 - acc: 0.021 - ETA: 3:02 - loss: 4.7357 - acc: 0.021 - ETA: 3:01 - loss: 4.7360 - acc: 0.020 - ETA: 3:00 - loss: 4.7369 - acc: 0.020 - ETA: 2:59 - loss: 4.7366 - acc: 0.020 - ETA: 2:58 - loss: 4.7368 - acc: 0.021 - ETA: 2:57 - loss: 4.7369 - acc: 0.021 - ETA: 2:56 - loss: 4.7373 - acc: 0.020 - ETA: 2:55 - loss: 4.7387 - acc: 0.020 - ETA: 2:54 - loss: 4.7385 - acc: 0.020 - ETA: 2:53 - loss: 4.7374 - acc: 0.020 - ETA: 2:52 - loss: 4.7376 - acc: 0.020 - ETA: 2:51 - loss: 4.7371 - acc: 0.020 - ETA: 2:49 - loss: 4.7366 - acc: 0.020 - ETA: 2:48 - loss: 4.7373 - acc: 0.020 - ETA: 2:47 - loss: 4.7366 - acc: 0.021 - ETA: 2:46 - loss: 4.7370 - acc: 0.021 - ETA: 2:45 - loss: 4.7372 - acc: 0.021 - ETA: 2:44 - loss: 4.7367 - acc: 0.021 - ETA: 2:43 - loss: 4.7368 - acc: 0.021 - ETA: 2:42 - loss: 4.7353 - acc: 0.021 - ETA: 2:41 - loss: 4.7352 - acc: 0.021 - ETA: 2:40 - loss: 4.7355 - acc: 0.021 - ETA: 2:39 - loss: 4.7348 - acc: 0.021 - ETA: 2:38 - loss: 4.7346 - acc: 0.021 - ETA: 2:37 - loss: 4.7338 - acc: 0.021 - ETA: 2:36 - loss: 4.7353 - acc: 0.020 - ETA: 2:35 - loss: 4.7344 - acc: 0.021 - ETA: 2:34 - loss: 4.7337 - acc: 0.021 - ETA: 2:33 - loss: 4.7344 - acc: 0.021 - ETA: 2:32 - loss: 4.7336 - acc: 0.021 - ETA: 2:31 - loss: 4.7338 - acc: 0.021 - ETA: 2:30 - loss: 4.7327 - acc: 0.021 - ETA: 2:29 - loss: 4.7326 - acc: 0.021 - ETA: 2:28 - loss: 4.7318 - acc: 0.022 - ETA: 2:27 - loss: 4.7312 - acc: 0.022 - ETA: 2:26 - loss: 4.7307 - acc: 0.022 - ETA: 2:25 - loss: 4.7324 - acc: 0.022 - ETA: 2:24 - loss: 4.7326 - acc: 0.022 - ETA: 2:23 - loss: 4.7316 - acc: 0.022 - ETA: 2:22 - loss: 4.7314 - acc: 0.022 - ETA: 2:21 - loss: 4.7329 - acc: 0.022 - ETA: 2:20 - loss: 4.7328 - acc: 0.022 - ETA: 2:19 - loss: 4.7323 - acc: 0.022 - ETA: 2:17 - loss: 4.7326 - acc: 0.022 - ETA: 2:16 - loss: 4.7332 - acc: 0.022 - ETA: 2:15 - loss: 4.7328 - acc: 0.023 - ETA: 2:14 - loss: 4.7327 - acc: 0.022 - ETA: 2:13 - loss: 4.7327 - acc: 0.02286680/6680 [==============================] - ETA: 2:12 - loss: 4.7326 - acc: 0.022 - ETA: 2:11 - loss: 4.7328 - acc: 0.022 - ETA: 2:10 - loss: 4.7324 - acc: 0.022 - ETA: 2:09 - loss: 4.7326 - acc: 0.022 - ETA: 2:08 - loss: 4.7328 - acc: 0.022 - ETA: 2:07 - loss: 4.7327 - acc: 0.022 - ETA: 2:06 - loss: 4.7319 - acc: 0.022 - ETA: 2:05 - loss: 4.7316 - acc: 0.022 - ETA: 2:04 - loss: 4.7314 - acc: 0.022 - ETA: 2:03 - loss: 4.7315 - acc: 0.022 - ETA: 2:02 - loss: 4.7313 - acc: 0.022 - ETA: 2:01 - loss: 4.7306 - acc: 0.022 - ETA: 2:00 - loss: 4.7313 - acc: 0.022 - ETA: 1:59 - loss: 4.7312 - acc: 0.022 - ETA: 1:58 - loss: 4.7323 - acc: 0.022 - ETA: 1:57 - loss: 4.7316 - acc: 0.022 - ETA: 1:56 - loss: 4.7322 - acc: 0.022 - ETA: 1:55 - loss: 4.7328 - acc: 0.022 - ETA: 1:54 - loss: 4.7329 - acc: 0.022 - ETA: 1:53 - loss: 4.7335 - acc: 0.022 - ETA: 1:52 - loss: 4.7336 - acc: 0.022 - ETA: 1:51 - loss: 4.7335 - acc: 0.022 - ETA: 1:50 - loss: 4.7334 - acc: 0.022 - ETA: 1:49 - loss: 4.7333 - acc: 0.021 - ETA: 1:48 - loss: 4.7336 - acc: 0.022 - ETA: 1:47 - loss: 4.7332 - acc: 0.022 - ETA: 1:46 - loss: 4.7332 - acc: 0.022 - ETA: 1:45 - loss: 4.7328 - acc: 0.022 - ETA: 1:44 - loss: 4.7328 - acc: 0.022 - ETA: 1:43 - loss: 4.7322 - acc: 0.022 - ETA: 1:42 - loss: 4.7330 - acc: 0.022 - ETA: 1:41 - loss: 4.7330 - acc: 0.022 - ETA: 1:40 - loss: 4.7341 - acc: 0.022 - ETA: 1:39 - loss: 4.7344 - acc: 0.022 - ETA: 1:38 - loss: 4.7340 - acc: 0.022 - ETA: 1:37 - loss: 4.7336 - acc: 0.022 - ETA: 1:36 - loss: 4.7335 - acc: 0.022 - ETA: 1:35 - loss: 4.7331 - acc: 0.021 - ETA: 1:34 - loss: 4.7331 - acc: 0.021 - ETA: 1:33 - loss: 4.7344 - acc: 0.021 - ETA: 1:31 - loss: 4.7352 - acc: 0.021 - ETA: 1:30 - loss: 4.7338 - acc: 0.021 - ETA: 1:29 - loss: 4.7345 - acc: 0.021 - ETA: 1:28 - loss: 4.7340 - acc: 0.021 - ETA: 1:27 - loss: 4.7341 - acc: 0.021 - ETA: 1:26 - loss: 4.7343 - acc: 0.021 - ETA: 1:25 - loss: 4.7336 - acc: 0.021 - ETA: 1:24 - loss: 4.7344 - acc: 0.021 - ETA: 1:23 - loss: 4.7350 - acc: 0.021 - ETA: 1:22 - loss: 4.7349 - acc: 0.021 - ETA: 1:21 - loss: 4.7349 - acc: 0.021 - ETA: 1:20 - loss: 4.7354 - acc: 0.021 - ETA: 1:19 - loss: 4.7360 - acc: 0.021 - ETA: 1:18 - loss: 4.7358 - acc: 0.021 - ETA: 1:17 - loss: 4.7356 - acc: 0.021 - ETA: 1:16 - loss: 4.7359 - acc: 0.021 - ETA: 1:15 - loss: 4.7363 - acc: 0.021 - ETA: 1:14 - loss: 4.7361 - acc: 0.021 - ETA: 1:13 - loss: 4.7363 - acc: 0.021 - ETA: 1:12 - loss: 4.7363 - acc: 0.021 - ETA: 1:11 - loss: 4.7359 - acc: 0.021 - ETA: 1:10 - loss: 4.7349 - acc: 0.021 - ETA: 1:09 - loss: 4.7342 - acc: 0.021 - ETA: 1:08 - loss: 4.7337 - acc: 0.021 - ETA: 1:07 - loss: 4.7336 - acc: 0.021 - ETA: 1:06 - loss: 4.7340 - acc: 0.021 - ETA: 1:05 - loss: 4.7342 - acc: 0.021 - ETA: 1:04 - loss: 4.7343 - acc: 0.021 - ETA: 1:03 - loss: 4.7342 - acc: 0.021 - ETA: 1:02 - loss: 4.7346 - acc: 0.021 - ETA: 1:01 - loss: 4.7343 - acc: 0.021 - ETA: 1:00 - loss: 4.7345 - acc: 0.021 - ETA: 59s - loss: 4.7339 - acc: 0.021 - ETA: 58s - loss: 4.7337 - acc: 0.02 - ETA: 57s - loss: 4.7334 - acc: 0.02 - ETA: 56s - loss: 4.7339 - acc: 0.02 - ETA: 55s - loss: 4.7338 - acc: 0.02 - ETA: 54s - loss: 4.7337 - acc: 0.02 - ETA: 53s - loss: 4.7339 - acc: 0.02 - ETA: 52s - loss: 4.7336 - acc: 0.02 - ETA: 51s - loss: 4.7339 - acc: 0.02 - ETA: 50s - loss: 4.7340 - acc: 0.02 - ETA: 49s - loss: 4.7340 - acc: 0.02 - ETA: 48s - loss: 4.7337 - acc: 0.02 - ETA: 47s - loss: 4.7334 - acc: 0.02 - ETA: 45s - loss: 4.7337 - acc: 0.02 - ETA: 44s - loss: 4.7343 - acc: 0.02 - ETA: 43s - loss: 4.7341 - acc: 0.02 - ETA: 42s - loss: 4.7338 - acc: 0.02 - ETA: 41s - loss: 4.7337 - acc: 0.02 - ETA: 40s - loss: 4.7340 - acc: 0.02 - ETA: 39s - loss: 4.7339 - acc: 0.02 - ETA: 38s - loss: 4.7343 - acc: 0.02 - ETA: 37s - loss: 4.7344 - acc: 0.02 - ETA: 36s - loss: 4.7338 - acc: 0.02 - ETA: 35s - loss: 4.7337 - acc: 0.02 - ETA: 34s - loss: 4.7335 - acc: 0.02 - ETA: 33s - loss: 4.7338 - acc: 0.02 - ETA: 32s - loss: 4.7338 - acc: 0.02 - ETA: 31s - loss: 4.7335 - acc: 0.02 - ETA: 30s - loss: 4.7332 - acc: 0.02 - ETA: 29s - loss: 4.7325 - acc: 0.02 - ETA: 28s - loss: 4.7322 - acc: 0.02 - ETA: 27s - loss: 4.7325 - acc: 0.02 - ETA: 26s - loss: 4.7325 - acc: 0.02 - ETA: 25s - loss: 4.7323 - acc: 0.02 - ETA: 24s - loss: 4.7319 - acc: 0.02 - ETA: 23s - loss: 4.7320 - acc: 0.02 - ETA: 22s - loss: 4.7326 - acc: 0.02 - ETA: 21s - loss: 4.7325 - acc: 0.02 - ETA: 20s - loss: 4.7323 - acc: 0.02 - ETA: 19s - loss: 4.7321 - acc: 0.02 - ETA: 18s - loss: 4.7326 - acc: 0.02 - ETA: 16s - loss: 4.7337 - acc: 0.02 - ETA: 15s - loss: 4.7340 - acc: 0.02 - ETA: 14s - loss: 4.7333 - acc: 0.02 - ETA: 13s - loss: 4.7328 - acc: 0.02 - ETA: 12s - loss: 4.7325 - acc: 0.02 - ETA: 11s - loss: 4.7331 - acc: 0.02 - ETA: 10s - loss: 4.7332 - acc: 0.02 - ETA: 9s - loss: 4.7338 - acc: 0.0217 - ETA: 8s - loss: 4.7334 - acc: 0.021 - ETA: 7s - loss: 4.7335 - acc: 0.021 - ETA: 6s - loss: 4.7335 - acc: 0.021 - ETA: 5s - loss: 4.7335 - acc: 0.021 - ETA: 4s - loss: 4.7332 - acc: 0.021 - ETA: 3s - loss: 4.7338 - acc: 0.021 - ETA: 2s - loss: 4.7332 - acc: 0.021 - ETA: 1s - loss: 4.7328 - acc: 0.021 - 378s 57ms/step - loss: 4.7326 - acc: 0.0217 - val_loss: 4.7536 - val_acc: 0.0216\n",
      "\n",
      "Epoch 00005: val_loss improved from 4.78016 to 4.75362, saving model to saved_models/weights.best.from_scratch.hdf5\n",
      "Epoch 6/10\n"
     ]
    },
    {
     "name": "stdout",
     "output_type": "stream",
     "text": [
      "4080/6680 [=================>............] - ETA: 6:30 - loss: 4.5774 - acc: 0.0000e+0 - ETA: 6:22 - loss: 4.6356 - acc: 0.0000e+0 - ETA: 6:25 - loss: 4.6171 - acc: 0.0167    - ETA: 6:22 - loss: 4.6293 - acc: 0.025 - ETA: 6:22 - loss: 4.6599 - acc: 0.030 - ETA: 6:21 - loss: 4.6669 - acc: 0.025 - ETA: 6:20 - loss: 4.6522 - acc: 0.021 - ETA: 6:15 - loss: 4.6718 - acc: 0.018 - ETA: 6:15 - loss: 4.6777 - acc: 0.016 - ETA: 6:14 - loss: 4.6773 - acc: 0.025 - ETA: 6:14 - loss: 4.6862 - acc: 0.022 - ETA: 6:14 - loss: 4.7192 - acc: 0.020 - ETA: 6:15 - loss: 4.7165 - acc: 0.019 - ETA: 6:14 - loss: 4.7180 - acc: 0.021 - ETA: 6:13 - loss: 4.7224 - acc: 0.020 - ETA: 6:12 - loss: 4.7120 - acc: 0.021 - ETA: 6:12 - loss: 4.7349 - acc: 0.020 - ETA: 6:11 - loss: 4.7366 - acc: 0.019 - ETA: 6:10 - loss: 4.7285 - acc: 0.018 - ETA: 6:09 - loss: 4.7286 - acc: 0.017 - ETA: 6:09 - loss: 4.7240 - acc: 0.021 - ETA: 6:08 - loss: 4.7224 - acc: 0.020 - ETA: 6:05 - loss: 4.7160 - acc: 0.023 - ETA: 6:02 - loss: 4.7182 - acc: 0.025 - ETA: 5:59 - loss: 4.7152 - acc: 0.024 - ETA: 5:59 - loss: 4.7135 - acc: 0.023 - ETA: 5:58 - loss: 4.7125 - acc: 0.022 - ETA: 5:57 - loss: 4.7168 - acc: 0.021 - ETA: 5:57 - loss: 4.7105 - acc: 0.022 - ETA: 5:56 - loss: 4.7079 - acc: 0.023 - ETA: 5:55 - loss: 4.7109 - acc: 0.022 - ETA: 5:53 - loss: 4.7060 - acc: 0.023 - ETA: 5:50 - loss: 4.7093 - acc: 0.022 - ETA: 5:49 - loss: 4.7064 - acc: 0.023 - ETA: 5:48 - loss: 4.7091 - acc: 0.022 - ETA: 5:46 - loss: 4.7070 - acc: 0.022 - ETA: 5:44 - loss: 4.7079 - acc: 0.023 - ETA: 5:43 - loss: 4.7123 - acc: 0.022 - ETA: 5:41 - loss: 4.7127 - acc: 0.021 - ETA: 5:39 - loss: 4.7074 - acc: 0.022 - ETA: 5:37 - loss: 4.7108 - acc: 0.022 - ETA: 5:35 - loss: 4.7071 - acc: 0.026 - ETA: 5:33 - loss: 4.7042 - acc: 0.025 - ETA: 5:32 - loss: 4.7045 - acc: 0.027 - ETA: 5:30 - loss: 4.7033 - acc: 0.026 - ETA: 5:28 - loss: 4.6983 - acc: 0.028 - ETA: 5:26 - loss: 4.6986 - acc: 0.027 - ETA: 5:24 - loss: 4.7008 - acc: 0.027 - ETA: 5:23 - loss: 4.7030 - acc: 0.026 - ETA: 5:21 - loss: 4.7037 - acc: 0.026 - ETA: 5:19 - loss: 4.7015 - acc: 0.027 - ETA: 5:18 - loss: 4.6985 - acc: 0.027 - ETA: 5:16 - loss: 4.6999 - acc: 0.028 - ETA: 5:14 - loss: 4.6990 - acc: 0.028 - ETA: 5:14 - loss: 4.6989 - acc: 0.029 - ETA: 5:13 - loss: 4.6960 - acc: 0.029 - ETA: 5:12 - loss: 4.6971 - acc: 0.028 - ETA: 5:11 - loss: 4.6980 - acc: 0.028 - ETA: 5:10 - loss: 4.6976 - acc: 0.028 - ETA: 5:09 - loss: 4.6967 - acc: 0.027 - ETA: 5:08 - loss: 4.6953 - acc: 0.027 - ETA: 5:08 - loss: 4.6934 - acc: 0.027 - ETA: 5:07 - loss: 4.6913 - acc: 0.027 - ETA: 5:06 - loss: 4.6916 - acc: 0.027 - ETA: 5:05 - loss: 4.6912 - acc: 0.026 - ETA: 5:04 - loss: 4.6885 - acc: 0.026 - ETA: 5:04 - loss: 4.6911 - acc: 0.026 - ETA: 5:03 - loss: 4.6911 - acc: 0.025 - ETA: 5:02 - loss: 4.6919 - acc: 0.025 - ETA: 5:01 - loss: 4.6919 - acc: 0.025 - ETA: 5:00 - loss: 4.6876 - acc: 0.025 - ETA: 4:59 - loss: 4.6871 - acc: 0.025 - ETA: 4:57 - loss: 4.6893 - acc: 0.024 - ETA: 4:56 - loss: 4.6896 - acc: 0.024 - ETA: 4:54 - loss: 4.6863 - acc: 0.024 - ETA: 4:53 - loss: 4.6863 - acc: 0.024 - ETA: 4:51 - loss: 4.6884 - acc: 0.024 - ETA: 4:50 - loss: 4.6868 - acc: 0.023 - ETA: 4:48 - loss: 4.6870 - acc: 0.023 - ETA: 4:47 - loss: 4.6874 - acc: 0.023 - ETA: 4:46 - loss: 4.6885 - acc: 0.022 - ETA: 4:44 - loss: 4.6906 - acc: 0.022 - ETA: 4:43 - loss: 4.6893 - acc: 0.022 - ETA: 4:41 - loss: 4.6888 - acc: 0.023 - ETA: 4:40 - loss: 4.6895 - acc: 0.022 - ETA: 4:39 - loss: 4.6898 - acc: 0.023 - ETA: 4:38 - loss: 4.6911 - acc: 0.023 - ETA: 4:37 - loss: 4.6912 - acc: 0.022 - ETA: 4:36 - loss: 4.6913 - acc: 0.023 - ETA: 4:35 - loss: 4.6882 - acc: 0.023 - ETA: 4:34 - loss: 4.6907 - acc: 0.023 - ETA: 4:33 - loss: 4.6905 - acc: 0.023 - ETA: 4:32 - loss: 4.6897 - acc: 0.024 - ETA: 4:31 - loss: 4.6870 - acc: 0.023 - ETA: 4:30 - loss: 4.6861 - acc: 0.023 - ETA: 4:29 - loss: 4.6843 - acc: 0.024 - ETA: 4:28 - loss: 4.6837 - acc: 0.024 - ETA: 4:27 - loss: 4.6845 - acc: 0.024 - ETA: 4:26 - loss: 4.6882 - acc: 0.024 - ETA: 4:26 - loss: 4.6902 - acc: 0.024 - ETA: 4:25 - loss: 4.6923 - acc: 0.024 - ETA: 4:24 - loss: 4.6934 - acc: 0.024 - ETA: 4:22 - loss: 4.6923 - acc: 0.023 - ETA: 4:21 - loss: 4.6932 - acc: 0.023 - ETA: 4:20 - loss: 4.6934 - acc: 0.023 - ETA: 4:19 - loss: 4.6920 - acc: 0.023 - ETA: 4:18 - loss: 4.6917 - acc: 0.022 - ETA: 4:17 - loss: 4.6930 - acc: 0.023 - ETA: 4:16 - loss: 4.6923 - acc: 0.023 - ETA: 4:15 - loss: 4.6927 - acc: 0.023 - ETA: 4:14 - loss: 4.6923 - acc: 0.024 - ETA: 4:13 - loss: 4.6926 - acc: 0.024 - ETA: 4:12 - loss: 4.6919 - acc: 0.024 - ETA: 4:11 - loss: 4.6910 - acc: 0.024 - ETA: 4:10 - loss: 4.6914 - acc: 0.024 - ETA: 4:09 - loss: 4.6900 - acc: 0.024 - ETA: 4:08 - loss: 4.6915 - acc: 0.024 - ETA: 4:06 - loss: 4.6925 - acc: 0.025 - ETA: 4:05 - loss: 4.6920 - acc: 0.024 - ETA: 4:04 - loss: 4.6909 - acc: 0.025 - ETA: 4:03 - loss: 4.6928 - acc: 0.024 - ETA: 4:01 - loss: 4.6933 - acc: 0.024 - ETA: 4:00 - loss: 4.6922 - acc: 0.024 - ETA: 3:59 - loss: 4.6920 - acc: 0.025 - ETA: 3:57 - loss: 4.6911 - acc: 0.025 - ETA: 3:56 - loss: 4.6908 - acc: 0.025 - ETA: 3:55 - loss: 4.6919 - acc: 0.025 - ETA: 3:54 - loss: 4.6912 - acc: 0.025 - ETA: 3:53 - loss: 4.6912 - acc: 0.025 - ETA: 3:52 - loss: 4.6912 - acc: 0.025 - ETA: 3:51 - loss: 4.6920 - acc: 0.024 - ETA: 3:50 - loss: 4.6931 - acc: 0.024 - ETA: 3:49 - loss: 4.6920 - acc: 0.024 - ETA: 3:48 - loss: 4.6936 - acc: 0.024 - ETA: 3:47 - loss: 4.6937 - acc: 0.024 - ETA: 3:46 - loss: 4.6932 - acc: 0.023 - ETA: 3:45 - loss: 4.6927 - acc: 0.023 - ETA: 3:44 - loss: 4.6922 - acc: 0.023 - ETA: 3:43 - loss: 4.6909 - acc: 0.023 - ETA: 3:42 - loss: 4.6902 - acc: 0.023 - ETA: 3:41 - loss: 4.6924 - acc: 0.023 - ETA: 3:40 - loss: 4.6926 - acc: 0.023 - ETA: 3:39 - loss: 4.6926 - acc: 0.023 - ETA: 3:38 - loss: 4.6906 - acc: 0.023 - ETA: 3:36 - loss: 4.6875 - acc: 0.024 - ETA: 3:35 - loss: 4.6911 - acc: 0.024 - ETA: 3:34 - loss: 4.6913 - acc: 0.024 - ETA: 3:33 - loss: 4.6929 - acc: 0.024 - ETA: 3:32 - loss: 4.6940 - acc: 0.023 - ETA: 3:31 - loss: 4.6931 - acc: 0.023 - ETA: 3:30 - loss: 4.6928 - acc: 0.023 - ETA: 3:29 - loss: 4.6915 - acc: 0.024 - ETA: 3:28 - loss: 4.6915 - acc: 0.024 - ETA: 3:26 - loss: 4.6914 - acc: 0.024 - ETA: 3:25 - loss: 4.6907 - acc: 0.024 - ETA: 3:24 - loss: 4.6892 - acc: 0.024 - ETA: 3:23 - loss: 4.6886 - acc: 0.024 - ETA: 3:22 - loss: 4.6877 - acc: 0.024 - ETA: 3:21 - loss: 4.6892 - acc: 0.024 - ETA: 3:20 - loss: 4.6887 - acc: 0.024 - ETA: 3:19 - loss: 4.6893 - acc: 0.024 - ETA: 3:18 - loss: 4.6907 - acc: 0.024 - ETA: 3:17 - loss: 4.6913 - acc: 0.024 - ETA: 3:16 - loss: 4.6929 - acc: 0.024 - ETA: 3:14 - loss: 4.6917 - acc: 0.024 - ETA: 3:13 - loss: 4.6918 - acc: 0.025 - ETA: 3:12 - loss: 4.6918 - acc: 0.024 - ETA: 3:11 - loss: 4.6921 - acc: 0.025 - ETA: 3:10 - loss: 4.6907 - acc: 0.025 - ETA: 3:09 - loss: 4.6902 - acc: 0.025 - ETA: 3:08 - loss: 4.6903 - acc: 0.025 - ETA: 3:07 - loss: 4.6904 - acc: 0.025 - ETA: 3:06 - loss: 4.6910 - acc: 0.025 - ETA: 3:04 - loss: 4.6922 - acc: 0.025 - ETA: 3:03 - loss: 4.6918 - acc: 0.024 - ETA: 3:02 - loss: 4.6926 - acc: 0.024 - ETA: 3:01 - loss: 4.6930 - acc: 0.024 - ETA: 3:00 - loss: 4.6927 - acc: 0.024 - ETA: 3:00 - loss: 4.6927 - acc: 0.024 - ETA: 2:58 - loss: 4.6909 - acc: 0.024 - ETA: 2:57 - loss: 4.6900 - acc: 0.024 - ETA: 2:56 - loss: 4.6899 - acc: 0.025 - ETA: 2:54 - loss: 4.6912 - acc: 0.024 - ETA: 2:53 - loss: 4.6910 - acc: 0.025 - ETA: 2:52 - loss: 4.6895 - acc: 0.025 - ETA: 2:51 - loss: 4.6894 - acc: 0.025 - ETA: 2:50 - loss: 4.6884 - acc: 0.025 - ETA: 2:48 - loss: 4.6877 - acc: 0.025 - ETA: 2:49 - loss: 4.6874 - acc: 0.025 - ETA: 2:48 - loss: 4.6878 - acc: 0.025 - ETA: 2:47 - loss: 4.6881 - acc: 0.025 - ETA: 2:46 - loss: 4.6889 - acc: 0.025 - ETA: 2:45 - loss: 4.6899 - acc: 0.025 - ETA: 2:44 - loss: 4.6908 - acc: 0.025 - ETA: 2:42 - loss: 4.6912 - acc: 0.024 - ETA: 2:41 - loss: 4.6922 - acc: 0.024 - ETA: 2:40 - loss: 4.6925 - acc: 0.024 - ETA: 2:39 - loss: 4.6937 - acc: 0.024 - ETA: 2:38 - loss: 4.6940 - acc: 0.024 - ETA: 2:37 - loss: 4.6934 - acc: 0.024 - ETA: 2:35 - loss: 4.6934 - acc: 0.024 - ETA: 2:34 - loss: 4.6945 - acc: 0.024 - ETA: 2:33 - loss: 4.6933 - acc: 0.024 - ETA: 2:32 - loss: 4.6933 - acc: 0.0248"
     ]
    },
    {
     "name": "stdout",
     "output_type": "stream",
     "text": [
      "6680/6680 [==============================] - ETA: 2:31 - loss: 4.6924 - acc: 0.024 - ETA: 2:29 - loss: 4.6920 - acc: 0.025 - ETA: 2:28 - loss: 4.6921 - acc: 0.024 - ETA: 2:27 - loss: 4.6921 - acc: 0.024 - ETA: 2:26 - loss: 4.6930 - acc: 0.024 - ETA: 2:25 - loss: 4.6927 - acc: 0.024 - ETA: 2:24 - loss: 4.6922 - acc: 0.025 - ETA: 2:22 - loss: 4.6927 - acc: 0.025 - ETA: 2:21 - loss: 4.6929 - acc: 0.024 - ETA: 2:20 - loss: 4.6920 - acc: 0.025 - ETA: 2:19 - loss: 4.6913 - acc: 0.024 - ETA: 2:18 - loss: 4.6922 - acc: 0.024 - ETA: 2:17 - loss: 4.6921 - acc: 0.024 - ETA: 2:15 - loss: 4.6922 - acc: 0.025 - ETA: 2:14 - loss: 4.6907 - acc: 0.025 - ETA: 2:13 - loss: 4.6908 - acc: 0.025 - ETA: 2:12 - loss: 4.6904 - acc: 0.024 - ETA: 2:11 - loss: 4.6902 - acc: 0.024 - ETA: 2:09 - loss: 4.6910 - acc: 0.024 - ETA: 2:08 - loss: 4.6898 - acc: 0.025 - ETA: 2:07 - loss: 4.6896 - acc: 0.024 - ETA: 2:06 - loss: 4.6909 - acc: 0.024 - ETA: 2:05 - loss: 4.6910 - acc: 0.024 - ETA: 2:04 - loss: 4.6904 - acc: 0.024 - ETA: 2:02 - loss: 4.6909 - acc: 0.024 - ETA: 2:01 - loss: 4.6904 - acc: 0.024 - ETA: 2:00 - loss: 4.6902 - acc: 0.024 - ETA: 1:59 - loss: 4.6893 - acc: 0.024 - ETA: 1:58 - loss: 4.6891 - acc: 0.025 - ETA: 1:56 - loss: 4.6897 - acc: 0.025 - ETA: 1:55 - loss: 4.6895 - acc: 0.025 - ETA: 1:54 - loss: 4.6903 - acc: 0.025 - ETA: 1:53 - loss: 4.6910 - acc: 0.025 - ETA: 1:52 - loss: 4.6905 - acc: 0.025 - ETA: 1:51 - loss: 4.6906 - acc: 0.025 - ETA: 1:49 - loss: 4.6899 - acc: 0.025 - ETA: 1:48 - loss: 4.6907 - acc: 0.025 - ETA: 1:47 - loss: 4.6906 - acc: 0.025 - ETA: 1:46 - loss: 4.6911 - acc: 0.025 - ETA: 1:45 - loss: 4.6907 - acc: 0.025 - ETA: 1:43 - loss: 4.6903 - acc: 0.025 - ETA: 1:42 - loss: 4.6902 - acc: 0.025 - ETA: 1:41 - loss: 4.6899 - acc: 0.025 - ETA: 1:40 - loss: 4.6894 - acc: 0.025 - ETA: 1:39 - loss: 4.6895 - acc: 0.025 - ETA: 1:38 - loss: 4.6904 - acc: 0.025 - ETA: 1:36 - loss: 4.6908 - acc: 0.025 - ETA: 1:35 - loss: 4.6907 - acc: 0.025 - ETA: 1:34 - loss: 4.6911 - acc: 0.025 - ETA: 1:33 - loss: 4.6906 - acc: 0.025 - ETA: 1:32 - loss: 4.6910 - acc: 0.025 - ETA: 1:31 - loss: 4.6907 - acc: 0.025 - ETA: 1:29 - loss: 4.6909 - acc: 0.025 - ETA: 1:28 - loss: 4.6906 - acc: 0.025 - ETA: 1:27 - loss: 4.6909 - acc: 0.025 - ETA: 1:26 - loss: 4.6909 - acc: 0.025 - ETA: 1:25 - loss: 4.6902 - acc: 0.025 - ETA: 1:23 - loss: 4.6908 - acc: 0.025 - ETA: 1:22 - loss: 4.6914 - acc: 0.025 - ETA: 1:21 - loss: 4.6914 - acc: 0.025 - ETA: 1:20 - loss: 4.6914 - acc: 0.025 - ETA: 1:19 - loss: 4.6909 - acc: 0.025 - ETA: 1:17 - loss: 4.6917 - acc: 0.025 - ETA: 1:16 - loss: 4.6912 - acc: 0.025 - ETA: 1:15 - loss: 4.6919 - acc: 0.025 - ETA: 1:14 - loss: 4.6915 - acc: 0.025 - ETA: 1:13 - loss: 4.6918 - acc: 0.025 - ETA: 1:12 - loss: 4.6926 - acc: 0.025 - ETA: 1:10 - loss: 4.6926 - acc: 0.025 - ETA: 1:09 - loss: 4.6935 - acc: 0.025 - ETA: 1:08 - loss: 4.6931 - acc: 0.025 - ETA: 1:07 - loss: 4.6932 - acc: 0.025 - ETA: 1:06 - loss: 4.6935 - acc: 0.025 - ETA: 1:05 - loss: 4.6929 - acc: 0.025 - ETA: 1:03 - loss: 4.6934 - acc: 0.025 - ETA: 1:02 - loss: 4.6945 - acc: 0.025 - ETA: 1:01 - loss: 4.6947 - acc: 0.025 - ETA: 1:00 - loss: 4.6950 - acc: 0.025 - ETA: 59s - loss: 4.6952 - acc: 0.025 - ETA: 57s - loss: 4.6949 - acc: 0.02 - ETA: 56s - loss: 4.6951 - acc: 0.02 - ETA: 55s - loss: 4.6955 - acc: 0.02 - ETA: 54s - loss: 4.6966 - acc: 0.02 - ETA: 53s - loss: 4.6961 - acc: 0.02 - ETA: 52s - loss: 4.6959 - acc: 0.02 - ETA: 50s - loss: 4.6964 - acc: 0.02 - ETA: 49s - loss: 4.6966 - acc: 0.02 - ETA: 48s - loss: 4.6965 - acc: 0.02 - ETA: 47s - loss: 4.6963 - acc: 0.02 - ETA: 46s - loss: 4.6960 - acc: 0.02 - ETA: 45s - loss: 4.6966 - acc: 0.02 - ETA: 43s - loss: 4.6964 - acc: 0.02 - ETA: 42s - loss: 4.6964 - acc: 0.02 - ETA: 41s - loss: 4.6969 - acc: 0.02 - ETA: 40s - loss: 4.6971 - acc: 0.02 - ETA: 39s - loss: 4.6969 - acc: 0.02 - ETA: 38s - loss: 4.6965 - acc: 0.02 - ETA: 36s - loss: 4.6971 - acc: 0.02 - ETA: 35s - loss: 4.6976 - acc: 0.02 - ETA: 34s - loss: 4.6974 - acc: 0.02 - ETA: 33s - loss: 4.6968 - acc: 0.02 - ETA: 32s - loss: 4.6971 - acc: 0.02 - ETA: 31s - loss: 4.6969 - acc: 0.02 - ETA: 29s - loss: 4.6966 - acc: 0.02 - ETA: 28s - loss: 4.6968 - acc: 0.02 - ETA: 27s - loss: 4.6962 - acc: 0.02 - ETA: 26s - loss: 4.6962 - acc: 0.02 - ETA: 25s - loss: 4.6966 - acc: 0.02 - ETA: 24s - loss: 4.6967 - acc: 0.02 - ETA: 23s - loss: 4.6963 - acc: 0.02 - ETA: 21s - loss: 4.6964 - acc: 0.02 - ETA: 20s - loss: 4.6965 - acc: 0.02 - ETA: 19s - loss: 4.6969 - acc: 0.02 - ETA: 18s - loss: 4.6965 - acc: 0.02 - ETA: 17s - loss: 4.6963 - acc: 0.02 - ETA: 16s - loss: 4.6965 - acc: 0.02 - ETA: 14s - loss: 4.6959 - acc: 0.02 - ETA: 13s - loss: 4.6959 - acc: 0.02 - ETA: 12s - loss: 4.6956 - acc: 0.02 - ETA: 11s - loss: 4.6965 - acc: 0.02 - ETA: 10s - loss: 4.6968 - acc: 0.02 - ETA: 9s - loss: 4.6969 - acc: 0.0261 - ETA: 8s - loss: 4.6972 - acc: 0.026 - ETA: 6s - loss: 4.6969 - acc: 0.025 - ETA: 5s - loss: 4.6973 - acc: 0.026 - ETA: 4s - loss: 4.6972 - acc: 0.026 - ETA: 3s - loss: 4.6969 - acc: 0.026 - ETA: 2s - loss: 4.6972 - acc: 0.025 - ETA: 1s - loss: 4.6966 - acc: 0.025 - 402s 60ms/step - loss: 4.6964 - acc: 0.0259 - val_loss: 4.7463 - val_acc: 0.0287\n",
      "\n",
      "Epoch 00006: val_loss improved from 4.75362 to 4.74630, saving model to saved_models/weights.best.from_scratch.hdf5\n",
      "Epoch 7/10\n",
      "4080/6680 [=================>............] - ETA: 5:43 - loss: 4.5567 - acc: 0.100 - ETA: 5:45 - loss: 4.5801 - acc: 0.050 - ETA: 5:45 - loss: 4.5638 - acc: 0.066 - ETA: 5:51 - loss: 4.6254 - acc: 0.050 - ETA: 5:51 - loss: 4.6732 - acc: 0.040 - ETA: 5:50 - loss: 4.6710 - acc: 0.041 - ETA: 5:48 - loss: 4.6953 - acc: 0.035 - ETA: 5:49 - loss: 4.6731 - acc: 0.037 - ETA: 5:47 - loss: 4.7062 - acc: 0.033 - ETA: 5:47 - loss: 4.6768 - acc: 0.045 - ETA: 5:46 - loss: 4.6821 - acc: 0.040 - ETA: 5:44 - loss: 4.6932 - acc: 0.037 - ETA: 5:43 - loss: 4.6801 - acc: 0.034 - ETA: 5:42 - loss: 4.6813 - acc: 0.035 - ETA: 5:40 - loss: 4.6927 - acc: 0.033 - ETA: 5:38 - loss: 4.6886 - acc: 0.034 - ETA: 5:36 - loss: 4.6840 - acc: 0.032 - ETA: 5:35 - loss: 4.6676 - acc: 0.038 - ETA: 5:34 - loss: 4.6614 - acc: 0.042 - ETA: 5:32 - loss: 4.6696 - acc: 0.045 - ETA: 5:30 - loss: 4.6722 - acc: 0.047 - ETA: 5:29 - loss: 4.6759 - acc: 0.047 - ETA: 5:28 - loss: 4.6664 - acc: 0.045 - ETA: 5:28 - loss: 4.6601 - acc: 0.045 - ETA: 5:26 - loss: 4.6545 - acc: 0.044 - ETA: 5:25 - loss: 4.6613 - acc: 0.044 - ETA: 5:24 - loss: 4.6526 - acc: 0.042 - ETA: 5:22 - loss: 4.6570 - acc: 0.041 - ETA: 5:21 - loss: 4.6524 - acc: 0.039 - ETA: 5:20 - loss: 4.6489 - acc: 0.038 - ETA: 5:19 - loss: 4.6592 - acc: 0.037 - ETA: 5:18 - loss: 4.6590 - acc: 0.035 - ETA: 5:17 - loss: 4.6640 - acc: 0.034 - ETA: 5:15 - loss: 4.6640 - acc: 0.035 - ETA: 5:14 - loss: 4.6786 - acc: 0.034 - ETA: 5:13 - loss: 4.6756 - acc: 0.034 - ETA: 5:12 - loss: 4.6747 - acc: 0.033 - ETA: 5:11 - loss: 4.6712 - acc: 0.034 - ETA: 5:10 - loss: 4.6713 - acc: 0.033 - ETA: 5:08 - loss: 4.6678 - acc: 0.035 - ETA: 5:07 - loss: 4.6655 - acc: 0.036 - ETA: 5:06 - loss: 4.6663 - acc: 0.038 - ETA: 5:05 - loss: 4.6645 - acc: 0.037 - ETA: 5:04 - loss: 4.6601 - acc: 0.037 - ETA: 5:03 - loss: 4.6629 - acc: 0.038 - ETA: 5:02 - loss: 4.6642 - acc: 0.039 - ETA: 5:01 - loss: 4.6605 - acc: 0.038 - ETA: 5:01 - loss: 4.6594 - acc: 0.039 - ETA: 5:00 - loss: 4.6589 - acc: 0.039 - ETA: 4:59 - loss: 4.6607 - acc: 0.039 - ETA: 4:58 - loss: 4.6565 - acc: 0.038 - ETA: 4:57 - loss: 4.6557 - acc: 0.037 - ETA: 4:56 - loss: 4.6553 - acc: 0.037 - ETA: 4:54 - loss: 4.6601 - acc: 0.038 - ETA: 4:53 - loss: 4.6582 - acc: 0.038 - ETA: 4:52 - loss: 4.6597 - acc: 0.038 - ETA: 4:51 - loss: 4.6614 - acc: 0.037 - ETA: 4:50 - loss: 4.6604 - acc: 0.037 - ETA: 4:49 - loss: 4.6602 - acc: 0.036 - ETA: 4:47 - loss: 4.6603 - acc: 0.037 - ETA: 4:46 - loss: 4.6616 - acc: 0.036 - ETA: 4:45 - loss: 4.6601 - acc: 0.036 - ETA: 4:44 - loss: 4.6599 - acc: 0.035 - ETA: 4:43 - loss: 4.6617 - acc: 0.035 - ETA: 4:42 - loss: 4.6591 - acc: 0.036 - ETA: 4:40 - loss: 4.6591 - acc: 0.035 - ETA: 4:39 - loss: 4.6604 - acc: 0.035 - ETA: 4:38 - loss: 4.6631 - acc: 0.034 - ETA: 4:37 - loss: 4.6629 - acc: 0.034 - ETA: 4:36 - loss: 4.6609 - acc: 0.034 - ETA: 4:35 - loss: 4.6609 - acc: 0.034 - ETA: 4:34 - loss: 4.6607 - acc: 0.034 - ETA: 4:32 - loss: 4.6646 - acc: 0.033 - ETA: 4:31 - loss: 4.6627 - acc: 0.033 - ETA: 4:30 - loss: 4.6624 - acc: 0.032 - ETA: 4:29 - loss: 4.6614 - acc: 0.032 - ETA: 4:28 - loss: 4.6627 - acc: 0.033 - ETA: 4:27 - loss: 4.6627 - acc: 0.033 - ETA: 4:26 - loss: 4.6630 - acc: 0.034 - ETA: 4:25 - loss: 4.6604 - acc: 0.033 - ETA: 4:24 - loss: 4.6619 - acc: 0.034 - ETA: 4:23 - loss: 4.6652 - acc: 0.034 - ETA: 4:22 - loss: 4.6659 - acc: 0.033 - ETA: 4:21 - loss: 4.6661 - acc: 0.033 - ETA: 4:20 - loss: 4.6651 - acc: 0.032 - ETA: 4:19 - loss: 4.6665 - acc: 0.032 - ETA: 4:18 - loss: 4.6648 - acc: 0.032 - ETA: 4:17 - loss: 4.6666 - acc: 0.031 - ETA: 4:16 - loss: 4.6670 - acc: 0.032 - ETA: 4:15 - loss: 4.6670 - acc: 0.031 - ETA: 4:14 - loss: 4.6669 - acc: 0.031 - ETA: 4:13 - loss: 4.6677 - acc: 0.031 - ETA: 4:12 - loss: 4.6683 - acc: 0.030 - ETA: 4:11 - loss: 4.6663 - acc: 0.030 - ETA: 4:10 - loss: 4.6648 - acc: 0.030 - ETA: 4:09 - loss: 4.6615 - acc: 0.030 - ETA: 4:07 - loss: 4.6603 - acc: 0.030 - ETA: 4:06 - loss: 4.6613 - acc: 0.030 - ETA: 4:05 - loss: 4.6628 - acc: 0.030 - ETA: 4:04 - loss: 4.6625 - acc: 0.030 - ETA: 4:03 - loss: 4.6622 - acc: 0.031 - ETA: 4:02 - loss: 4.6624 - acc: 0.031 - ETA: 4:01 - loss: 4.6631 - acc: 0.031 - ETA: 4:00 - loss: 4.6611 - acc: 0.031 - ETA: 3:59 - loss: 4.6646 - acc: 0.031 - ETA: 3:58 - loss: 4.6651 - acc: 0.031 - ETA: 3:57 - loss: 4.6633 - acc: 0.031 - ETA: 3:56 - loss: 4.6628 - acc: 0.031 - ETA: 3:55 - loss: 4.6608 - acc: 0.030 - ETA: 3:54 - loss: 4.6610 - acc: 0.030 - ETA: 3:53 - loss: 4.6642 - acc: 0.030 - ETA: 3:52 - loss: 4.6629 - acc: 0.030 - ETA: 3:51 - loss: 4.6626 - acc: 0.030 - ETA: 3:50 - loss: 4.6636 - acc: 0.030 - ETA: 3:49 - loss: 4.6631 - acc: 0.030 - ETA: 3:47 - loss: 4.6626 - acc: 0.030 - ETA: 3:46 - loss: 4.6622 - acc: 0.030 - ETA: 3:45 - loss: 4.6596 - acc: 0.030 - ETA: 3:44 - loss: 4.6609 - acc: 0.031 - ETA: 3:43 - loss: 4.6611 - acc: 0.030 - ETA: 3:42 - loss: 4.6599 - acc: 0.031 - ETA: 3:41 - loss: 4.6590 - acc: 0.031 - ETA: 3:40 - loss: 4.6582 - acc: 0.031 - ETA: 3:39 - loss: 4.6569 - acc: 0.031 - ETA: 3:38 - loss: 4.6578 - acc: 0.032 - ETA: 3:37 - loss: 4.6587 - acc: 0.031 - ETA: 3:36 - loss: 4.6583 - acc: 0.031 - ETA: 3:35 - loss: 4.6596 - acc: 0.031 - ETA: 3:34 - loss: 4.6598 - acc: 0.031 - ETA: 3:33 - loss: 4.6603 - acc: 0.031 - ETA: 3:32 - loss: 4.6609 - acc: 0.030 - ETA: 3:31 - loss: 4.6603 - acc: 0.031 - ETA: 3:30 - loss: 4.6608 - acc: 0.030 - ETA: 3:29 - loss: 4.6607 - acc: 0.031 - ETA: 3:28 - loss: 4.6594 - acc: 0.031 - ETA: 3:27 - loss: 4.6596 - acc: 0.031 - ETA: 3:26 - loss: 4.6583 - acc: 0.031 - ETA: 3:25 - loss: 4.6589 - acc: 0.031 - ETA: 3:24 - loss: 4.6594 - acc: 0.030 - ETA: 3:23 - loss: 4.6603 - acc: 0.031 - ETA: 3:22 - loss: 4.6614 - acc: 0.031 - ETA: 3:21 - loss: 4.6627 - acc: 0.031 - ETA: 3:20 - loss: 4.6643 - acc: 0.031 - ETA: 3:18 - loss: 4.6641 - acc: 0.030 - ETA: 3:17 - loss: 4.6632 - acc: 0.031 - ETA: 3:16 - loss: 4.6635 - acc: 0.031 - ETA: 3:16 - loss: 4.6634 - acc: 0.031 - ETA: 3:14 - loss: 4.6630 - acc: 0.031 - ETA: 3:13 - loss: 4.6640 - acc: 0.031 - ETA: 3:12 - loss: 4.6640 - acc: 0.031 - ETA: 3:11 - loss: 4.6638 - acc: 0.031 - ETA: 3:10 - loss: 4.6642 - acc: 0.030 - ETA: 3:09 - loss: 4.6641 - acc: 0.030 - ETA: 3:08 - loss: 4.6650 - acc: 0.030 - ETA: 3:07 - loss: 4.6650 - acc: 0.030 - ETA: 3:06 - loss: 4.6649 - acc: 0.030 - ETA: 3:05 - loss: 4.6658 - acc: 0.029 - ETA: 3:04 - loss: 4.6675 - acc: 0.029 - ETA: 3:03 - loss: 4.6670 - acc: 0.029 - ETA: 3:02 - loss: 4.6672 - acc: 0.029 - ETA: 3:01 - loss: 4.6684 - acc: 0.029 - ETA: 3:00 - loss: 4.6679 - acc: 0.029 - ETA: 2:59 - loss: 4.6678 - acc: 0.029 - ETA: 2:58 - loss: 4.6665 - acc: 0.029 - ETA: 2:57 - loss: 4.6666 - acc: 0.029 - ETA: 2:56 - loss: 4.6671 - acc: 0.029 - ETA: 2:55 - loss: 4.6656 - acc: 0.029 - ETA: 2:54 - loss: 4.6642 - acc: 0.029 - ETA: 2:53 - loss: 4.6625 - acc: 0.029 - ETA: 2:52 - loss: 4.6620 - acc: 0.029 - ETA: 2:51 - loss: 4.6631 - acc: 0.029 - ETA: 2:50 - loss: 4.6638 - acc: 0.029 - ETA: 2:49 - loss: 4.6628 - acc: 0.030 - ETA: 2:48 - loss: 4.6632 - acc: 0.029 - ETA: 2:47 - loss: 4.6638 - acc: 0.029 - ETA: 2:46 - loss: 4.6636 - acc: 0.029 - ETA: 2:44 - loss: 4.6645 - acc: 0.029 - ETA: 2:43 - loss: 4.6647 - acc: 0.029 - ETA: 2:42 - loss: 4.6655 - acc: 0.029 - ETA: 2:41 - loss: 4.6658 - acc: 0.029 - ETA: 2:40 - loss: 4.6666 - acc: 0.029 - ETA: 2:39 - loss: 4.6659 - acc: 0.029 - ETA: 2:38 - loss: 4.6652 - acc: 0.029 - ETA: 2:37 - loss: 4.6647 - acc: 0.029 - ETA: 2:36 - loss: 4.6643 - acc: 0.029 - ETA: 2:35 - loss: 4.6634 - acc: 0.029 - ETA: 2:34 - loss: 4.6619 - acc: 0.029 - ETA: 2:33 - loss: 4.6602 - acc: 0.029 - ETA: 2:32 - loss: 4.6601 - acc: 0.029 - ETA: 2:31 - loss: 4.6602 - acc: 0.029 - ETA: 2:29 - loss: 4.6592 - acc: 0.029 - ETA: 2:28 - loss: 4.6586 - acc: 0.029 - ETA: 2:27 - loss: 4.6590 - acc: 0.029 - ETA: 2:26 - loss: 4.6584 - acc: 0.029 - ETA: 2:25 - loss: 4.6589 - acc: 0.029 - ETA: 2:24 - loss: 4.6598 - acc: 0.029 - ETA: 2:23 - loss: 4.6588 - acc: 0.029 - ETA: 2:22 - loss: 4.6597 - acc: 0.029 - ETA: 2:21 - loss: 4.6602 - acc: 0.029 - ETA: 2:20 - loss: 4.6605 - acc: 0.029 - ETA: 2:19 - loss: 4.6603 - acc: 0.030 - ETA: 2:18 - loss: 4.6589 - acc: 0.030 - ETA: 2:17 - loss: 4.6573 - acc: 0.030 - ETA: 2:16 - loss: 4.6568 - acc: 0.03096680/6680 [==============================] - ETA: 2:15 - loss: 4.6576 - acc: 0.030 - ETA: 2:14 - loss: 4.6579 - acc: 0.030 - ETA: 2:13 - loss: 4.6581 - acc: 0.030 - ETA: 2:12 - loss: 4.6578 - acc: 0.030 - ETA: 2:10 - loss: 4.6583 - acc: 0.030 - ETA: 2:09 - loss: 4.6591 - acc: 0.030 - ETA: 2:08 - loss: 4.6593 - acc: 0.030 - ETA: 2:07 - loss: 4.6601 - acc: 0.030 - ETA: 2:06 - loss: 4.6601 - acc: 0.030 - ETA: 2:05 - loss: 4.6603 - acc: 0.030 - ETA: 2:04 - loss: 4.6607 - acc: 0.030 - ETA: 2:03 - loss: 4.6612 - acc: 0.030 - ETA: 2:02 - loss: 4.6605 - acc: 0.030 - ETA: 2:01 - loss: 4.6604 - acc: 0.030 - ETA: 2:00 - loss: 4.6598 - acc: 0.030 - ETA: 1:59 - loss: 4.6595 - acc: 0.030 - ETA: 1:58 - loss: 4.6601 - acc: 0.030 - ETA: 1:57 - loss: 4.6600 - acc: 0.030 - ETA: 1:56 - loss: 4.6597 - acc: 0.030 - ETA: 1:55 - loss: 4.6594 - acc: 0.030 - ETA: 1:53 - loss: 4.6601 - acc: 0.030 - ETA: 1:52 - loss: 4.6599 - acc: 0.030 - ETA: 1:51 - loss: 4.6593 - acc: 0.030 - ETA: 1:50 - loss: 4.6596 - acc: 0.030 - ETA: 1:49 - loss: 4.6599 - acc: 0.030 - ETA: 1:48 - loss: 4.6597 - acc: 0.030 - ETA: 1:47 - loss: 4.6589 - acc: 0.030 - ETA: 1:46 - loss: 4.6594 - acc: 0.030 - ETA: 1:45 - loss: 4.6599 - acc: 0.030 - ETA: 1:44 - loss: 4.6600 - acc: 0.030 - ETA: 1:43 - loss: 4.6618 - acc: 0.030 - ETA: 1:42 - loss: 4.6636 - acc: 0.029 - ETA: 1:41 - loss: 4.6640 - acc: 0.030 - ETA: 1:40 - loss: 4.6649 - acc: 0.030 - ETA: 1:39 - loss: 4.6648 - acc: 0.030 - ETA: 1:38 - loss: 4.6645 - acc: 0.030 - ETA: 1:37 - loss: 4.6644 - acc: 0.030 - ETA: 1:36 - loss: 4.6646 - acc: 0.030 - ETA: 1:35 - loss: 4.6642 - acc: 0.030 - ETA: 1:33 - loss: 4.6645 - acc: 0.029 - ETA: 1:32 - loss: 4.6646 - acc: 0.029 - ETA: 1:31 - loss: 4.6646 - acc: 0.029 - ETA: 1:30 - loss: 4.6657 - acc: 0.029 - ETA: 1:29 - loss: 4.6657 - acc: 0.029 - ETA: 1:28 - loss: 4.6658 - acc: 0.029 - ETA: 1:27 - loss: 4.6657 - acc: 0.029 - ETA: 1:26 - loss: 4.6652 - acc: 0.029 - ETA: 1:25 - loss: 4.6654 - acc: 0.030 - ETA: 1:24 - loss: 4.6654 - acc: 0.029 - ETA: 1:23 - loss: 4.6662 - acc: 0.029 - ETA: 1:22 - loss: 4.6670 - acc: 0.029 - ETA: 1:21 - loss: 4.6674 - acc: 0.029 - ETA: 1:20 - loss: 4.6671 - acc: 0.029 - ETA: 1:19 - loss: 4.6676 - acc: 0.029 - ETA: 1:18 - loss: 4.6681 - acc: 0.029 - ETA: 1:17 - loss: 4.6675 - acc: 0.029 - ETA: 1:16 - loss: 4.6675 - acc: 0.029 - ETA: 1:15 - loss: 4.6672 - acc: 0.030 - ETA: 1:14 - loss: 4.6674 - acc: 0.030 - ETA: 1:13 - loss: 4.6671 - acc: 0.030 - ETA: 1:11 - loss: 4.6670 - acc: 0.030 - ETA: 1:10 - loss: 4.6666 - acc: 0.030 - ETA: 1:09 - loss: 4.6660 - acc: 0.030 - ETA: 1:08 - loss: 4.6666 - acc: 0.030 - ETA: 1:07 - loss: 4.6673 - acc: 0.030 - ETA: 1:06 - loss: 4.6671 - acc: 0.030 - ETA: 1:05 - loss: 4.6670 - acc: 0.030 - ETA: 1:04 - loss: 4.6670 - acc: 0.030 - ETA: 1:03 - loss: 4.6673 - acc: 0.030 - ETA: 1:02 - loss: 4.6669 - acc: 0.029 - ETA: 1:01 - loss: 4.6668 - acc: 0.030 - ETA: 1:00 - loss: 4.6673 - acc: 0.030 - ETA: 59s - loss: 4.6672 - acc: 0.030 - ETA: 58s - loss: 4.6681 - acc: 0.03 - ETA: 57s - loss: 4.6677 - acc: 0.02 - ETA: 56s - loss: 4.6674 - acc: 0.03 - ETA: 55s - loss: 4.6676 - acc: 0.02 - ETA: 54s - loss: 4.6676 - acc: 0.02 - ETA: 53s - loss: 4.6676 - acc: 0.02 - ETA: 52s - loss: 4.6676 - acc: 0.02 - ETA: 51s - loss: 4.6664 - acc: 0.02 - ETA: 50s - loss: 4.6663 - acc: 0.02 - ETA: 49s - loss: 4.6656 - acc: 0.02 - ETA: 47s - loss: 4.6651 - acc: 0.02 - ETA: 46s - loss: 4.6644 - acc: 0.02 - ETA: 45s - loss: 4.6648 - acc: 0.02 - ETA: 44s - loss: 4.6653 - acc: 0.02 - ETA: 43s - loss: 4.6650 - acc: 0.02 - ETA: 42s - loss: 4.6653 - acc: 0.02 - ETA: 41s - loss: 4.6654 - acc: 0.02 - ETA: 40s - loss: 4.6657 - acc: 0.02 - ETA: 39s - loss: 4.6656 - acc: 0.02 - ETA: 38s - loss: 4.6647 - acc: 0.03 - ETA: 37s - loss: 4.6644 - acc: 0.02 - ETA: 36s - loss: 4.6651 - acc: 0.02 - ETA: 35s - loss: 4.6654 - acc: 0.02 - ETA: 34s - loss: 4.6650 - acc: 0.02 - ETA: 33s - loss: 4.6647 - acc: 0.02 - ETA: 32s - loss: 4.6650 - acc: 0.02 - ETA: 31s - loss: 4.6645 - acc: 0.02 - ETA: 30s - loss: 4.6642 - acc: 0.02 - ETA: 29s - loss: 4.6654 - acc: 0.02 - ETA: 28s - loss: 4.6651 - acc: 0.02 - ETA: 27s - loss: 4.6655 - acc: 0.02 - ETA: 26s - loss: 4.6661 - acc: 0.02 - ETA: 25s - loss: 4.6663 - acc: 0.02 - ETA: 24s - loss: 4.6660 - acc: 0.02 - ETA: 22s - loss: 4.6661 - acc: 0.02 - ETA: 21s - loss: 4.6658 - acc: 0.02 - ETA: 20s - loss: 4.6662 - acc: 0.02 - ETA: 19s - loss: 4.6652 - acc: 0.02 - ETA: 18s - loss: 4.6659 - acc: 0.02 - ETA: 17s - loss: 4.6662 - acc: 0.02 - ETA: 16s - loss: 4.6668 - acc: 0.02 - ETA: 15s - loss: 4.6672 - acc: 0.02 - ETA: 14s - loss: 4.6673 - acc: 0.02 - ETA: 13s - loss: 4.6673 - acc: 0.02 - ETA: 12s - loss: 4.6670 - acc: 0.02 - ETA: 11s - loss: 4.6665 - acc: 0.02 - ETA: 10s - loss: 4.6658 - acc: 0.02 - ETA: 9s - loss: 4.6659 - acc: 0.0295 - ETA: 8s - loss: 4.6657 - acc: 0.029 - ETA: 7s - loss: 4.6655 - acc: 0.029 - ETA: 6s - loss: 4.6652 - acc: 0.029 - ETA: 5s - loss: 4.6651 - acc: 0.029 - ETA: 4s - loss: 4.6651 - acc: 0.029 - ETA: 3s - loss: 4.6648 - acc: 0.029 - ETA: 2s - loss: 4.6642 - acc: 0.029 - ETA: 1s - loss: 4.6646 - acc: 0.029 - 363s 54ms/step - loss: 4.6648 - acc: 0.0298 - val_loss: 4.7099 - val_acc: 0.0287\n",
      "\n",
      "Epoch 00007: val_loss improved from 4.74630 to 4.70990, saving model to saved_models/weights.best.from_scratch.hdf5\n",
      "Epoch 8/10\n"
     ]
    },
    {
     "name": "stdout",
     "output_type": "stream",
     "text": [
      "4080/6680 [=================>............] - ETA: 5:22 - loss: 4.7092 - acc: 0.100 - ETA: 5:18 - loss: 4.6666 - acc: 0.100 - ETA: 5:18 - loss: 4.5986 - acc: 0.066 - ETA: 5:19 - loss: 4.6098 - acc: 0.050 - ETA: 5:18 - loss: 4.6332 - acc: 0.040 - ETA: 5:17 - loss: 4.6158 - acc: 0.033 - ETA: 5:17 - loss: 4.6139 - acc: 0.035 - ETA: 5:17 - loss: 4.6195 - acc: 0.031 - ETA: 5:16 - loss: 4.5969 - acc: 0.038 - ETA: 5:17 - loss: 4.6270 - acc: 0.035 - ETA: 5:17 - loss: 4.6349 - acc: 0.031 - ETA: 5:15 - loss: 4.6340 - acc: 0.033 - ETA: 5:15 - loss: 4.6461 - acc: 0.030 - ETA: 5:13 - loss: 4.6479 - acc: 0.028 - ETA: 5:12 - loss: 4.6471 - acc: 0.026 - ETA: 5:12 - loss: 4.6323 - acc: 0.034 - ETA: 5:10 - loss: 4.6244 - acc: 0.041 - ETA: 5:09 - loss: 4.6224 - acc: 0.041 - ETA: 5:08 - loss: 4.6253 - acc: 0.042 - ETA: 5:07 - loss: 4.6147 - acc: 0.042 - ETA: 5:06 - loss: 4.5989 - acc: 0.042 - ETA: 5:05 - loss: 4.5947 - acc: 0.040 - ETA: 5:04 - loss: 4.6025 - acc: 0.041 - ETA: 5:03 - loss: 4.6166 - acc: 0.039 - ETA: 5:02 - loss: 4.6249 - acc: 0.040 - ETA: 5:01 - loss: 4.6232 - acc: 0.038 - ETA: 5:00 - loss: 4.6211 - acc: 0.038 - ETA: 4:59 - loss: 4.6183 - acc: 0.037 - ETA: 4:58 - loss: 4.6173 - acc: 0.036 - ETA: 4:57 - loss: 4.6191 - acc: 0.035 - ETA: 4:56 - loss: 4.6145 - acc: 0.033 - ETA: 4:55 - loss: 4.6172 - acc: 0.032 - ETA: 4:54 - loss: 4.6216 - acc: 0.031 - ETA: 4:53 - loss: 4.6184 - acc: 0.033 - ETA: 4:52 - loss: 4.6211 - acc: 0.034 - ETA: 4:51 - loss: 4.6255 - acc: 0.033 - ETA: 4:50 - loss: 4.6272 - acc: 0.033 - ETA: 4:49 - loss: 4.6267 - acc: 0.032 - ETA: 4:48 - loss: 4.6231 - acc: 0.033 - ETA: 4:47 - loss: 4.6160 - acc: 0.032 - ETA: 4:46 - loss: 4.6147 - acc: 0.031 - ETA: 4:45 - loss: 4.6122 - acc: 0.032 - ETA: 4:44 - loss: 4.6199 - acc: 0.032 - ETA: 4:43 - loss: 4.6201 - acc: 0.031 - ETA: 4:42 - loss: 4.6191 - acc: 0.031 - ETA: 4:41 - loss: 4.6194 - acc: 0.030 - ETA: 4:40 - loss: 4.6218 - acc: 0.030 - ETA: 4:39 - loss: 4.6263 - acc: 0.030 - ETA: 4:38 - loss: 4.6296 - acc: 0.030 - ETA: 4:37 - loss: 4.6247 - acc: 0.030 - ETA: 4:36 - loss: 4.6248 - acc: 0.029 - ETA: 4:35 - loss: 4.6247 - acc: 0.028 - ETA: 4:34 - loss: 4.6236 - acc: 0.028 - ETA: 4:33 - loss: 4.6210 - acc: 0.028 - ETA: 4:32 - loss: 4.6212 - acc: 0.029 - ETA: 4:32 - loss: 4.6253 - acc: 0.028 - ETA: 4:30 - loss: 4.6227 - acc: 0.028 - ETA: 4:29 - loss: 4.6231 - acc: 0.029 - ETA: 4:28 - loss: 4.6237 - acc: 0.031 - ETA: 4:28 - loss: 4.6196 - acc: 0.031 - ETA: 4:27 - loss: 4.6164 - acc: 0.031 - ETA: 4:26 - loss: 4.6217 - acc: 0.030 - ETA: 4:25 - loss: 4.6204 - acc: 0.030 - ETA: 4:24 - loss: 4.6254 - acc: 0.030 - ETA: 4:22 - loss: 4.6300 - acc: 0.030 - ETA: 4:21 - loss: 4.6262 - acc: 0.030 - ETA: 4:20 - loss: 4.6247 - acc: 0.029 - ETA: 4:19 - loss: 4.6264 - acc: 0.029 - ETA: 4:18 - loss: 4.6260 - acc: 0.029 - ETA: 4:17 - loss: 4.6261 - acc: 0.029 - ETA: 4:16 - loss: 4.6260 - acc: 0.030 - ETA: 4:15 - loss: 4.6307 - acc: 0.029 - ETA: 4:14 - loss: 4.6294 - acc: 0.031 - ETA: 4:13 - loss: 4.6301 - acc: 0.031 - ETA: 4:12 - loss: 4.6315 - acc: 0.030 - ETA: 4:11 - loss: 4.6313 - acc: 0.030 - ETA: 4:10 - loss: 4.6333 - acc: 0.029 - ETA: 4:10 - loss: 4.6341 - acc: 0.029 - ETA: 4:09 - loss: 4.6348 - acc: 0.029 - ETA: 4:08 - loss: 4.6336 - acc: 0.030 - ETA: 4:06 - loss: 4.6339 - acc: 0.031 - ETA: 4:05 - loss: 4.6336 - acc: 0.031 - ETA: 4:05 - loss: 4.6334 - acc: 0.031 - ETA: 4:04 - loss: 4.6362 - acc: 0.031 - ETA: 4:03 - loss: 4.6406 - acc: 0.031 - ETA: 4:01 - loss: 4.6374 - acc: 0.033 - ETA: 4:00 - loss: 4.6358 - acc: 0.034 - ETA: 3:59 - loss: 4.6368 - acc: 0.034 - ETA: 3:58 - loss: 4.6376 - acc: 0.034 - ETA: 3:57 - loss: 4.6371 - acc: 0.034 - ETA: 3:56 - loss: 4.6385 - acc: 0.034 - ETA: 3:55 - loss: 4.6386 - acc: 0.034 - ETA: 3:54 - loss: 4.6370 - acc: 0.036 - ETA: 3:53 - loss: 4.6380 - acc: 0.035 - ETA: 3:52 - loss: 4.6384 - acc: 0.035 - ETA: 3:51 - loss: 4.6413 - acc: 0.034 - ETA: 3:50 - loss: 4.6413 - acc: 0.034 - ETA: 3:49 - loss: 4.6388 - acc: 0.034 - ETA: 3:48 - loss: 4.6370 - acc: 0.034 - ETA: 3:47 - loss: 4.6397 - acc: 0.034 - ETA: 3:46 - loss: 4.6407 - acc: 0.034 - ETA: 3:45 - loss: 4.6412 - acc: 0.033 - ETA: 3:44 - loss: 4.6413 - acc: 0.033 - ETA: 3:43 - loss: 4.6414 - acc: 0.033 - ETA: 3:42 - loss: 4.6403 - acc: 0.033 - ETA: 3:42 - loss: 4.6402 - acc: 0.033 - ETA: 3:41 - loss: 4.6412 - acc: 0.033 - ETA: 3:40 - loss: 4.6426 - acc: 0.032 - ETA: 3:39 - loss: 4.6440 - acc: 0.033 - ETA: 3:38 - loss: 4.6433 - acc: 0.033 - ETA: 3:37 - loss: 4.6450 - acc: 0.032 - ETA: 3:36 - loss: 4.6444 - acc: 0.033 - ETA: 3:35 - loss: 4.6424 - acc: 0.032 - ETA: 3:34 - loss: 4.6425 - acc: 0.032 - ETA: 3:33 - loss: 4.6422 - acc: 0.033 - ETA: 3:32 - loss: 4.6422 - acc: 0.033 - ETA: 3:31 - loss: 4.6417 - acc: 0.033 - ETA: 3:30 - loss: 4.6419 - acc: 0.033 - ETA: 3:29 - loss: 4.6449 - acc: 0.033 - ETA: 3:28 - loss: 4.6452 - acc: 0.033 - ETA: 3:27 - loss: 4.6452 - acc: 0.033 - ETA: 3:26 - loss: 4.6448 - acc: 0.032 - ETA: 3:25 - loss: 4.6432 - acc: 0.032 - ETA: 3:24 - loss: 4.6422 - acc: 0.032 - ETA: 3:23 - loss: 4.6400 - acc: 0.032 - ETA: 3:22 - loss: 4.6394 - acc: 0.032 - ETA: 3:21 - loss: 4.6392 - acc: 0.032 - ETA: 3:20 - loss: 4.6402 - acc: 0.033 - ETA: 3:19 - loss: 4.6403 - acc: 0.033 - ETA: 3:18 - loss: 4.6409 - acc: 0.033 - ETA: 3:17 - loss: 4.6422 - acc: 0.032 - ETA: 3:16 - loss: 4.6407 - acc: 0.033 - ETA: 3:15 - loss: 4.6424 - acc: 0.032 - ETA: 3:14 - loss: 4.6424 - acc: 0.032 - ETA: 3:13 - loss: 4.6425 - acc: 0.032 - ETA: 3:12 - loss: 4.6430 - acc: 0.032 - ETA: 3:11 - loss: 4.6440 - acc: 0.032 - ETA: 3:10 - loss: 4.6425 - acc: 0.032 - ETA: 3:09 - loss: 4.6428 - acc: 0.032 - ETA: 3:08 - loss: 4.6426 - acc: 0.032 - ETA: 3:07 - loss: 4.6418 - acc: 0.032 - ETA: 3:06 - loss: 4.6423 - acc: 0.032 - ETA: 3:05 - loss: 4.6417 - acc: 0.032 - ETA: 3:04 - loss: 4.6412 - acc: 0.032 - ETA: 3:03 - loss: 4.6419 - acc: 0.032 - ETA: 3:02 - loss: 4.6431 - acc: 0.032 - ETA: 3:01 - loss: 4.6436 - acc: 0.032 - ETA: 3:00 - loss: 4.6436 - acc: 0.031 - ETA: 2:59 - loss: 4.6439 - acc: 0.031 - ETA: 2:58 - loss: 4.6448 - acc: 0.031 - ETA: 2:57 - loss: 4.6450 - acc: 0.031 - ETA: 2:56 - loss: 4.6450 - acc: 0.032 - ETA: 2:55 - loss: 4.6439 - acc: 0.032 - ETA: 2:54 - loss: 4.6449 - acc: 0.032 - ETA: 2:53 - loss: 4.6439 - acc: 0.034 - ETA: 2:52 - loss: 4.6449 - acc: 0.034 - ETA: 2:51 - loss: 4.6442 - acc: 0.034 - ETA: 2:50 - loss: 4.6442 - acc: 0.034 - ETA: 2:49 - loss: 4.6440 - acc: 0.034 - ETA: 2:48 - loss: 4.6447 - acc: 0.034 - ETA: 2:47 - loss: 4.6443 - acc: 0.034 - ETA: 2:46 - loss: 4.6446 - acc: 0.034 - ETA: 2:45 - loss: 4.6431 - acc: 0.034 - ETA: 2:44 - loss: 4.6429 - acc: 0.033 - ETA: 2:43 - loss: 4.6444 - acc: 0.033 - ETA: 2:42 - loss: 4.6429 - acc: 0.033 - ETA: 2:41 - loss: 4.6439 - acc: 0.033 - ETA: 2:40 - loss: 4.6441 - acc: 0.033 - ETA: 2:39 - loss: 4.6459 - acc: 0.033 - ETA: 2:38 - loss: 4.6455 - acc: 0.033 - ETA: 2:37 - loss: 4.6442 - acc: 0.033 - ETA: 2:36 - loss: 4.6447 - acc: 0.033 - ETA: 2:36 - loss: 4.6448 - acc: 0.033 - ETA: 2:35 - loss: 4.6446 - acc: 0.033 - ETA: 2:34 - loss: 4.6455 - acc: 0.033 - ETA: 2:33 - loss: 4.6450 - acc: 0.033 - ETA: 2:32 - loss: 4.6430 - acc: 0.033 - ETA: 2:31 - loss: 4.6422 - acc: 0.033 - ETA: 2:30 - loss: 4.6420 - acc: 0.033 - ETA: 2:29 - loss: 4.6412 - acc: 0.034 - ETA: 2:28 - loss: 4.6419 - acc: 0.034 - ETA: 2:27 - loss: 4.6414 - acc: 0.034 - ETA: 2:26 - loss: 4.6413 - acc: 0.034 - ETA: 2:25 - loss: 4.6413 - acc: 0.034 - ETA: 2:24 - loss: 4.6414 - acc: 0.033 - ETA: 2:23 - loss: 4.6405 - acc: 0.033 - ETA: 2:22 - loss: 4.6410 - acc: 0.033 - ETA: 2:21 - loss: 4.6390 - acc: 0.033 - ETA: 2:20 - loss: 4.6402 - acc: 0.033 - ETA: 2:19 - loss: 4.6407 - acc: 0.033 - ETA: 2:18 - loss: 4.6395 - acc: 0.033 - ETA: 2:17 - loss: 4.6396 - acc: 0.033 - ETA: 2:16 - loss: 4.6398 - acc: 0.032 - ETA: 2:15 - loss: 4.6392 - acc: 0.032 - ETA: 2:14 - loss: 4.6395 - acc: 0.032 - ETA: 2:13 - loss: 4.6409 - acc: 0.032 - ETA: 2:12 - loss: 4.6428 - acc: 0.032 - ETA: 2:11 - loss: 4.6426 - acc: 0.032 - ETA: 2:10 - loss: 4.6427 - acc: 0.032 - ETA: 2:09 - loss: 4.6433 - acc: 0.033 - ETA: 2:08 - loss: 4.6436 - acc: 0.033 - ETA: 2:07 - loss: 4.6427 - acc: 0.033 - ETA: 2:06 - loss: 4.6428 - acc: 0.033 - ETA: 2:05 - loss: 4.6430 - acc: 0.0331"
     ]
    },
    {
     "name": "stdout",
     "output_type": "stream",
     "text": [
      "6680/6680 [==============================] - ETA: 2:04 - loss: 4.6429 - acc: 0.033 - ETA: 2:03 - loss: 4.6441 - acc: 0.033 - ETA: 2:02 - loss: 4.6433 - acc: 0.033 - ETA: 2:01 - loss: 4.6433 - acc: 0.033 - ETA: 2:00 - loss: 4.6431 - acc: 0.033 - ETA: 1:59 - loss: 4.6418 - acc: 0.033 - ETA: 1:58 - loss: 4.6412 - acc: 0.033 - ETA: 1:58 - loss: 4.6416 - acc: 0.033 - ETA: 1:57 - loss: 4.6411 - acc: 0.033 - ETA: 1:56 - loss: 4.6424 - acc: 0.032 - ETA: 1:55 - loss: 4.6432 - acc: 0.032 - ETA: 1:54 - loss: 4.6441 - acc: 0.032 - ETA: 1:53 - loss: 4.6434 - acc: 0.032 - ETA: 1:52 - loss: 4.6436 - acc: 0.032 - ETA: 1:51 - loss: 4.6434 - acc: 0.032 - ETA: 1:50 - loss: 4.6427 - acc: 0.032 - ETA: 1:49 - loss: 4.6417 - acc: 0.032 - ETA: 1:48 - loss: 4.6418 - acc: 0.032 - ETA: 1:47 - loss: 4.6414 - acc: 0.032 - ETA: 1:46 - loss: 4.6420 - acc: 0.032 - ETA: 1:45 - loss: 4.6426 - acc: 0.032 - ETA: 1:44 - loss: 4.6422 - acc: 0.032 - ETA: 1:43 - loss: 4.6419 - acc: 0.032 - ETA: 1:42 - loss: 4.6414 - acc: 0.032 - ETA: 1:41 - loss: 4.6415 - acc: 0.032 - ETA: 1:40 - loss: 4.6404 - acc: 0.032 - ETA: 1:39 - loss: 4.6400 - acc: 0.032 - ETA: 1:38 - loss: 4.6392 - acc: 0.033 - ETA: 1:37 - loss: 4.6402 - acc: 0.032 - ETA: 1:36 - loss: 4.6401 - acc: 0.032 - ETA: 1:35 - loss: 4.6398 - acc: 0.032 - ETA: 1:34 - loss: 4.6406 - acc: 0.032 - ETA: 1:33 - loss: 4.6406 - acc: 0.032 - ETA: 1:33 - loss: 4.6410 - acc: 0.032 - ETA: 1:32 - loss: 4.6404 - acc: 0.032 - ETA: 1:31 - loss: 4.6407 - acc: 0.032 - ETA: 1:30 - loss: 4.6414 - acc: 0.032 - ETA: 1:29 - loss: 4.6413 - acc: 0.032 - ETA: 1:28 - loss: 4.6412 - acc: 0.032 - ETA: 1:27 - loss: 4.6408 - acc: 0.032 - ETA: 1:26 - loss: 4.6401 - acc: 0.032 - ETA: 1:25 - loss: 4.6401 - acc: 0.032 - ETA: 1:24 - loss: 4.6390 - acc: 0.032 - ETA: 1:23 - loss: 4.6384 - acc: 0.032 - ETA: 1:22 - loss: 4.6392 - acc: 0.032 - ETA: 1:21 - loss: 4.6396 - acc: 0.032 - ETA: 1:20 - loss: 4.6397 - acc: 0.032 - ETA: 1:19 - loss: 4.6391 - acc: 0.032 - ETA: 1:18 - loss: 4.6397 - acc: 0.032 - ETA: 1:18 - loss: 4.6391 - acc: 0.032 - ETA: 1:17 - loss: 4.6389 - acc: 0.032 - ETA: 1:16 - loss: 4.6393 - acc: 0.032 - ETA: 1:15 - loss: 4.6392 - acc: 0.032 - ETA: 1:14 - loss: 4.6390 - acc: 0.032 - ETA: 1:13 - loss: 4.6383 - acc: 0.033 - ETA: 1:12 - loss: 4.6384 - acc: 0.033 - ETA: 1:12 - loss: 4.6383 - acc: 0.033 - ETA: 1:11 - loss: 4.6383 - acc: 0.033 - ETA: 1:10 - loss: 4.6395 - acc: 0.033 - ETA: 1:09 - loss: 4.6399 - acc: 0.033 - ETA: 1:08 - loss: 4.6395 - acc: 0.033 - ETA: 1:07 - loss: 4.6397 - acc: 0.033 - ETA: 1:06 - loss: 4.6398 - acc: 0.033 - ETA: 1:05 - loss: 4.6399 - acc: 0.033 - ETA: 1:04 - loss: 4.6394 - acc: 0.033 - ETA: 1:03 - loss: 4.6398 - acc: 0.033 - ETA: 1:02 - loss: 4.6405 - acc: 0.033 - ETA: 1:01 - loss: 4.6400 - acc: 0.033 - ETA: 1:00 - loss: 4.6417 - acc: 0.033 - ETA: 59s - loss: 4.6418 - acc: 0.033 - ETA: 58s - loss: 4.6414 - acc: 0.03 - ETA: 57s - loss: 4.6415 - acc: 0.03 - ETA: 56s - loss: 4.6423 - acc: 0.03 - ETA: 55s - loss: 4.6433 - acc: 0.03 - ETA: 54s - loss: 4.6432 - acc: 0.03 - ETA: 53s - loss: 4.6425 - acc: 0.03 - ETA: 52s - loss: 4.6428 - acc: 0.03 - ETA: 51s - loss: 4.6429 - acc: 0.03 - ETA: 50s - loss: 4.6441 - acc: 0.03 - ETA: 49s - loss: 4.6436 - acc: 0.03 - ETA: 48s - loss: 4.6436 - acc: 0.03 - ETA: 4:26 - loss: 4.6438 - acc: 0.033 - ETA: 4:20 - loss: 4.6444 - acc: 0.033 - ETA: 4:14 - loss: 4.6445 - acc: 0.033 - ETA: 4:08 - loss: 4.6438 - acc: 0.033 - ETA: 4:02 - loss: 4.6442 - acc: 0.033 - ETA: 3:56 - loss: 4.6440 - acc: 0.033 - ETA: 3:50 - loss: 4.6432 - acc: 0.032 - ETA: 3:44 - loss: 4.6434 - acc: 0.033 - ETA: 3:38 - loss: 4.6431 - acc: 0.033 - ETA: 3:32 - loss: 4.6434 - acc: 0.033 - ETA: 3:26 - loss: 4.6439 - acc: 0.033 - ETA: 3:20 - loss: 4.6438 - acc: 0.033 - ETA: 3:14 - loss: 4.6448 - acc: 0.033 - ETA: 3:08 - loss: 4.6445 - acc: 0.033 - ETA: 3:02 - loss: 4.6451 - acc: 0.033 - ETA: 2:56 - loss: 4.6452 - acc: 0.033 - ETA: 2:50 - loss: 4.6451 - acc: 0.033 - ETA: 2:44 - loss: 4.6449 - acc: 0.033 - ETA: 2:39 - loss: 4.6447 - acc: 0.033 - ETA: 2:33 - loss: 4.6453 - acc: 0.033 - ETA: 2:27 - loss: 4.6449 - acc: 0.033 - ETA: 2:22 - loss: 4.6439 - acc: 0.033 - ETA: 2:16 - loss: 4.6440 - acc: 0.033 - ETA: 2:11 - loss: 4.6436 - acc: 0.033 - ETA: 2:05 - loss: 4.6428 - acc: 0.033 - ETA: 1:59 - loss: 4.6434 - acc: 0.033 - ETA: 1:54 - loss: 4.6436 - acc: 0.033 - ETA: 1:48 - loss: 4.6431 - acc: 0.033 - ETA: 1:43 - loss: 4.6430 - acc: 0.033 - ETA: 1:38 - loss: 4.6426 - acc: 0.033 - ETA: 1:32 - loss: 4.6429 - acc: 0.033 - ETA: 1:27 - loss: 4.6427 - acc: 0.033 - ETA: 1:21 - loss: 4.6422 - acc: 0.033 - ETA: 1:16 - loss: 4.6422 - acc: 0.033 - ETA: 1:11 - loss: 4.6424 - acc: 0.033 - ETA: 1:06 - loss: 4.6429 - acc: 0.033 - ETA: 1:00 - loss: 4.6428 - acc: 0.033 - ETA: 55s - loss: 4.6435 - acc: 0.033 - ETA: 50s - loss: 4.6428 - acc: 0.03 - ETA: 45s - loss: 4.6435 - acc: 0.03 - ETA: 40s - loss: 4.6434 - acc: 0.03 - ETA: 35s - loss: 4.6433 - acc: 0.03 - ETA: 30s - loss: 4.6434 - acc: 0.03 - ETA: 24s - loss: 4.6429 - acc: 0.03 - ETA: 19s - loss: 4.6417 - acc: 0.03 - ETA: 14s - loss: 4.6413 - acc: 0.03 - ETA: 9s - loss: 4.6420 - acc: 0.0339 - ETA: 4s - loss: 4.6429 - acc: 0.033 - 1666s 249ms/step - loss: 4.6427 - acc: 0.0340 - val_loss: 4.6876 - val_acc: 0.0323\n",
      "\n",
      "Epoch 00008: val_loss improved from 4.70990 to 4.68758, saving model to saved_models/weights.best.from_scratch.hdf5\n",
      "Epoch 9/10\n",
      "4080/6680 [=================>............] - ETA: 7:03 - loss: 4.8468 - acc: 0.0000e+0 - ETA: 7:07 - loss: 4.6448 - acc: 0.0250    - ETA: 7:19 - loss: 4.6571 - acc: 0.016 - ETA: 7:14 - loss: 4.6231 - acc: 0.025 - ETA: 6:58 - loss: 4.6039 - acc: 0.020 - ETA: 6:49 - loss: 4.6072 - acc: 0.025 - ETA: 6:42 - loss: 4.6323 - acc: 0.021 - ETA: 6:38 - loss: 4.6219 - acc: 0.037 - ETA: 7:21 - loss: 4.6523 - acc: 0.033 - ETA: 7:43 - loss: 4.6407 - acc: 0.040 - ETA: 7:46 - loss: 4.6437 - acc: 0.036 - ETA: 7:45 - loss: 4.6458 - acc: 0.033 - ETA: 7:43 - loss: 4.6478 - acc: 0.030 - ETA: 7:35 - loss: 4.6242 - acc: 0.035 - ETA: 7:34 - loss: 4.6120 - acc: 0.033 - ETA: 7:29 - loss: 4.6063 - acc: 0.034 - ETA: 7:19 - loss: 4.6052 - acc: 0.035 - ETA: 7:06 - loss: 4.5995 - acc: 0.036 - ETA: 6:56 - loss: 4.6056 - acc: 0.034 - ETA: 6:46 - loss: 4.6083 - acc: 0.035 - ETA: 6:38 - loss: 4.6053 - acc: 0.035 - ETA: 6:34 - loss: 4.5998 - acc: 0.040 - ETA: 6:35 - loss: 4.5955 - acc: 0.041 - ETA: 6:36 - loss: 4.5880 - acc: 0.041 - ETA: 6:37 - loss: 4.5832 - acc: 0.044 - ETA: 6:35 - loss: 4.5882 - acc: 0.042 - ETA: 6:35 - loss: 4.5972 - acc: 0.042 - ETA: 6:31 - loss: 4.6036 - acc: 0.042 - ETA: 6:27 - loss: 4.6174 - acc: 0.041 - ETA: 6:24 - loss: 4.6260 - acc: 0.040 - ETA: 6:20 - loss: 4.6230 - acc: 0.040 - ETA: 6:17 - loss: 4.6216 - acc: 0.039 - ETA: 6:12 - loss: 4.6202 - acc: 0.039 - ETA: 6:07 - loss: 4.6203 - acc: 0.038 - ETA: 6:03 - loss: 4.6170 - acc: 0.040 - ETA: 5:59 - loss: 4.6223 - acc: 0.038 - ETA: 5:55 - loss: 4.6209 - acc: 0.039 - ETA: 5:52 - loss: 4.6183 - acc: 0.040 - ETA: 5:49 - loss: 4.6167 - acc: 0.042 - ETA: 5:48 - loss: 4.6094 - acc: 0.043 - ETA: 5:44 - loss: 4.6075 - acc: 0.042 - ETA: 5:41 - loss: 4.6064 - acc: 0.042 - ETA: 5:38 - loss: 4.6041 - acc: 0.043 - ETA: 5:36 - loss: 4.6046 - acc: 0.043 - ETA: 5:34 - loss: 4.6108 - acc: 0.042 - ETA: 5:31 - loss: 4.6098 - acc: 0.043 - ETA: 5:29 - loss: 4.6084 - acc: 0.043 - ETA: 5:26 - loss: 4.6075 - acc: 0.042 - ETA: 5:24 - loss: 4.6077 - acc: 0.042 - ETA: 5:23 - loss: 4.6087 - acc: 0.043 - ETA: 5:21 - loss: 4.6097 - acc: 0.042 - ETA: 5:19 - loss: 4.6085 - acc: 0.044 - ETA: 5:16 - loss: 4.6068 - acc: 0.045 - ETA: 5:15 - loss: 4.6081 - acc: 0.044 - ETA: 5:13 - loss: 4.6074 - acc: 0.044 - ETA: 5:11 - loss: 4.6054 - acc: 0.044 - ETA: 5:10 - loss: 4.6004 - acc: 0.047 - ETA: 5:09 - loss: 4.5975 - acc: 0.047 - ETA: 5:08 - loss: 4.5992 - acc: 0.046 - ETA: 5:05 - loss: 4.5941 - acc: 0.046 - ETA: 5:03 - loss: 4.5908 - acc: 0.046 - ETA: 5:01 - loss: 4.5947 - acc: 0.046 - ETA: 4:59 - loss: 4.5965 - acc: 0.045 - ETA: 4:57 - loss: 4.5956 - acc: 0.045 - ETA: 4:55 - loss: 4.5936 - acc: 0.044 - ETA: 4:53 - loss: 4.5924 - acc: 0.045 - ETA: 4:51 - loss: 4.5879 - acc: 0.045 - ETA: 4:50 - loss: 4.5869 - acc: 0.046 - ETA: 4:48 - loss: 4.5911 - acc: 0.045 - ETA: 4:46 - loss: 4.5881 - acc: 0.045 - ETA: 4:45 - loss: 4.5870 - acc: 0.045 - ETA: 4:43 - loss: 4.5909 - acc: 0.045 - ETA: 4:41 - loss: 4.5899 - acc: 0.045 - ETA: 4:39 - loss: 4.5899 - acc: 0.045 - ETA: 4:38 - loss: 4.5862 - acc: 0.046 - ETA: 4:36 - loss: 4.5830 - acc: 0.046 - ETA: 4:35 - loss: 4.5827 - acc: 0.046 - ETA: 4:34 - loss: 4.5835 - acc: 0.046 - ETA: 4:33 - loss: 4.5851 - acc: 0.046 - ETA: 4:32 - loss: 4.5850 - acc: 0.045 - ETA: 4:30 - loss: 4.5848 - acc: 0.045 - ETA: 4:29 - loss: 4.5865 - acc: 0.045 - ETA: 4:27 - loss: 4.5861 - acc: 0.044 - ETA: 4:26 - loss: 4.5867 - acc: 0.044 - ETA: 4:24 - loss: 4.5877 - acc: 0.043 - ETA: 4:23 - loss: 4.5883 - acc: 0.043 - ETA: 4:22 - loss: 4.5899 - acc: 0.043 - ETA: 4:20 - loss: 4.5915 - acc: 0.043 - ETA: 4:18 - loss: 4.5939 - acc: 0.042 - ETA: 4:17 - loss: 4.5937 - acc: 0.042 - ETA: 4:16 - loss: 4.5943 - acc: 0.042 - ETA: 4:14 - loss: 4.5940 - acc: 0.042 - ETA: 4:13 - loss: 4.5912 - acc: 0.042 - ETA: 4:11 - loss: 4.5954 - acc: 0.042 - ETA: 4:10 - loss: 4.5948 - acc: 0.042 - ETA: 4:09 - loss: 4.5971 - acc: 0.042 - ETA: 4:08 - loss: 4.5963 - acc: 0.042 - ETA: 4:07 - loss: 4.5954 - acc: 0.041 - ETA: 4:06 - loss: 4.5947 - acc: 0.041 - ETA: 4:05 - loss: 4.5960 - acc: 0.041 - ETA: 4:04 - loss: 4.5984 - acc: 0.041 - ETA: 4:02 - loss: 4.5998 - acc: 0.041 - ETA: 4:01 - loss: 4.5994 - acc: 0.040 - ETA: 3:59 - loss: 4.5993 - acc: 0.040 - ETA: 3:58 - loss: 4.6014 - acc: 0.040 - ETA: 3:57 - loss: 4.6006 - acc: 0.040 - ETA: 3:56 - loss: 4.5997 - acc: 0.039 - ETA: 3:54 - loss: 4.5992 - acc: 0.039 - ETA: 3:53 - loss: 4.6001 - acc: 0.039 - ETA: 3:52 - loss: 4.5970 - acc: 0.040 - ETA: 3:51 - loss: 4.5974 - acc: 0.040 - ETA: 3:49 - loss: 4.5967 - acc: 0.039 - ETA: 3:48 - loss: 4.5976 - acc: 0.039 - ETA: 3:47 - loss: 4.5981 - acc: 0.039 - ETA: 3:45 - loss: 4.5952 - acc: 0.039 - ETA: 3:44 - loss: 4.5959 - acc: 0.039 - ETA: 3:43 - loss: 4.5941 - acc: 0.039 - ETA: 3:42 - loss: 4.5936 - acc: 0.039 - ETA: 3:41 - loss: 4.5935 - acc: 0.039 - ETA: 3:40 - loss: 4.5963 - acc: 0.039 - ETA: 3:38 - loss: 4.5986 - acc: 0.038 - ETA: 3:37 - loss: 4.6018 - acc: 0.038 - ETA: 3:36 - loss: 4.6007 - acc: 0.039 - ETA: 3:35 - loss: 4.6015 - acc: 0.039 - ETA: 3:34 - loss: 4.6011 - acc: 0.038 - ETA: 3:33 - loss: 4.6016 - acc: 0.038 - ETA: 3:32 - loss: 4.6033 - acc: 0.039 - ETA: 3:30 - loss: 4.6003 - acc: 0.038 - ETA: 3:29 - loss: 4.6023 - acc: 0.038 - ETA: 3:28 - loss: 4.6019 - acc: 0.038 - ETA: 3:27 - loss: 4.6060 - acc: 0.037 - ETA: 3:26 - loss: 4.6050 - acc: 0.037 - ETA: 3:25 - loss: 4.6049 - acc: 0.038 - ETA: 3:24 - loss: 4.6063 - acc: 0.037 - ETA: 3:23 - loss: 4.6066 - acc: 0.037 - ETA: 3:22 - loss: 4.6063 - acc: 0.037 - ETA: 3:22 - loss: 4.6069 - acc: 0.038 - ETA: 3:21 - loss: 4.6069 - acc: 0.037 - ETA: 3:20 - loss: 4.6077 - acc: 0.037 - ETA: 3:19 - loss: 4.6073 - acc: 0.037 - ETA: 3:17 - loss: 4.6082 - acc: 0.036 - ETA: 3:17 - loss: 4.6082 - acc: 0.036 - ETA: 3:16 - loss: 4.6073 - acc: 0.036 - ETA: 3:15 - loss: 4.6070 - acc: 0.036 - ETA: 3:14 - loss: 4.6071 - acc: 0.036 - ETA: 3:12 - loss: 4.6075 - acc: 0.037 - ETA: 3:11 - loss: 4.6058 - acc: 0.037 - ETA: 3:10 - loss: 4.6039 - acc: 0.037 - ETA: 3:09 - loss: 4.6037 - acc: 0.037 - ETA: 3:08 - loss: 4.6046 - acc: 0.037 - ETA: 3:07 - loss: 4.6040 - acc: 0.037 - ETA: 3:06 - loss: 4.6034 - acc: 0.037 - ETA: 3:05 - loss: 4.6024 - acc: 0.038 - ETA: 3:04 - loss: 4.6020 - acc: 0.038 - ETA: 3:02 - loss: 4.6030 - acc: 0.038 - ETA: 3:01 - loss: 4.6035 - acc: 0.038 - ETA: 3:00 - loss: 4.6027 - acc: 0.038 - ETA: 2:59 - loss: 4.6028 - acc: 0.038 - ETA: 2:58 - loss: 4.6036 - acc: 0.038 - ETA: 2:57 - loss: 4.6022 - acc: 0.039 - ETA: 2:56 - loss: 4.6031 - acc: 0.039 - ETA: 2:55 - loss: 4.6032 - acc: 0.039 - ETA: 2:54 - loss: 4.6033 - acc: 0.039 - ETA: 2:53 - loss: 4.6038 - acc: 0.039 - ETA: 2:52 - loss: 4.6033 - acc: 0.039 - ETA: 2:51 - loss: 4.6028 - acc: 0.039 - ETA: 2:50 - loss: 4.6029 - acc: 0.038 - ETA: 2:49 - loss: 4.6023 - acc: 0.039 - ETA: 2:48 - loss: 4.6032 - acc: 0.039 - ETA: 2:46 - loss: 4.6031 - acc: 0.038 - ETA: 2:45 - loss: 4.6026 - acc: 0.038 - ETA: 2:44 - loss: 4.6046 - acc: 0.039 - ETA: 2:43 - loss: 4.6060 - acc: 0.038 - ETA: 2:42 - loss: 4.6074 - acc: 0.038 - ETA: 2:41 - loss: 4.6075 - acc: 0.038 - ETA: 2:40 - loss: 4.6072 - acc: 0.038 - ETA: 2:39 - loss: 4.6070 - acc: 0.038 - ETA: 2:38 - loss: 4.6089 - acc: 0.038 - ETA: 2:36 - loss: 4.6085 - acc: 0.038 - ETA: 2:35 - loss: 4.6068 - acc: 0.038 - ETA: 2:34 - loss: 4.6063 - acc: 0.038 - ETA: 2:33 - loss: 4.6054 - acc: 0.039 - ETA: 2:32 - loss: 4.6061 - acc: 0.038 - ETA: 2:31 - loss: 4.6061 - acc: 0.038 - ETA: 2:30 - loss: 4.6063 - acc: 0.038 - ETA: 2:28 - loss: 4.6074 - acc: 0.038 - ETA: 2:27 - loss: 4.6064 - acc: 0.039 - ETA: 2:26 - loss: 4.6069 - acc: 0.039 - ETA: 2:25 - loss: 4.6067 - acc: 0.039 - ETA: 2:24 - loss: 4.6063 - acc: 0.039 - ETA: 2:23 - loss: 4.6067 - acc: 0.039 - ETA: 2:22 - loss: 4.6072 - acc: 0.039 - ETA: 2:21 - loss: 4.6071 - acc: 0.038 - ETA: 2:19 - loss: 4.6061 - acc: 0.038 - ETA: 2:18 - loss: 4.6069 - acc: 0.039 - ETA: 2:17 - loss: 4.6072 - acc: 0.039 - ETA: 2:16 - loss: 4.6086 - acc: 0.039 - ETA: 2:15 - loss: 4.6080 - acc: 0.039 - ETA: 2:14 - loss: 4.6094 - acc: 0.039 - ETA: 2:13 - loss: 4.6100 - acc: 0.039 - ETA: 2:12 - loss: 4.6098 - acc: 0.039 - ETA: 2:11 - loss: 4.6105 - acc: 0.039 - ETA: 2:10 - loss: 4.6102 - acc: 0.038 - ETA: 2:09 - loss: 4.6103 - acc: 0.03876680/6680 [==============================] - ETA: 2:08 - loss: 4.6111 - acc: 0.039 - ETA: 2:07 - loss: 4.6099 - acc: 0.039 - ETA: 2:05 - loss: 4.6099 - acc: 0.039 - ETA: 2:04 - loss: 4.6100 - acc: 0.039 - ETA: 2:03 - loss: 4.6106 - acc: 0.039 - ETA: 2:02 - loss: 4.6093 - acc: 0.039 - ETA: 2:01 - loss: 4.6096 - acc: 0.038 - ETA: 2:00 - loss: 4.6090 - acc: 0.038 - ETA: 1:59 - loss: 4.6100 - acc: 0.038 - ETA: 1:58 - loss: 4.6095 - acc: 0.038 - ETA: 1:57 - loss: 4.6090 - acc: 0.038 - ETA: 1:56 - loss: 4.6077 - acc: 0.038 - ETA: 1:55 - loss: 4.6072 - acc: 0.038 - ETA: 1:54 - loss: 4.6069 - acc: 0.038 - ETA: 1:53 - loss: 4.6076 - acc: 0.038 - ETA: 1:52 - loss: 4.6086 - acc: 0.038 - ETA: 1:51 - loss: 4.6086 - acc: 0.038 - ETA: 1:50 - loss: 4.6083 - acc: 0.038 - ETA: 1:49 - loss: 4.6077 - acc: 0.038 - ETA: 1:48 - loss: 4.6077 - acc: 0.038 - ETA: 1:47 - loss: 4.6075 - acc: 0.038 - ETA: 1:46 - loss: 4.6071 - acc: 0.038 - ETA: 1:45 - loss: 4.6069 - acc: 0.038 - ETA: 1:44 - loss: 4.6072 - acc: 0.038 - ETA: 1:43 - loss: 4.6082 - acc: 0.038 - ETA: 1:42 - loss: 4.6082 - acc: 0.038 - ETA: 1:41 - loss: 4.6082 - acc: 0.038 - ETA: 1:40 - loss: 4.6076 - acc: 0.037 - ETA: 1:39 - loss: 4.6088 - acc: 0.037 - ETA: 1:38 - loss: 4.6091 - acc: 0.038 - ETA: 1:37 - loss: 4.6094 - acc: 0.037 - ETA: 1:36 - loss: 4.6107 - acc: 0.037 - ETA: 1:35 - loss: 4.6111 - acc: 0.037 - ETA: 1:34 - loss: 4.6113 - acc: 0.037 - ETA: 1:33 - loss: 4.6109 - acc: 0.037 - ETA: 1:32 - loss: 4.6104 - acc: 0.037 - ETA: 1:31 - loss: 4.6114 - acc: 0.037 - ETA: 1:30 - loss: 4.6121 - acc: 0.037 - ETA: 1:29 - loss: 4.6121 - acc: 0.037 - ETA: 1:28 - loss: 4.6111 - acc: 0.037 - ETA: 1:27 - loss: 4.6108 - acc: 0.037 - ETA: 1:26 - loss: 4.6100 - acc: 0.037 - ETA: 1:25 - loss: 4.6102 - acc: 0.037 - ETA: 1:24 - loss: 4.6106 - acc: 0.037 - ETA: 1:23 - loss: 4.6115 - acc: 0.037 - ETA: 1:22 - loss: 4.6117 - acc: 0.037 - ETA: 1:21 - loss: 4.6106 - acc: 0.037 - ETA: 1:20 - loss: 4.6111 - acc: 0.037 - ETA: 1:19 - loss: 4.6125 - acc: 0.037 - ETA: 1:18 - loss: 4.6125 - acc: 0.037 - ETA: 1:17 - loss: 4.6139 - acc: 0.037 - ETA: 1:16 - loss: 4.6141 - acc: 0.036 - ETA: 1:15 - loss: 4.6135 - acc: 0.037 - ETA: 1:14 - loss: 4.6136 - acc: 0.037 - ETA: 1:13 - loss: 4.6138 - acc: 0.036 - ETA: 1:12 - loss: 4.6133 - acc: 0.036 - ETA: 1:11 - loss: 4.6131 - acc: 0.036 - ETA: 1:10 - loss: 4.6119 - acc: 0.037 - ETA: 1:09 - loss: 4.6124 - acc: 0.036 - ETA: 1:08 - loss: 4.6129 - acc: 0.036 - ETA: 1:07 - loss: 4.6133 - acc: 0.036 - ETA: 1:06 - loss: 4.6133 - acc: 0.036 - ETA: 1:05 - loss: 4.6131 - acc: 0.036 - ETA: 1:04 - loss: 4.6141 - acc: 0.036 - ETA: 1:03 - loss: 4.6138 - acc: 0.037 - ETA: 1:02 - loss: 4.6139 - acc: 0.036 - ETA: 1:01 - loss: 4.6145 - acc: 0.036 - ETA: 1:00 - loss: 4.6140 - acc: 0.036 - ETA: 59s - loss: 4.6137 - acc: 0.036 - ETA: 58s - loss: 4.6133 - acc: 0.03 - ETA: 57s - loss: 4.6123 - acc: 0.03 - ETA: 56s - loss: 4.6136 - acc: 0.03 - ETA: 55s - loss: 4.6144 - acc: 0.03 - ETA: 54s - loss: 4.6157 - acc: 0.03 - ETA: 53s - loss: 4.6159 - acc: 0.03 - ETA: 52s - loss: 4.6162 - acc: 0.03 - ETA: 51s - loss: 4.6155 - acc: 0.03 - ETA: 50s - loss: 4.6165 - acc: 0.03 - ETA: 49s - loss: 4.6165 - acc: 0.03 - ETA: 48s - loss: 4.6170 - acc: 0.03 - ETA: 47s - loss: 4.6172 - acc: 0.03 - ETA: 46s - loss: 4.6174 - acc: 0.03 - ETA: 45s - loss: 4.6173 - acc: 0.03 - ETA: 44s - loss: 4.6175 - acc: 0.03 - ETA: 43s - loss: 4.6170 - acc: 0.03 - ETA: 42s - loss: 4.6161 - acc: 0.03 - ETA: 41s - loss: 4.6168 - acc: 0.03 - ETA: 40s - loss: 4.6170 - acc: 0.03 - ETA: 39s - loss: 4.6172 - acc: 0.03 - ETA: 38s - loss: 4.6168 - acc: 0.03 - ETA: 37s - loss: 4.6174 - acc: 0.03 - ETA: 36s - loss: 4.6176 - acc: 0.03 - ETA: 35s - loss: 4.6165 - acc: 0.03 - ETA: 34s - loss: 4.6164 - acc: 0.03 - ETA: 33s - loss: 4.6182 - acc: 0.03 - ETA: 32s - loss: 4.6182 - acc: 0.03 - ETA: 31s - loss: 4.6181 - acc: 0.03 - ETA: 30s - loss: 4.6182 - acc: 0.03 - ETA: 29s - loss: 4.6178 - acc: 0.03 - ETA: 28s - loss: 4.6175 - acc: 0.03 - ETA: 28s - loss: 4.6176 - acc: 0.03 - ETA: 27s - loss: 4.6178 - acc: 0.03 - ETA: 26s - loss: 4.6182 - acc: 0.03 - ETA: 25s - loss: 4.6191 - acc: 0.03 - ETA: 24s - loss: 4.6191 - acc: 0.03 - ETA: 23s - loss: 4.6190 - acc: 0.03 - ETA: 22s - loss: 4.6189 - acc: 0.03 - ETA: 21s - loss: 4.6190 - acc: 0.03 - ETA: 20s - loss: 4.6194 - acc: 0.03 - ETA: 19s - loss: 4.6203 - acc: 0.03 - ETA: 18s - loss: 4.6200 - acc: 0.03 - ETA: 17s - loss: 4.6194 - acc: 0.03 - ETA: 16s - loss: 4.6200 - acc: 0.03 - ETA: 15s - loss: 4.6200 - acc: 0.03 - ETA: 14s - loss: 4.6196 - acc: 0.03 - ETA: 13s - loss: 4.6197 - acc: 0.03 - ETA: 12s - loss: 4.6195 - acc: 0.03 - ETA: 11s - loss: 4.6200 - acc: 0.03 - ETA: 10s - loss: 4.6198 - acc: 0.03 - ETA: 9s - loss: 4.6193 - acc: 0.0369 - ETA: 8s - loss: 4.6190 - acc: 0.036 - ETA: 7s - loss: 4.6193 - acc: 0.036 - ETA: 6s - loss: 4.6188 - acc: 0.036 - ETA: 5s - loss: 4.6192 - acc: 0.036 - ETA: 4s - loss: 4.6197 - acc: 0.036 - ETA: 3s - loss: 4.6200 - acc: 0.036 - ETA: 2s - loss: 4.6196 - acc: 0.036 - ETA: 1s - loss: 4.6193 - acc: 0.036 - ETA: 0s - loss: 4.6193 - acc: 0.036 - 337s 50ms/step - loss: 4.6193 - acc: 0.0364 - val_loss: 4.6768 - val_acc: 0.0287\n",
      "\n",
      "Epoch 00009: val_loss improved from 4.68758 to 4.67682, saving model to saved_models/weights.best.from_scratch.hdf5\n",
      "Epoch 10/10\n"
     ]
    },
    {
     "name": "stdout",
     "output_type": "stream",
     "text": [
      "4080/6680 [=================>............] - ETA: 6:06 - loss: 4.6920 - acc: 0.0000e+0 - ETA: 5:29 - loss: 4.5702 - acc: 0.0250    - ETA: 5:20 - loss: 4.5426 - acc: 0.016 - ETA: 5:38 - loss: 4.4907 - acc: 0.012 - ETA: 5:35 - loss: 4.5154 - acc: 0.010 - ETA: 5:42 - loss: 4.4907 - acc: 0.025 - ETA: 5:41 - loss: 4.5069 - acc: 0.021 - ETA: 5:39 - loss: 4.5085 - acc: 0.031 - ETA: 5:34 - loss: 4.5175 - acc: 0.033 - ETA: 5:28 - loss: 4.5197 - acc: 0.030 - ETA: 5:23 - loss: 4.5372 - acc: 0.031 - ETA: 5:28 - loss: 4.5232 - acc: 0.029 - ETA: 5:29 - loss: 4.5357 - acc: 0.030 - ETA: 5:35 - loss: 4.5543 - acc: 0.028 - ETA: 5:37 - loss: 4.5516 - acc: 0.026 - ETA: 5:40 - loss: 4.5590 - acc: 0.025 - ETA: 5:40 - loss: 4.5667 - acc: 0.023 - ETA: 5:38 - loss: 4.5674 - acc: 0.025 - ETA: 5:37 - loss: 4.5772 - acc: 0.023 - ETA: 5:36 - loss: 4.5655 - acc: 0.025 - ETA: 5:34 - loss: 4.5776 - acc: 0.023 - ETA: 5:34 - loss: 4.5771 - acc: 0.022 - ETA: 5:31 - loss: 4.5683 - acc: 0.023 - ETA: 5:28 - loss: 4.5638 - acc: 0.022 - ETA: 5:24 - loss: 4.5644 - acc: 0.022 - ETA: 5:20 - loss: 4.5500 - acc: 0.025 - ETA: 5:17 - loss: 4.5498 - acc: 0.024 - ETA: 5:15 - loss: 4.5494 - acc: 0.025 - ETA: 5:11 - loss: 4.5494 - acc: 0.025 - ETA: 5:09 - loss: 4.5494 - acc: 0.025 - ETA: 5:07 - loss: 4.5573 - acc: 0.025 - ETA: 5:05 - loss: 4.5584 - acc: 0.026 - ETA: 5:04 - loss: 4.5561 - acc: 0.028 - ETA: 5:03 - loss: 4.5636 - acc: 0.030 - ETA: 5:04 - loss: 4.5580 - acc: 0.030 - ETA: 5:03 - loss: 4.5540 - acc: 0.029 - ETA: 5:01 - loss: 4.5530 - acc: 0.029 - ETA: 5:01 - loss: 4.5576 - acc: 0.028 - ETA: 4:59 - loss: 4.5560 - acc: 0.028 - ETA: 4:58 - loss: 4.5520 - acc: 0.031 - ETA: 4:57 - loss: 4.5528 - acc: 0.030 - ETA: 4:55 - loss: 4.5471 - acc: 0.033 - ETA: 4:54 - loss: 4.5484 - acc: 0.032 - ETA: 4:53 - loss: 4.5530 - acc: 0.031 - ETA: 4:51 - loss: 4.5518 - acc: 0.033 - ETA: 4:50 - loss: 4.5539 - acc: 0.033 - ETA: 4:49 - loss: 4.5509 - acc: 0.033 - ETA: 4:47 - loss: 4.5491 - acc: 0.032 - ETA: 4:45 - loss: 4.5503 - acc: 0.032 - ETA: 4:45 - loss: 4.5546 - acc: 0.033 - ETA: 4:45 - loss: 4.5564 - acc: 0.033 - ETA: 4:45 - loss: 4.5570 - acc: 0.034 - ETA: 4:44 - loss: 4.5541 - acc: 0.034 - ETA: 4:43 - loss: 4.5557 - acc: 0.035 - ETA: 4:43 - loss: 4.5574 - acc: 0.034 - ETA: 4:42 - loss: 4.5533 - acc: 0.035 - ETA: 4:42 - loss: 4.5508 - acc: 0.035 - ETA: 4:42 - loss: 4.5475 - acc: 0.036 - ETA: 4:41 - loss: 4.5443 - acc: 0.037 - ETA: 4:40 - loss: 4.5445 - acc: 0.037 - ETA: 4:39 - loss: 4.5470 - acc: 0.036 - ETA: 4:38 - loss: 4.5452 - acc: 0.037 - ETA: 4:37 - loss: 4.5441 - acc: 0.038 - ETA: 4:36 - loss: 4.5401 - acc: 0.037 - ETA: 4:35 - loss: 4.5429 - acc: 0.036 - ETA: 4:34 - loss: 4.5411 - acc: 0.037 - ETA: 4:33 - loss: 4.5434 - acc: 0.036 - ETA: 4:32 - loss: 4.5460 - acc: 0.036 - ETA: 4:31 - loss: 4.5529 - acc: 0.035 - ETA: 4:30 - loss: 4.5546 - acc: 0.035 - ETA: 4:29 - loss: 4.5565 - acc: 0.035 - ETA: 4:28 - loss: 4.5540 - acc: 0.036 - ETA: 4:26 - loss: 4.5542 - acc: 0.037 - ETA: 4:24 - loss: 4.5541 - acc: 0.037 - ETA: 4:23 - loss: 4.5552 - acc: 0.036 - ETA: 4:21 - loss: 4.5560 - acc: 0.036 - ETA: 4:20 - loss: 4.5538 - acc: 0.037 - ETA: 4:19 - loss: 4.5517 - acc: 0.037 - ETA: 4:19 - loss: 4.5557 - acc: 0.038 - ETA: 4:18 - loss: 4.5547 - acc: 0.038 - ETA: 4:17 - loss: 4.5521 - acc: 0.037 - ETA: 4:15 - loss: 4.5520 - acc: 0.037 - ETA: 4:15 - loss: 4.5571 - acc: 0.038 - ETA: 4:14 - loss: 4.5569 - acc: 0.037 - ETA: 4:13 - loss: 4.5583 - acc: 0.037 - ETA: 4:11 - loss: 4.5581 - acc: 0.036 - ETA: 4:10 - loss: 4.5574 - acc: 0.037 - ETA: 4:08 - loss: 4.5549 - acc: 0.037 - ETA: 4:07 - loss: 4.5585 - acc: 0.038 - ETA: 4:06 - loss: 4.5598 - acc: 0.037 - ETA: 4:05 - loss: 4.5584 - acc: 0.037 - ETA: 4:04 - loss: 4.5588 - acc: 0.037 - ETA: 4:03 - loss: 4.5644 - acc: 0.036 - ETA: 4:02 - loss: 4.5649 - acc: 0.036 - ETA: 4:01 - loss: 4.5638 - acc: 0.036 - ETA: 3:59 - loss: 4.5637 - acc: 0.036 - ETA: 3:58 - loss: 4.5616 - acc: 0.036 - ETA: 3:57 - loss: 4.5626 - acc: 0.037 - ETA: 3:55 - loss: 4.5662 - acc: 0.037 - ETA: 3:54 - loss: 4.5662 - acc: 0.038 - ETA: 3:53 - loss: 4.5675 - acc: 0.038 - ETA: 3:52 - loss: 4.5691 - acc: 0.037 - ETA: 3:50 - loss: 4.5702 - acc: 0.037 - ETA: 3:49 - loss: 4.5721 - acc: 0.037 - ETA: 3:48 - loss: 4.5739 - acc: 0.037 - ETA: 3:47 - loss: 4.5741 - acc: 0.038 - ETA: 3:45 - loss: 4.5735 - acc: 0.038 - ETA: 3:44 - loss: 4.5749 - acc: 0.038 - ETA: 3:43 - loss: 4.5754 - acc: 0.039 - ETA: 3:42 - loss: 4.5740 - acc: 0.040 - ETA: 3:41 - loss: 4.5736 - acc: 0.039 - ETA: 3:39 - loss: 4.5740 - acc: 0.039 - ETA: 3:38 - loss: 4.5720 - acc: 0.040 - ETA: 3:37 - loss: 4.5735 - acc: 0.039 - ETA: 3:36 - loss: 4.5729 - acc: 0.040 - ETA: 3:35 - loss: 4.5745 - acc: 0.039 - ETA: 3:34 - loss: 4.5739 - acc: 0.039 - ETA: 3:32 - loss: 4.5755 - acc: 0.039 - ETA: 3:31 - loss: 4.5764 - acc: 0.039 - ETA: 3:30 - loss: 4.5750 - acc: 0.040 - ETA: 3:29 - loss: 4.5749 - acc: 0.039 - ETA: 3:28 - loss: 4.5764 - acc: 0.039 - ETA: 3:27 - loss: 4.5764 - acc: 0.039 - ETA: 3:25 - loss: 4.5766 - acc: 0.039 - ETA: 3:24 - loss: 4.5781 - acc: 0.038 - ETA: 3:23 - loss: 4.5782 - acc: 0.038 - ETA: 3:22 - loss: 4.5791 - acc: 0.038 - ETA: 3:21 - loss: 4.5768 - acc: 0.039 - ETA: 3:20 - loss: 4.5779 - acc: 0.039 - ETA: 3:19 - loss: 4.5808 - acc: 0.038 - ETA: 3:18 - loss: 4.5831 - acc: 0.038 - ETA: 3:16 - loss: 4.5820 - acc: 0.039 - ETA: 3:15 - loss: 4.5832 - acc: 0.039 - ETA: 3:14 - loss: 4.5827 - acc: 0.039 - ETA: 3:13 - loss: 4.5835 - acc: 0.039 - ETA: 3:11 - loss: 4.5820 - acc: 0.040 - ETA: 3:10 - loss: 4.5812 - acc: 0.040 - ETA: 3:09 - loss: 4.5801 - acc: 0.040 - ETA: 3:08 - loss: 4.5807 - acc: 0.040 - ETA: 3:07 - loss: 4.5819 - acc: 0.040 - ETA: 3:06 - loss: 4.5808 - acc: 0.040 - ETA: 3:05 - loss: 4.5800 - acc: 0.040 - ETA: 3:04 - loss: 4.5787 - acc: 0.040 - ETA: 3:03 - loss: 4.5798 - acc: 0.039 - ETA: 3:02 - loss: 4.5805 - acc: 0.040 - ETA: 3:01 - loss: 4.5812 - acc: 0.039 - ETA: 2:59 - loss: 4.5801 - acc: 0.039 - ETA: 2:58 - loss: 4.5784 - acc: 0.039 - ETA: 2:57 - loss: 4.5779 - acc: 0.039 - ETA: 2:56 - loss: 4.5792 - acc: 0.039 - ETA: 2:55 - loss: 4.5810 - acc: 0.039 - ETA: 2:54 - loss: 4.5804 - acc: 0.039 - ETA: 2:53 - loss: 4.5812 - acc: 0.039 - ETA: 2:51 - loss: 4.5810 - acc: 0.039 - ETA: 2:50 - loss: 4.5804 - acc: 0.039 - ETA: 2:49 - loss: 4.5794 - acc: 0.038 - ETA: 2:48 - loss: 4.5810 - acc: 0.038 - ETA: 2:47 - loss: 4.5824 - acc: 0.038 - ETA: 2:46 - loss: 4.5812 - acc: 0.038 - ETA: 2:44 - loss: 4.5787 - acc: 0.038 - ETA: 2:43 - loss: 4.5796 - acc: 0.038 - ETA: 2:42 - loss: 4.5789 - acc: 0.038 - ETA: 2:41 - loss: 4.5781 - acc: 0.038 - ETA: 2:40 - loss: 4.5777 - acc: 0.038 - ETA: 2:39 - loss: 4.5776 - acc: 0.038 - ETA: 2:38 - loss: 4.5791 - acc: 0.038 - ETA: 2:37 - loss: 4.5795 - acc: 0.038 - ETA: 2:36 - loss: 4.5822 - acc: 0.038 - ETA: 2:35 - loss: 4.5825 - acc: 0.038 - ETA: 2:34 - loss: 4.5814 - acc: 0.039 - ETA: 2:33 - loss: 4.5810 - acc: 0.038 - ETA: 2:32 - loss: 4.5801 - acc: 0.039 - ETA: 2:31 - loss: 4.5801 - acc: 0.039 - ETA: 2:30 - loss: 4.5782 - acc: 0.039 - ETA: 2:29 - loss: 4.5783 - acc: 0.040 - ETA: 2:28 - loss: 4.5776 - acc: 0.040 - ETA: 2:27 - loss: 4.5785 - acc: 0.039 - ETA: 2:26 - loss: 4.5778 - acc: 0.039 - ETA: 2:25 - loss: 4.5770 - acc: 0.039 - ETA: 2:24 - loss: 4.5763 - acc: 0.040 - ETA: 2:23 - loss: 4.5766 - acc: 0.040 - ETA: 2:22 - loss: 4.5773 - acc: 0.040 - ETA: 2:21 - loss: 4.5777 - acc: 0.040 - ETA: 2:20 - loss: 4.5785 - acc: 0.039 - ETA: 2:19 - loss: 4.5777 - acc: 0.040 - ETA: 2:18 - loss: 4.5763 - acc: 0.040 - ETA: 2:17 - loss: 4.5762 - acc: 0.039 - ETA: 2:16 - loss: 4.5766 - acc: 0.040 - ETA: 2:15 - loss: 4.5751 - acc: 0.040 - ETA: 2:14 - loss: 4.5753 - acc: 0.040 - ETA: 2:13 - loss: 4.5764 - acc: 0.039 - ETA: 2:12 - loss: 4.5765 - acc: 0.039 - ETA: 2:11 - loss: 4.5814 - acc: 0.039 - ETA: 2:10 - loss: 4.5821 - acc: 0.039 - ETA: 2:09 - loss: 4.5822 - acc: 0.040 - ETA: 2:08 - loss: 4.5813 - acc: 0.039 - ETA: 2:07 - loss: 4.5829 - acc: 0.039 - ETA: 2:06 - loss: 4.5836 - acc: 0.039 - ETA: 2:05 - loss: 4.5846 - acc: 0.039 - ETA: 2:04 - loss: 4.5853 - acc: 0.039 - ETA: 2:03 - loss: 4.5861 - acc: 0.038 - ETA: 2:02 - loss: 4.5862 - acc: 0.038 - ETA: 2:01 - loss: 4.5865 - acc: 0.038 - ETA: 2:00 - loss: 4.5871 - acc: 0.0385"
     ]
    },
    {
     "name": "stdout",
     "output_type": "stream",
     "text": [
      "6680/6680 [==============================] - ETA: 1:59 - loss: 4.5874 - acc: 0.038 - ETA: 1:58 - loss: 4.5872 - acc: 0.038 - ETA: 1:57 - loss: 4.5875 - acc: 0.038 - ETA: 1:56 - loss: 4.5871 - acc: 0.038 - ETA: 1:55 - loss: 4.5868 - acc: 0.037 - ETA: 1:54 - loss: 4.5874 - acc: 0.037 - ETA: 1:53 - loss: 4.5876 - acc: 0.037 - ETA: 1:52 - loss: 4.5886 - acc: 0.037 - ETA: 1:51 - loss: 4.5880 - acc: 0.037 - ETA: 1:50 - loss: 4.5876 - acc: 0.037 - ETA: 1:49 - loss: 4.5870 - acc: 0.037 - ETA: 1:48 - loss: 4.5869 - acc: 0.038 - ETA: 1:47 - loss: 4.5869 - acc: 0.038 - ETA: 1:47 - loss: 4.5862 - acc: 0.038 - ETA: 1:46 - loss: 4.5857 - acc: 0.038 - ETA: 1:45 - loss: 4.5854 - acc: 0.038 - ETA: 1:44 - loss: 4.5852 - acc: 0.037 - ETA: 1:43 - loss: 4.5839 - acc: 0.038 - ETA: 1:42 - loss: 4.5832 - acc: 0.038 - ETA: 1:41 - loss: 4.5831 - acc: 0.038 - ETA: 1:40 - loss: 4.5833 - acc: 0.038 - ETA: 1:39 - loss: 4.5835 - acc: 0.038 - ETA: 1:38 - loss: 4.5840 - acc: 0.038 - ETA: 1:37 - loss: 4.5825 - acc: 0.038 - ETA: 1:36 - loss: 4.5840 - acc: 0.038 - ETA: 1:35 - loss: 4.5848 - acc: 0.038 - ETA: 1:34 - loss: 4.5853 - acc: 0.038 - ETA: 1:33 - loss: 4.5853 - acc: 0.038 - ETA: 1:32 - loss: 4.5860 - acc: 0.038 - ETA: 1:31 - loss: 4.5855 - acc: 0.038 - ETA: 1:30 - loss: 4.5859 - acc: 0.038 - ETA: 1:29 - loss: 4.5863 - acc: 0.039 - ETA: 1:28 - loss: 4.5868 - acc: 0.038 - ETA: 1:27 - loss: 4.5876 - acc: 0.038 - ETA: 1:26 - loss: 4.5874 - acc: 0.038 - ETA: 1:25 - loss: 4.5880 - acc: 0.038 - ETA: 1:25 - loss: 4.5876 - acc: 0.038 - ETA: 1:24 - loss: 4.5877 - acc: 0.038 - ETA: 1:23 - loss: 4.5869 - acc: 0.038 - ETA: 1:22 - loss: 4.5866 - acc: 0.037 - ETA: 1:21 - loss: 4.5874 - acc: 0.038 - ETA: 1:20 - loss: 4.5873 - acc: 0.037 - ETA: 1:19 - loss: 4.5874 - acc: 0.037 - ETA: 1:18 - loss: 4.5876 - acc: 0.038 - ETA: 1:17 - loss: 4.5883 - acc: 0.038 - ETA: 1:16 - loss: 4.5893 - acc: 0.037 - ETA: 1:15 - loss: 4.5897 - acc: 0.037 - ETA: 1:14 - loss: 4.5903 - acc: 0.037 - ETA: 1:13 - loss: 4.5909 - acc: 0.037 - ETA: 1:12 - loss: 4.5900 - acc: 0.037 - ETA: 1:11 - loss: 4.5899 - acc: 0.037 - ETA: 1:10 - loss: 4.5910 - acc: 0.037 - ETA: 1:10 - loss: 4.5911 - acc: 0.037 - ETA: 1:09 - loss: 4.5918 - acc: 0.037 - ETA: 1:08 - loss: 4.5917 - acc: 0.038 - ETA: 1:07 - loss: 4.5921 - acc: 0.037 - ETA: 1:06 - loss: 4.5919 - acc: 0.038 - ETA: 1:05 - loss: 4.5925 - acc: 0.038 - ETA: 1:04 - loss: 4.5933 - acc: 0.038 - ETA: 1:03 - loss: 4.5926 - acc: 0.037 - ETA: 1:02 - loss: 4.5932 - acc: 0.037 - ETA: 1:01 - loss: 4.5919 - acc: 0.037 - ETA: 1:00 - loss: 4.5912 - acc: 0.037 - ETA: 59s - loss: 4.5929 - acc: 0.037 - ETA: 58s - loss: 4.5926 - acc: 0.03 - ETA: 57s - loss: 4.5931 - acc: 0.03 - ETA: 56s - loss: 4.5928 - acc: 0.03 - ETA: 55s - loss: 4.5931 - acc: 0.03 - ETA: 55s - loss: 4.5939 - acc: 0.03 - ETA: 54s - loss: 4.5936 - acc: 0.03 - ETA: 53s - loss: 4.5943 - acc: 0.03 - ETA: 52s - loss: 4.5933 - acc: 0.03 - ETA: 51s - loss: 4.5929 - acc: 0.03 - ETA: 50s - loss: 4.5918 - acc: 0.03 - ETA: 49s - loss: 4.5920 - acc: 0.03 - ETA: 48s - loss: 4.5920 - acc: 0.03 - ETA: 47s - loss: 4.5916 - acc: 0.03 - ETA: 46s - loss: 4.5908 - acc: 0.03 - ETA: 45s - loss: 4.5908 - acc: 0.03 - ETA: 44s - loss: 4.5911 - acc: 0.03 - ETA: 43s - loss: 4.5906 - acc: 0.03 - ETA: 43s - loss: 4.5916 - acc: 0.03 - ETA: 42s - loss: 4.5914 - acc: 0.03 - ETA: 41s - loss: 4.5920 - acc: 0.03 - ETA: 40s - loss: 4.5921 - acc: 0.03 - ETA: 39s - loss: 4.5921 - acc: 0.03 - ETA: 38s - loss: 4.5917 - acc: 0.03 - ETA: 37s - loss: 4.5918 - acc: 0.03 - ETA: 36s - loss: 4.5915 - acc: 0.03 - ETA: 35s - loss: 4.5911 - acc: 0.03 - ETA: 34s - loss: 4.5914 - acc: 0.03 - ETA: 33s - loss: 4.5901 - acc: 0.03 - ETA: 33s - loss: 4.5897 - acc: 0.03 - ETA: 32s - loss: 4.5892 - acc: 0.03 - ETA: 31s - loss: 4.5892 - acc: 0.03 - ETA: 30s - loss: 4.5892 - acc: 0.03 - ETA: 29s - loss: 4.5893 - acc: 0.03 - ETA: 28s - loss: 4.5883 - acc: 0.03 - ETA: 27s - loss: 4.5890 - acc: 0.03 - ETA: 26s - loss: 4.5884 - acc: 0.03 - ETA: 25s - loss: 4.5891 - acc: 0.03 - ETA: 25s - loss: 4.5890 - acc: 0.03 - ETA: 24s - loss: 4.5887 - acc: 0.03 - ETA: 23s - loss: 4.5884 - acc: 0.03 - ETA: 22s - loss: 4.5887 - acc: 0.03 - ETA: 21s - loss: 4.5891 - acc: 0.03 - ETA: 20s - loss: 4.5882 - acc: 0.03 - ETA: 19s - loss: 4.5884 - acc: 0.03 - ETA: 18s - loss: 4.5881 - acc: 0.03 - ETA: 17s - loss: 4.5874 - acc: 0.04 - ETA: 16s - loss: 4.5875 - acc: 0.04 - ETA: 16s - loss: 4.5874 - acc: 0.04 - ETA: 15s - loss: 4.5880 - acc: 0.04 - ETA: 14s - loss: 4.5885 - acc: 0.03 - ETA: 13s - loss: 4.5889 - acc: 0.04 - ETA: 12s - loss: 4.5882 - acc: 0.04 - ETA: 11s - loss: 4.5881 - acc: 0.04 - ETA: 10s - loss: 4.5892 - acc: 0.04 - ETA: 9s - loss: 4.5889 - acc: 0.0402 - ETA: 8s - loss: 4.5891 - acc: 0.040 - ETA: 8s - loss: 4.5894 - acc: 0.040 - ETA: 7s - loss: 4.5905 - acc: 0.040 - ETA: 6s - loss: 4.5910 - acc: 0.040 - ETA: 5s - loss: 4.5913 - acc: 0.040 - ETA: 4s - loss: 4.5913 - acc: 0.040 - ETA: 3s - loss: 4.5918 - acc: 0.040 - ETA: 2s - loss: 4.5926 - acc: 0.040 - ETA: 1s - loss: 4.5927 - acc: 0.040 - ETA: 0s - loss: 4.5934 - acc: 0.040 - 309s 46ms/step - loss: 4.5934 - acc: 0.0401 - val_loss: 4.6619 - val_acc: 0.0287\n",
      "\n",
      "Epoch 00010: val_loss improved from 4.67682 to 4.66195, saving model to saved_models/weights.best.from_scratch.hdf5\n"
     ]
    },
    {
     "data": {
      "text/plain": [
       "<keras.callbacks.History at 0x1ad1a31bc18>"
      ]
     },
     "execution_count": 20,
     "metadata": {},
     "output_type": "execute_result"
    }
   ],
   "source": [
    "from keras.callbacks import ModelCheckpoint  \n",
    "\n",
    "### TODO: specify the number of epochs that you would like to use to train the model.\n",
    "\n",
    "epochs = 10\n",
    "\n",
    "### Do NOT modify the code below this line.\n",
    "\n",
    "checkpointer = ModelCheckpoint(filepath='saved_models/weights.best.from_scratch.hdf5', \n",
    "                               verbose=1, save_best_only=True)\n",
    "\n",
    "model.fit(train_tensors, train_targets, \n",
    "          validation_data=(valid_tensors, valid_targets),\n",
    "          epochs=epochs, batch_size=20, callbacks=[checkpointer], verbose=1)"
   ]
  },
  {
   "cell_type": "markdown",
   "metadata": {},
   "source": [
    "### Load the Model with the Best Validation Loss"
   ]
  },
  {
   "cell_type": "code",
   "execution_count": 21,
   "metadata": {},
   "outputs": [],
   "source": [
    "model.load_weights('saved_models/weights.best.from_scratch.hdf5')"
   ]
  },
  {
   "cell_type": "markdown",
   "metadata": {},
   "source": [
    "### Test the Model\n",
    "\n",
    "Try out your model on the test dataset of dog images.  Ensure that your test accuracy is greater than 1%."
   ]
  },
  {
   "cell_type": "code",
   "execution_count": 22,
   "metadata": {},
   "outputs": [
    {
     "name": "stdout",
     "output_type": "stream",
     "text": [
      "Test accuracy: 3.3493%\n"
     ]
    }
   ],
   "source": [
    "# get index of predicted dog breed for each image in test set\n",
    "dog_breed_predictions = [np.argmax(model.predict(np.expand_dims(tensor, axis=0))) for tensor in test_tensors]\n",
    "\n",
    "# report test accuracy\n",
    "test_accuracy = 100*np.sum(np.array(dog_breed_predictions)==np.argmax(test_targets, axis=1))/len(dog_breed_predictions)\n",
    "print('Test accuracy: %.4f%%' % test_accuracy)"
   ]
  },
  {
   "cell_type": "markdown",
   "metadata": {},
   "source": [
    "---\n",
    "<a id='step4'></a>\n",
    "## Step 4: Use a CNN to Classify Dog Breeds\n",
    "\n",
    "To reduce training time without sacrificing accuracy, we show you how to train a CNN using transfer learning.  In the following step, you will get a chance to use transfer learning to train your own CNN.\n",
    "\n",
    "### Obtain Bottleneck Features"
   ]
  },
  {
   "cell_type": "code",
   "execution_count": 25,
   "metadata": {},
   "outputs": [],
   "source": [
    "bottleneck_features = np.load('bottleneck_features/DogVGG16Data.npz')\n",
    "train_VGG16 = bottleneck_features['train']\n",
    "valid_VGG16 = bottleneck_features['valid']\n",
    "test_VGG16 = bottleneck_features['test']"
   ]
  },
  {
   "cell_type": "markdown",
   "metadata": {},
   "source": [
    "### Model Architecture\n",
    "\n",
    "The model uses the the pre-trained VGG-16 model as a fixed feature extractor, where the last convolutional output of VGG-16 is fed as input to our model.  We only add a global average pooling layer and a fully connected layer, where the latter contains one node for each dog category and is equipped with a softmax."
   ]
  },
  {
   "cell_type": "code",
   "execution_count": 26,
   "metadata": {},
   "outputs": [
    {
     "name": "stdout",
     "output_type": "stream",
     "text": [
      "_________________________________________________________________\n",
      "Layer (type)                 Output Shape              Param #   \n",
      "=================================================================\n",
      "global_average_pooling2d_2 ( (None, 512)               0         \n",
      "_________________________________________________________________\n",
      "dense_2 (Dense)              (None, 133)               68229     \n",
      "=================================================================\n",
      "Total params: 68,229\n",
      "Trainable params: 68,229\n",
      "Non-trainable params: 0\n",
      "_________________________________________________________________\n"
     ]
    }
   ],
   "source": [
    "VGG16_model = Sequential()\n",
    "VGG16_model.add(GlobalAveragePooling2D(input_shape=train_VGG16.shape[1:]))\n",
    "VGG16_model.add(Dense(133, activation='softmax'))\n",
    "\n",
    "VGG16_model.summary()"
   ]
  },
  {
   "cell_type": "markdown",
   "metadata": {},
   "source": [
    "### Compile the Model"
   ]
  },
  {
   "cell_type": "code",
   "execution_count": 27,
   "metadata": {},
   "outputs": [],
   "source": [
    "VGG16_model.compile(loss='categorical_crossentropy', optimizer='rmsprop', metrics=['accuracy'])"
   ]
  },
  {
   "cell_type": "markdown",
   "metadata": {},
   "source": [
    "### Train the Model"
   ]
  },
  {
   "cell_type": "code",
   "execution_count": 28,
   "metadata": {},
   "outputs": [
    {
     "name": "stdout",
     "output_type": "stream",
     "text": [
      "Train on 6680 samples, validate on 835 samples\n",
      "Epoch 1/20\n",
      "6680/6680 [==============================] - ETA: 5:45 - loss: 14.4888 - acc: 0.05 - ETA: 44s - loss: 15.3952 - acc: 0.0063 - ETA: 24s - loss: 14.9634 - acc: 0.010 - ETA: 17s - loss: 14.7342 - acc: 0.011 - ETA: 13s - loss: 14.4828 - acc: 0.015 - ETA: 10s - loss: 14.3095 - acc: 0.022 - ETA: 9s - loss: 14.0672 - acc: 0.032 - ETA: 8s - loss: 13.8887 - acc: 0.03 - ETA: 7s - loss: 13.7539 - acc: 0.04 - ETA: 6s - loss: 13.7469 - acc: 0.04 - ETA: 5s - loss: 13.6611 - acc: 0.04 - ETA: 5s - loss: 13.6005 - acc: 0.04 - ETA: 4s - loss: 13.5022 - acc: 0.05 - ETA: 4s - loss: 13.4170 - acc: 0.05 - ETA: 4s - loss: 13.3820 - acc: 0.05 - ETA: 4s - loss: 13.3558 - acc: 0.05 - ETA: 3s - loss: 13.2947 - acc: 0.06 - ETA: 3s - loss: 13.2566 - acc: 0.06 - ETA: 3s - loss: 13.1915 - acc: 0.06 - ETA: 3s - loss: 13.1046 - acc: 0.06 - ETA: 2s - loss: 13.0487 - acc: 0.07 - ETA: 2s - loss: 13.0071 - acc: 0.07 - ETA: 2s - loss: 12.9484 - acc: 0.07 - ETA: 2s - loss: 12.9433 - acc: 0.07 - ETA: 2s - loss: 12.8840 - acc: 0.08 - ETA: 2s - loss: 12.8575 - acc: 0.08 - ETA: 2s - loss: 12.7851 - acc: 0.08 - ETA: 1s - loss: 12.7179 - acc: 0.08 - ETA: 1s - loss: 12.6182 - acc: 0.09 - ETA: 1s - loss: 12.5817 - acc: 0.09 - ETA: 1s - loss: 12.5347 - acc: 0.10 - ETA: 1s - loss: 12.4919 - acc: 0.10 - ETA: 1s - loss: 12.4427 - acc: 0.10 - ETA: 1s - loss: 12.3832 - acc: 0.11 - ETA: 1s - loss: 12.3013 - acc: 0.11 - ETA: 1s - loss: 12.2673 - acc: 0.11 - ETA: 0s - loss: 12.2294 - acc: 0.11 - ETA: 0s - loss: 12.1864 - acc: 0.11 - ETA: 0s - loss: 12.1401 - acc: 0.12 - ETA: 0s - loss: 12.1362 - acc: 0.12 - ETA: 0s - loss: 12.0907 - acc: 0.12 - ETA: 0s - loss: 12.0495 - acc: 0.12 - ETA: 0s - loss: 12.0120 - acc: 0.13 - ETA: 0s - loss: 11.9726 - acc: 0.13 - ETA: 0s - loss: 11.9132 - acc: 0.13 - ETA: 0s - loss: 11.8824 - acc: 0.13 - ETA: 0s - loss: 11.8292 - acc: 0.14 - ETA: 0s - loss: 11.7684 - acc: 0.14 - 4s 572us/step - loss: 11.7497 - acc: 0.1478 - val_loss: 9.9546 - val_acc: 0.2587\n",
      "\n",
      "Epoch 00001: val_loss improved from inf to 9.95461, saving model to saved_models/weights.best.VGG16.hdf5\n",
      "Epoch 2/20\n",
      "6680/6680 [==============================] - ETA: 2s - loss: 8.8309 - acc: 0.300 - ETA: 2s - loss: 9.2000 - acc: 0.333 - ETA: 2s - loss: 9.0207 - acc: 0.331 - ETA: 2s - loss: 9.1394 - acc: 0.336 - ETA: 2s - loss: 9.4075 - acc: 0.320 - ETA: 2s - loss: 9.5255 - acc: 0.315 - ETA: 2s - loss: 9.6316 - acc: 0.309 - ETA: 1s - loss: 9.5177 - acc: 0.316 - ETA: 1s - loss: 9.4190 - acc: 0.318 - ETA: 1s - loss: 9.3912 - acc: 0.320 - ETA: 1s - loss: 9.2008 - acc: 0.330 - ETA: 1s - loss: 9.3413 - acc: 0.324 - ETA: 1s - loss: 9.3569 - acc: 0.320 - ETA: 1s - loss: 9.3182 - acc: 0.320 - ETA: 1s - loss: 9.3186 - acc: 0.321 - ETA: 1s - loss: 9.3685 - acc: 0.316 - ETA: 1s - loss: 9.3261 - acc: 0.316 - ETA: 1s - loss: 9.4149 - acc: 0.311 - ETA: 1s - loss: 9.3917 - acc: 0.311 - ETA: 1s - loss: 9.4167 - acc: 0.311 - ETA: 1s - loss: 9.3947 - acc: 0.309 - ETA: 1s - loss: 9.4021 - acc: 0.309 - ETA: 1s - loss: 9.3873 - acc: 0.310 - ETA: 1s - loss: 9.3427 - acc: 0.312 - ETA: 1s - loss: 9.3514 - acc: 0.311 - ETA: 1s - loss: 9.3580 - acc: 0.311 - ETA: 1s - loss: 9.3376 - acc: 0.314 - ETA: 0s - loss: 9.3196 - acc: 0.314 - ETA: 0s - loss: 9.3071 - acc: 0.314 - ETA: 0s - loss: 9.2925 - acc: 0.316 - ETA: 0s - loss: 9.3084 - acc: 0.316 - ETA: 0s - loss: 9.3226 - acc: 0.315 - ETA: 0s - loss: 9.2928 - acc: 0.317 - ETA: 0s - loss: 9.2721 - acc: 0.319 - ETA: 0s - loss: 9.2465 - acc: 0.320 - ETA: 0s - loss: 9.2596 - acc: 0.320 - ETA: 0s - loss: 9.2430 - acc: 0.321 - ETA: 0s - loss: 9.2400 - acc: 0.322 - ETA: 0s - loss: 9.2277 - acc: 0.322 - ETA: 0s - loss: 9.2351 - acc: 0.321 - ETA: 0s - loss: 9.2321 - acc: 0.321 - ETA: 0s - loss: 9.2301 - acc: 0.322 - ETA: 0s - loss: 9.2082 - acc: 0.324 - ETA: 0s - loss: 9.1857 - acc: 0.326 - ETA: 0s - loss: 9.2169 - acc: 0.325 - ETA: 0s - loss: 9.2053 - acc: 0.326 - ETA: 0s - loss: 9.1897 - acc: 0.327 - ETA: 0s - loss: 9.1912 - acc: 0.327 - 3s 404us/step - loss: 9.1929 - acc: 0.3274 - val_loss: 9.1360 - val_acc: 0.3317\n",
      "\n",
      "Epoch 00002: val_loss improved from 9.95461 to 9.13601, saving model to saved_models/weights.best.VGG16.hdf5\n",
      "Epoch 3/20\n",
      "6680/6680 [==============================] - ETA: 2s - loss: 6.2328 - acc: 0.550 - ETA: 2s - loss: 7.7665 - acc: 0.444 - ETA: 2s - loss: 8.2514 - acc: 0.425 - ETA: 2s - loss: 8.3907 - acc: 0.409 - ETA: 2s - loss: 8.6071 - acc: 0.394 - ETA: 2s - loss: 8.7056 - acc: 0.392 - ETA: 2s - loss: 8.6029 - acc: 0.395 - ETA: 2s - loss: 8.4518 - acc: 0.404 - ETA: 2s - loss: 8.4911 - acc: 0.401 - ETA: 2s - loss: 8.4123 - acc: 0.409 - ETA: 2s - loss: 8.3423 - acc: 0.412 - ETA: 2s - loss: 8.3815 - acc: 0.406 - ETA: 1s - loss: 8.4152 - acc: 0.402 - ETA: 1s - loss: 8.3920 - acc: 0.401 - ETA: 1s - loss: 8.3485 - acc: 0.407 - ETA: 1s - loss: 8.3571 - acc: 0.409 - ETA: 1s - loss: 8.3936 - acc: 0.407 - ETA: 1s - loss: 8.4017 - acc: 0.406 - ETA: 1s - loss: 8.4191 - acc: 0.404 - ETA: 1s - loss: 8.3924 - acc: 0.403 - ETA: 1s - loss: 8.3579 - acc: 0.405 - ETA: 1s - loss: 8.3534 - acc: 0.405 - ETA: 1s - loss: 8.3410 - acc: 0.407 - ETA: 1s - loss: 8.3195 - acc: 0.409 - ETA: 1s - loss: 8.3310 - acc: 0.409 - ETA: 1s - loss: 8.3620 - acc: 0.406 - ETA: 1s - loss: 8.3658 - acc: 0.406 - ETA: 1s - loss: 8.3640 - acc: 0.406 - ETA: 1s - loss: 8.3469 - acc: 0.407 - ETA: 1s - loss: 8.3729 - acc: 0.405 - ETA: 0s - loss: 8.3675 - acc: 0.405 - ETA: 0s - loss: 8.4045 - acc: 0.403 - ETA: 0s - loss: 8.4247 - acc: 0.402 - ETA: 0s - loss: 8.4417 - acc: 0.402 - ETA: 0s - loss: 8.4511 - acc: 0.402 - ETA: 0s - loss: 8.4380 - acc: 0.402 - ETA: 0s - loss: 8.4186 - acc: 0.404 - ETA: 0s - loss: 8.4023 - acc: 0.405 - ETA: 0s - loss: 8.4278 - acc: 0.403 - ETA: 0s - loss: 8.4338 - acc: 0.404 - ETA: 0s - loss: 8.4184 - acc: 0.405 - ETA: 0s - loss: 8.4357 - acc: 0.404 - ETA: 0s - loss: 8.4522 - acc: 0.403 - ETA: 0s - loss: 8.4252 - acc: 0.404 - ETA: 0s - loss: 8.4198 - acc: 0.405 - ETA: 0s - loss: 8.4381 - acc: 0.404 - ETA: 0s - loss: 8.4306 - acc: 0.404 - ETA: 0s - loss: 8.4178 - acc: 0.406 - ETA: 0s - loss: 8.4270 - acc: 0.405 - 3s 416us/step - loss: 8.4354 - acc: 0.4051 - val_loss: 8.6515 - val_acc: 0.3760\n",
      "\n",
      "Epoch 00003: val_loss improved from 9.13601 to 8.65150, saving model to saved_models/weights.best.VGG16.hdf5\n",
      "Epoch 4/20\n",
      "6680/6680 [==============================] - ETA: 2s - loss: 6.4733 - acc: 0.600 - ETA: 2s - loss: 7.9750 - acc: 0.444 - ETA: 2s - loss: 7.4832 - acc: 0.471 - ETA: 2s - loss: 8.2022 - acc: 0.433 - ETA: 2s - loss: 7.7681 - acc: 0.456 - ETA: 2s - loss: 7.8619 - acc: 0.455 - ETA: 2s - loss: 7.8850 - acc: 0.453 - ETA: 2s - loss: 7.9450 - acc: 0.451 - ETA: 1s - loss: 7.8523 - acc: 0.454 - ETA: 1s - loss: 7.8646 - acc: 0.455 - ETA: 1s - loss: 7.8558 - acc: 0.457 - ETA: 1s - loss: 7.8362 - acc: 0.458 - ETA: 1s - loss: 7.7956 - acc: 0.463 - ETA: 1s - loss: 7.7874 - acc: 0.463 - ETA: 1s - loss: 7.8978 - acc: 0.457 - ETA: 1s - loss: 7.9395 - acc: 0.456 - ETA: 1s - loss: 7.9325 - acc: 0.456 - ETA: 1s - loss: 7.9097 - acc: 0.457 - ETA: 1s - loss: 7.8885 - acc: 0.457 - ETA: 1s - loss: 7.8862 - acc: 0.457 - ETA: 1s - loss: 7.8636 - acc: 0.459 - ETA: 1s - loss: 7.8720 - acc: 0.459 - ETA: 1s - loss: 7.8558 - acc: 0.460 - ETA: 1s - loss: 7.8872 - acc: 0.457 - ETA: 1s - loss: 7.8575 - acc: 0.458 - ETA: 1s - loss: 7.8518 - acc: 0.458 - ETA: 1s - loss: 7.8336 - acc: 0.459 - ETA: 1s - loss: 7.8125 - acc: 0.461 - ETA: 1s - loss: 7.8552 - acc: 0.459 - ETA: 0s - loss: 7.8832 - acc: 0.458 - ETA: 0s - loss: 7.9041 - acc: 0.456 - ETA: 0s - loss: 7.9092 - acc: 0.457 - ETA: 0s - loss: 7.9348 - acc: 0.455 - ETA: 0s - loss: 7.9367 - acc: 0.455 - ETA: 0s - loss: 7.9438 - acc: 0.456 - ETA: 0s - loss: 7.9676 - acc: 0.454 - ETA: 0s - loss: 8.0042 - acc: 0.452 - ETA: 0s - loss: 8.0192 - acc: 0.452 - ETA: 0s - loss: 8.0146 - acc: 0.452 - ETA: 0s - loss: 8.0004 - acc: 0.453 - ETA: 0s - loss: 8.0110 - acc: 0.452 - ETA: 0s - loss: 8.0182 - acc: 0.452 - ETA: 0s - loss: 8.0246 - acc: 0.451 - ETA: 0s - loss: 8.0052 - acc: 0.452 - ETA: 0s - loss: 8.0286 - acc: 0.451 - ETA: 0s - loss: 8.0367 - acc: 0.450 - ETA: 0s - loss: 8.0367 - acc: 0.450 - 3s 402us/step - loss: 8.0076 - acc: 0.4528 - val_loss: 8.4459 - val_acc: 0.3976\n"
     ]
    },
    {
     "name": "stdout",
     "output_type": "stream",
     "text": [
      "\n",
      "Epoch 00004: val_loss improved from 8.65150 to 8.44587, saving model to saved_models/weights.best.VGG16.hdf5\n",
      "Epoch 5/20\n",
      "6680/6680 [==============================] - ETA: 2s - loss: 8.2262 - acc: 0.450 - ETA: 2s - loss: 7.0698 - acc: 0.522 - ETA: 2s - loss: 7.6006 - acc: 0.496 - ETA: 2s - loss: 7.5062 - acc: 0.502 - ETA: 2s - loss: 7.4790 - acc: 0.503 - ETA: 2s - loss: 7.5076 - acc: 0.501 - ETA: 2s - loss: 7.6131 - acc: 0.497 - ETA: 2s - loss: 7.5787 - acc: 0.496 - ETA: 2s - loss: 7.5827 - acc: 0.495 - ETA: 1s - loss: 7.6308 - acc: 0.492 - ETA: 1s - loss: 7.6642 - acc: 0.491 - ETA: 1s - loss: 7.6239 - acc: 0.495 - ETA: 1s - loss: 7.6563 - acc: 0.491 - ETA: 1s - loss: 7.6740 - acc: 0.489 - ETA: 1s - loss: 7.6816 - acc: 0.490 - ETA: 1s - loss: 7.7017 - acc: 0.488 - ETA: 1s - loss: 7.6642 - acc: 0.489 - ETA: 1s - loss: 7.7011 - acc: 0.486 - ETA: 1s - loss: 7.6860 - acc: 0.485 - ETA: 1s - loss: 7.7373 - acc: 0.480 - ETA: 1s - loss: 7.8145 - acc: 0.475 - ETA: 1s - loss: 7.8339 - acc: 0.474 - ETA: 1s - loss: 7.8780 - acc: 0.471 - ETA: 1s - loss: 7.8757 - acc: 0.470 - ETA: 1s - loss: 7.8710 - acc: 0.470 - ETA: 1s - loss: 7.9015 - acc: 0.469 - ETA: 1s - loss: 7.9136 - acc: 0.469 - ETA: 1s - loss: 7.9015 - acc: 0.470 - ETA: 1s - loss: 7.9366 - acc: 0.469 - ETA: 0s - loss: 7.9410 - acc: 0.469 - ETA: 0s - loss: 7.9151 - acc: 0.471 - ETA: 0s - loss: 7.8861 - acc: 0.473 - ETA: 0s - loss: 7.9066 - acc: 0.472 - ETA: 0s - loss: 7.9203 - acc: 0.472 - ETA: 0s - loss: 7.9285 - acc: 0.470 - ETA: 0s - loss: 7.9273 - acc: 0.471 - ETA: 0s - loss: 7.9390 - acc: 0.470 - ETA: 0s - loss: 7.9073 - acc: 0.471 - ETA: 0s - loss: 7.8896 - acc: 0.472 - ETA: 0s - loss: 7.9048 - acc: 0.471 - ETA: 0s - loss: 7.9317 - acc: 0.469 - ETA: 0s - loss: 7.9363 - acc: 0.469 - ETA: 0s - loss: 7.9352 - acc: 0.469 - ETA: 0s - loss: 7.9094 - acc: 0.471 - ETA: 0s - loss: 7.8892 - acc: 0.472 - ETA: 0s - loss: 7.8758 - acc: 0.473 - ETA: 0s - loss: 7.8518 - acc: 0.474 - ETA: 0s - loss: 7.8450 - acc: 0.475 - ETA: 0s - loss: 7.8338 - acc: 0.475 - 3s 407us/step - loss: 7.8273 - acc: 0.4757 - val_loss: 8.3522 - val_acc: 0.4120\n",
      "\n",
      "Epoch 00005: val_loss improved from 8.44587 to 8.35216, saving model to saved_models/weights.best.VGG16.hdf5\n",
      "Epoch 6/20\n",
      "6680/6680 [==============================] - ETA: 2s - loss: 5.0351 - acc: 0.650 - ETA: 2s - loss: 6.6370 - acc: 0.556 - ETA: 2s - loss: 7.5409 - acc: 0.510 - ETA: 2s - loss: 7.7131 - acc: 0.502 - ETA: 2s - loss: 7.4780 - acc: 0.517 - ETA: 2s - loss: 7.4127 - acc: 0.518 - ETA: 2s - loss: 7.3472 - acc: 0.520 - ETA: 2s - loss: 7.3823 - acc: 0.519 - ETA: 2s - loss: 7.4850 - acc: 0.515 - ETA: 2s - loss: 7.4380 - acc: 0.515 - ETA: 2s - loss: 7.3950 - acc: 0.518 - ETA: 2s - loss: 7.4505 - acc: 0.515 - ETA: 2s - loss: 7.4817 - acc: 0.514 - ETA: 1s - loss: 7.4737 - acc: 0.513 - ETA: 1s - loss: 7.4892 - acc: 0.512 - ETA: 1s - loss: 7.4585 - acc: 0.511 - ETA: 1s - loss: 7.5320 - acc: 0.506 - ETA: 1s - loss: 7.5941 - acc: 0.503 - ETA: 1s - loss: 7.5566 - acc: 0.506 - ETA: 1s - loss: 7.5448 - acc: 0.506 - ETA: 1s - loss: 7.5970 - acc: 0.503 - ETA: 1s - loss: 7.6214 - acc: 0.502 - ETA: 1s - loss: 7.6828 - acc: 0.498 - ETA: 1s - loss: 7.6801 - acc: 0.496 - ETA: 1s - loss: 7.7114 - acc: 0.493 - ETA: 1s - loss: 7.6847 - acc: 0.495 - ETA: 1s - loss: 7.6648 - acc: 0.497 - ETA: 1s - loss: 7.6732 - acc: 0.495 - ETA: 0s - loss: 7.6903 - acc: 0.494 - ETA: 0s - loss: 7.7001 - acc: 0.493 - ETA: 0s - loss: 7.7116 - acc: 0.493 - ETA: 0s - loss: 7.6718 - acc: 0.496 - ETA: 0s - loss: 7.6842 - acc: 0.495 - ETA: 0s - loss: 7.6878 - acc: 0.495 - ETA: 0s - loss: 7.6934 - acc: 0.494 - ETA: 0s - loss: 7.7261 - acc: 0.493 - ETA: 0s - loss: 7.7095 - acc: 0.493 - ETA: 0s - loss: 7.7033 - acc: 0.493 - ETA: 0s - loss: 7.6756 - acc: 0.494 - ETA: 0s - loss: 7.6673 - acc: 0.494 - ETA: 0s - loss: 7.6665 - acc: 0.494 - ETA: 0s - loss: 7.6764 - acc: 0.494 - ETA: 0s - loss: 7.6824 - acc: 0.493 - ETA: 0s - loss: 7.6639 - acc: 0.494 - ETA: 0s - loss: 7.6561 - acc: 0.495 - 3s 382us/step - loss: 7.6515 - acc: 0.4952 - val_loss: 8.1424 - val_acc: 0.4168\n",
      "\n",
      "Epoch 00006: val_loss improved from 8.35216 to 8.14243, saving model to saved_models/weights.best.VGG16.hdf5\n",
      "Epoch 7/20\n",
      "6680/6680 [==============================] - ETA: 2s - loss: 8.0593 - acc: 0.500 - ETA: 2s - loss: 8.6688 - acc: 0.455 - ETA: 2s - loss: 8.3209 - acc: 0.461 - ETA: 2s - loss: 7.9824 - acc: 0.490 - ETA: 1s - loss: 7.6396 - acc: 0.509 - ETA: 1s - loss: 7.5408 - acc: 0.515 - ETA: 1s - loss: 7.4052 - acc: 0.520 - ETA: 1s - loss: 7.4152 - acc: 0.521 - ETA: 1s - loss: 7.4234 - acc: 0.519 - ETA: 1s - loss: 7.4774 - acc: 0.516 - ETA: 1s - loss: 7.5937 - acc: 0.508 - ETA: 1s - loss: 7.5860 - acc: 0.510 - ETA: 1s - loss: 7.5677 - acc: 0.510 - ETA: 1s - loss: 7.6136 - acc: 0.506 - ETA: 1s - loss: 7.5894 - acc: 0.505 - ETA: 1s - loss: 7.4993 - acc: 0.512 - ETA: 1s - loss: 7.4259 - acc: 0.516 - ETA: 1s - loss: 7.4028 - acc: 0.517 - ETA: 1s - loss: 7.4195 - acc: 0.515 - ETA: 1s - loss: 7.3936 - acc: 0.517 - ETA: 1s - loss: 7.4105 - acc: 0.516 - ETA: 1s - loss: 7.3840 - acc: 0.518 - ETA: 1s - loss: 7.4275 - acc: 0.515 - ETA: 1s - loss: 7.4465 - acc: 0.513 - ETA: 1s - loss: 7.4558 - acc: 0.512 - ETA: 0s - loss: 7.4477 - acc: 0.513 - ETA: 0s - loss: 7.4660 - acc: 0.511 - ETA: 0s - loss: 7.4669 - acc: 0.512 - ETA: 0s - loss: 7.4797 - acc: 0.510 - ETA: 0s - loss: 7.4600 - acc: 0.511 - ETA: 0s - loss: 7.4334 - acc: 0.512 - ETA: 0s - loss: 7.3879 - acc: 0.514 - ETA: 0s - loss: 7.3993 - acc: 0.513 - ETA: 0s - loss: 7.4689 - acc: 0.509 - ETA: 0s - loss: 7.4831 - acc: 0.508 - ETA: 0s - loss: 7.4722 - acc: 0.509 - ETA: 0s - loss: 7.4872 - acc: 0.508 - ETA: 0s - loss: 7.4792 - acc: 0.508 - ETA: 0s - loss: 7.4803 - acc: 0.507 - ETA: 0s - loss: 7.4796 - acc: 0.506 - ETA: 0s - loss: 7.4937 - acc: 0.505 - ETA: 0s - loss: 7.4858 - acc: 0.506 - ETA: 0s - loss: 7.4879 - acc: 0.506 - ETA: 0s - loss: 7.4837 - acc: 0.506 - ETA: 0s - loss: 7.4793 - acc: 0.506 - ETA: 0s - loss: 7.4796 - acc: 0.506 - ETA: 0s - loss: 7.4585 - acc: 0.507 - 3s 402us/step - loss: 7.4597 - acc: 0.5076 - val_loss: 8.1051 - val_acc: 0.4084\n",
      "\n",
      "Epoch 00007: val_loss improved from 8.14243 to 8.10514, saving model to saved_models/weights.best.VGG16.hdf5\n",
      "Epoch 8/20\n",
      "6680/6680 [==============================] - ETA: 1s - loss: 7.8220 - acc: 0.400 - ETA: 2s - loss: 8.2868 - acc: 0.438 - ETA: 2s - loss: 7.6618 - acc: 0.482 - ETA: 2s - loss: 7.6539 - acc: 0.486 - ETA: 2s - loss: 7.5159 - acc: 0.495 - ETA: 1s - loss: 7.6101 - acc: 0.496 - ETA: 1s - loss: 7.5292 - acc: 0.504 - ETA: 1s - loss: 7.4034 - acc: 0.512 - ETA: 1s - loss: 7.2766 - acc: 0.520 - ETA: 1s - loss: 7.4439 - acc: 0.510 - ETA: 1s - loss: 7.3317 - acc: 0.519 - ETA: 1s - loss: 7.3191 - acc: 0.519 - ETA: 1s - loss: 7.3478 - acc: 0.517 - ETA: 1s - loss: 7.2937 - acc: 0.520 - ETA: 1s - loss: 7.2414 - acc: 0.522 - ETA: 1s - loss: 7.2190 - acc: 0.523 - ETA: 1s - loss: 7.1966 - acc: 0.526 - ETA: 1s - loss: 7.1829 - acc: 0.525 - ETA: 1s - loss: 7.1154 - acc: 0.529 - ETA: 1s - loss: 7.1152 - acc: 0.530 - ETA: 1s - loss: 7.0815 - acc: 0.532 - ETA: 1s - loss: 7.0761 - acc: 0.532 - ETA: 1s - loss: 7.1298 - acc: 0.529 - ETA: 1s - loss: 7.1330 - acc: 0.528 - ETA: 1s - loss: 7.1419 - acc: 0.528 - ETA: 1s - loss: 7.1242 - acc: 0.528 - ETA: 1s - loss: 7.1413 - acc: 0.527 - ETA: 0s - loss: 7.1752 - acc: 0.525 - ETA: 0s - loss: 7.1860 - acc: 0.523 - ETA: 0s - loss: 7.1868 - acc: 0.524 - ETA: 0s - loss: 7.2173 - acc: 0.522 - ETA: 0s - loss: 7.2397 - acc: 0.520 - ETA: 0s - loss: 7.2099 - acc: 0.522 - ETA: 0s - loss: 7.2370 - acc: 0.520 - ETA: 0s - loss: 7.2414 - acc: 0.519 - ETA: 0s - loss: 7.2446 - acc: 0.520 - ETA: 0s - loss: 7.2407 - acc: 0.519 - ETA: 0s - loss: 7.2397 - acc: 0.520 - ETA: 0s - loss: 7.2518 - acc: 0.518 - ETA: 0s - loss: 7.2479 - acc: 0.518 - ETA: 0s - loss: 7.2338 - acc: 0.518 - ETA: 0s - loss: 7.2137 - acc: 0.520 - ETA: 0s - loss: 7.1873 - acc: 0.522 - ETA: 0s - loss: 7.2056 - acc: 0.521 - ETA: 0s - loss: 7.1981 - acc: 0.521 - ETA: 0s - loss: 7.1979 - acc: 0.521 - 3s 397us/step - loss: 7.1870 - acc: 0.5217 - val_loss: 7.7982 - val_acc: 0.4311\n",
      "\n",
      "Epoch 00008: val_loss improved from 8.10514 to 7.79825, saving model to saved_models/weights.best.VGG16.hdf5\n",
      "Epoch 9/20\n",
      "6680/6680 [==============================] - ETA: 2s - loss: 4.9453 - acc: 0.650 - ETA: 2s - loss: 6.5028 - acc: 0.568 - ETA: 2s - loss: 6.5310 - acc: 0.560 - ETA: 2s - loss: 6.7730 - acc: 0.550 - ETA: 2s - loss: 6.6585 - acc: 0.553 - ETA: 2s - loss: 6.7974 - acc: 0.547 - ETA: 2s - loss: 6.8462 - acc: 0.543 - ETA: 2s - loss: 6.8853 - acc: 0.541 - ETA: 2s - loss: 6.9459 - acc: 0.539 - ETA: 2s - loss: 6.8734 - acc: 0.542 - ETA: 2s - loss: 6.8262 - acc: 0.546 - ETA: 2s - loss: 6.9218 - acc: 0.542 - ETA: 2s - loss: 6.9016 - acc: 0.545 - ETA: 2s - loss: 6.8396 - acc: 0.548 - ETA: 2s - loss: 6.8995 - acc: 0.545 - ETA: 1s - loss: 6.8982 - acc: 0.543 - ETA: 1s - loss: 6.8817 - acc: 0.544 - ETA: 1s - loss: 6.8865 - acc: 0.543 - ETA: 1s - loss: 6.8458 - acc: 0.544 - ETA: 1s - loss: 6.8210 - acc: 0.545 - ETA: 1s - loss: 6.7911 - acc: 0.547 - ETA: 1s - loss: 6.8388 - acc: 0.544 - ETA: 1s - loss: 6.9103 - acc: 0.540 - ETA: 1s - loss: 6.8919 - acc: 0.542 - ETA: 1s - loss: 6.9228 - acc: 0.540 - ETA: 1s - loss: 6.9085 - acc: 0.540 - ETA: 1s - loss: 6.9311 - acc: 0.539 - ETA: 1s - loss: 6.9126 - acc: 0.541 - ETA: 1s - loss: 6.9432 - acc: 0.540 - ETA: 1s - loss: 6.9579 - acc: 0.539 - ETA: 1s - loss: 6.9234 - acc: 0.542 - ETA: 1s - loss: 6.9375 - acc: 0.541 - ETA: 1s - loss: 6.9050 - acc: 0.544 - ETA: 0s - loss: 6.8930 - acc: 0.545 - ETA: 0s - loss: 6.9259 - acc: 0.543 - ETA: 0s - loss: 6.9367 - acc: 0.542 - ETA: 0s - loss: 6.9390 - acc: 0.542 - ETA: 0s - loss: 6.9122 - acc: 0.543 - ETA: 0s - loss: 6.9153 - acc: 0.543 - ETA: 0s - loss: 6.9361 - acc: 0.542 - ETA: 0s - loss: 6.9418 - acc: 0.542 - ETA: 0s - loss: 6.9781 - acc: 0.540 - ETA: 0s - loss: 6.9681 - acc: 0.540 - ETA: 0s - loss: 6.9926 - acc: 0.539 - ETA: 0s - loss: 7.0008 - acc: 0.539 - ETA: 0s - loss: 7.0149 - acc: 0.537 - ETA: 0s - loss: 6.9972 - acc: 0.539 - ETA: 0s - loss: 6.9663 - acc: 0.541 - ETA: 0s - loss: 6.9518 - acc: 0.542 - ETA: 0s - loss: 6.9390 - acc: 0.543 - ETA: 0s - loss: 6.9249 - acc: 0.544 - 3s 431us/step - loss: 6.9151 - acc: 0.5448 - val_loss: 7.6885 - val_acc: 0.4311\n",
      "\n",
      "Epoch 00009: val_loss improved from 7.79825 to 7.68847, saving model to saved_models/weights.best.VGG16.hdf5\n",
      "Epoch 10/20\n",
      "6680/6680 [==============================] - ETA: 2s - loss: 3.4196 - acc: 0.750 - ETA: 2s - loss: 6.8491 - acc: 0.562 - ETA: 2s - loss: 6.4060 - acc: 0.589 - ETA: 2s - loss: 6.7233 - acc: 0.566 - ETA: 2s - loss: 6.7451 - acc: 0.559 - ETA: 2s - loss: 7.0161 - acc: 0.545 - ETA: 2s - loss: 6.9806 - acc: 0.548 - ETA: 2s - loss: 6.7623 - acc: 0.562 - ETA: 2s - loss: 6.6569 - acc: 0.568 - ETA: 2s - loss: 6.5492 - acc: 0.573 - ETA: 2s - loss: 6.5166 - acc: 0.573 - ETA: 2s - loss: 6.6044 - acc: 0.568 - ETA: 1s - loss: 6.6684 - acc: 0.561 - ETA: 1s - loss: 6.6973 - acc: 0.558 - ETA: 1s - loss: 6.6776 - acc: 0.559 - ETA: 1s - loss: 6.7136 - acc: 0.558 - ETA: 1s - loss: 6.6857 - acc: 0.560 - ETA: 1s - loss: 6.7124 - acc: 0.558 - ETA: 1s - loss: 6.7177 - acc: 0.557 - ETA: 1s - loss: 6.7600 - acc: 0.553 - ETA: 1s - loss: 6.7383 - acc: 0.555 - ETA: 1s - loss: 6.7961 - acc: 0.552 - ETA: 1s - loss: 6.7888 - acc: 0.552 - ETA: 1s - loss: 6.7517 - acc: 0.555 - ETA: 1s - loss: 6.7504 - acc: 0.554 - ETA: 1s - loss: 6.7478 - acc: 0.555 - ETA: 1s - loss: 6.7008 - acc: 0.558 - ETA: 1s - loss: 6.6542 - acc: 0.559 - ETA: 0s - loss: 6.6484 - acc: 0.560 - ETA: 0s - loss: 6.6512 - acc: 0.560 - ETA: 0s - loss: 6.6471 - acc: 0.560 - ETA: 0s - loss: 6.6642 - acc: 0.558 - ETA: 0s - loss: 6.6712 - acc: 0.558 - ETA: 0s - loss: 6.6821 - acc: 0.558 - ETA: 0s - loss: 6.6890 - acc: 0.557 - ETA: 0s - loss: 6.6859 - acc: 0.557 - ETA: 0s - loss: 6.6946 - acc: 0.557 - ETA: 0s - loss: 6.6928 - acc: 0.557 - ETA: 0s - loss: 6.6788 - acc: 0.558 - ETA: 0s - loss: 6.6591 - acc: 0.559 - ETA: 0s - loss: 6.6367 - acc: 0.560 - ETA: 0s - loss: 6.6417 - acc: 0.560 - ETA: 0s - loss: 6.6202 - acc: 0.561 - ETA: 0s - loss: 6.6070 - acc: 0.562 - 3s 376us/step - loss: 6.5889 - acc: 0.5626 - val_loss: 7.3762 - val_acc: 0.4419\n",
      "\n",
      "Epoch 00010: val_loss improved from 7.68847 to 7.37616, saving model to saved_models/weights.best.VGG16.hdf5\n",
      "Epoch 11/20\n",
      "6680/6680 [==============================] - ETA: 2s - loss: 6.4539 - acc: 0.600 - ETA: 2s - loss: 6.1987 - acc: 0.605 - ETA: 2s - loss: 6.3300 - acc: 0.593 - ETA: 2s - loss: 6.3518 - acc: 0.593 - ETA: 2s - loss: 6.3627 - acc: 0.595 - ETA: 2s - loss: 6.4315 - acc: 0.590 - ETA: 1s - loss: 6.5022 - acc: 0.584 - ETA: 1s - loss: 6.5142 - acc: 0.580 - ETA: 1s - loss: 6.5349 - acc: 0.578 - ETA: 1s - loss: 6.7358 - acc: 0.567 - ETA: 1s - loss: 6.6928 - acc: 0.568 - ETA: 1s - loss: 6.5415 - acc: 0.577 - ETA: 1s - loss: 6.4836 - acc: 0.582 - ETA: 1s - loss: 6.4738 - acc: 0.584 - ETA: 1s - loss: 6.3899 - acc: 0.588 - ETA: 1s - loss: 6.3354 - acc: 0.591 - ETA: 1s - loss: 6.3352 - acc: 0.591 - ETA: 1s - loss: 6.3756 - acc: 0.589 - ETA: 1s - loss: 6.3276 - acc: 0.590 - ETA: 1s - loss: 6.2958 - acc: 0.593 - ETA: 1s - loss: 6.2933 - acc: 0.593 - ETA: 1s - loss: 6.2925 - acc: 0.593 - ETA: 1s - loss: 6.3137 - acc: 0.590 - ETA: 1s - loss: 6.3279 - acc: 0.589 - ETA: 1s - loss: 6.3378 - acc: 0.589 - ETA: 1s - loss: 6.3815 - acc: 0.585 - ETA: 0s - loss: 6.3809 - acc: 0.585 - ETA: 0s - loss: 6.3895 - acc: 0.584 - ETA: 0s - loss: 6.3911 - acc: 0.584 - ETA: 0s - loss: 6.4068 - acc: 0.582 - ETA: 0s - loss: 6.4289 - acc: 0.580 - ETA: 0s - loss: 6.4319 - acc: 0.580 - ETA: 0s - loss: 6.4101 - acc: 0.582 - ETA: 0s - loss: 6.4121 - acc: 0.582 - ETA: 0s - loss: 6.4156 - acc: 0.582 - ETA: 0s - loss: 6.4036 - acc: 0.582 - ETA: 0s - loss: 6.3999 - acc: 0.582 - ETA: 0s - loss: 6.4016 - acc: 0.582 - ETA: 0s - loss: 6.4254 - acc: 0.580 - ETA: 0s - loss: 6.4733 - acc: 0.577 - ETA: 0s - loss: 6.4561 - acc: 0.577 - ETA: 0s - loss: 6.4553 - acc: 0.577 - ETA: 0s - loss: 6.4398 - acc: 0.578 - ETA: 0s - loss: 6.4390 - acc: 0.578 - ETA: 0s - loss: 6.4186 - acc: 0.579 - ETA: 0s - loss: 6.4043 - acc: 0.580 - 3s 387us/step - loss: 6.4131 - acc: 0.5799 - val_loss: 7.1987 - val_acc: 0.4599\n",
      "\n",
      "Epoch 00011: val_loss improved from 7.37616 to 7.19867, saving model to saved_models/weights.best.VGG16.hdf5\n",
      "Epoch 12/20\n",
      "6680/6680 [==============================] - ETA: 2s - loss: 4.0320 - acc: 0.750 - ETA: 2s - loss: 6.0044 - acc: 0.616 - ETA: 2s - loss: 6.6058 - acc: 0.573 - ETA: 2s - loss: 6.6485 - acc: 0.568 - ETA: 2s - loss: 6.6857 - acc: 0.568 - ETA: 2s - loss: 6.6902 - acc: 0.569 - ETA: 1s - loss: 6.5471 - acc: 0.579 - ETA: 1s - loss: 6.5099 - acc: 0.582 - ETA: 1s - loss: 6.6010 - acc: 0.575 - ETA: 1s - loss: 6.5555 - acc: 0.577 - ETA: 1s - loss: 6.4971 - acc: 0.581 - ETA: 1s - loss: 6.4777 - acc: 0.581 - ETA: 1s - loss: 6.3911 - acc: 0.588 - ETA: 1s - loss: 6.3746 - acc: 0.588 - ETA: 1s - loss: 6.4595 - acc: 0.583 - ETA: 1s - loss: 6.3943 - acc: 0.586 - ETA: 1s - loss: 6.4340 - acc: 0.583 - ETA: 1s - loss: 6.4378 - acc: 0.582 - ETA: 1s - loss: 6.4170 - acc: 0.583 - ETA: 1s - loss: 6.4589 - acc: 0.580 - ETA: 1s - loss: 6.4973 - acc: 0.578 - ETA: 1s - loss: 6.4334 - acc: 0.582 - ETA: 1s - loss: 6.4300 - acc: 0.583 - ETA: 1s - loss: 6.4132 - acc: 0.583 - ETA: 1s - loss: 6.4370 - acc: 0.582 - ETA: 1s - loss: 6.4163 - acc: 0.584 - ETA: 1s - loss: 6.3876 - acc: 0.585 - ETA: 1s - loss: 6.3906 - acc: 0.585 - ETA: 0s - loss: 6.4047 - acc: 0.583 - ETA: 0s - loss: 6.4075 - acc: 0.583 - ETA: 0s - loss: 6.4099 - acc: 0.584 - ETA: 0s - loss: 6.3637 - acc: 0.587 - ETA: 0s - loss: 6.4094 - acc: 0.584 - ETA: 0s - loss: 6.3991 - acc: 0.585 - ETA: 0s - loss: 6.3639 - acc: 0.587 - ETA: 0s - loss: 6.3242 - acc: 0.590 - ETA: 0s - loss: 6.3200 - acc: 0.590 - ETA: 0s - loss: 6.3045 - acc: 0.591 - ETA: 0s - loss: 6.3293 - acc: 0.590 - ETA: 0s - loss: 6.3209 - acc: 0.590 - ETA: 0s - loss: 6.3272 - acc: 0.590 - ETA: 0s - loss: 6.3334 - acc: 0.590 - ETA: 0s - loss: 6.3092 - acc: 0.592 - ETA: 0s - loss: 6.2980 - acc: 0.593 - ETA: 0s - loss: 6.2747 - acc: 0.594 - ETA: 0s - loss: 6.3137 - acc: 0.592 - 3s 387us/step - loss: 6.3073 - acc: 0.5925 - val_loss: 7.1734 - val_acc: 0.4743\n",
      "\n"
     ]
    },
    {
     "name": "stdout",
     "output_type": "stream",
     "text": [
      "Epoch 00012: val_loss improved from 7.19867 to 7.17345, saving model to saved_models/weights.best.VGG16.hdf5\n",
      "Epoch 13/20\n",
      "6680/6680 [==============================] - ETA: 3s - loss: 5.6511 - acc: 0.650 - ETA: 2s - loss: 4.9931 - acc: 0.683 - ETA: 2s - loss: 5.8202 - acc: 0.635 - ETA: 2s - loss: 5.9032 - acc: 0.628 - ETA: 2s - loss: 5.9406 - acc: 0.627 - ETA: 2s - loss: 5.8663 - acc: 0.628 - ETA: 2s - loss: 5.9494 - acc: 0.622 - ETA: 1s - loss: 5.9552 - acc: 0.623 - ETA: 1s - loss: 5.9888 - acc: 0.620 - ETA: 1s - loss: 5.9650 - acc: 0.620 - ETA: 1s - loss: 5.9713 - acc: 0.620 - ETA: 1s - loss: 5.9641 - acc: 0.621 - ETA: 1s - loss: 5.9765 - acc: 0.620 - ETA: 1s - loss: 6.0107 - acc: 0.619 - ETA: 1s - loss: 6.1089 - acc: 0.613 - ETA: 1s - loss: 6.1070 - acc: 0.613 - ETA: 1s - loss: 6.1141 - acc: 0.613 - ETA: 1s - loss: 6.0948 - acc: 0.614 - ETA: 1s - loss: 6.0837 - acc: 0.614 - ETA: 1s - loss: 6.0760 - acc: 0.614 - ETA: 1s - loss: 6.0555 - acc: 0.615 - ETA: 1s - loss: 6.0156 - acc: 0.617 - ETA: 1s - loss: 6.0493 - acc: 0.615 - ETA: 1s - loss: 6.0924 - acc: 0.612 - ETA: 1s - loss: 6.1347 - acc: 0.610 - ETA: 1s - loss: 6.1465 - acc: 0.609 - ETA: 1s - loss: 6.1064 - acc: 0.611 - ETA: 0s - loss: 6.0867 - acc: 0.612 - ETA: 0s - loss: 6.0498 - acc: 0.613 - ETA: 0s - loss: 6.0493 - acc: 0.613 - ETA: 0s - loss: 6.0637 - acc: 0.611 - ETA: 0s - loss: 6.0851 - acc: 0.610 - ETA: 0s - loss: 6.1039 - acc: 0.608 - ETA: 0s - loss: 6.1214 - acc: 0.606 - ETA: 0s - loss: 6.1391 - acc: 0.604 - ETA: 0s - loss: 6.1671 - acc: 0.602 - ETA: 0s - loss: 6.1481 - acc: 0.602 - ETA: 0s - loss: 6.1865 - acc: 0.600 - ETA: 0s - loss: 6.1683 - acc: 0.601 - ETA: 0s - loss: 6.1755 - acc: 0.600 - ETA: 0s - loss: 6.1916 - acc: 0.600 - ETA: 0s - loss: 6.1898 - acc: 0.599 - ETA: 0s - loss: 6.2024 - acc: 0.598 - ETA: 0s - loss: 6.2258 - acc: 0.596 - ETA: 0s - loss: 6.2372 - acc: 0.595 - 3s 385us/step - loss: 6.2261 - acc: 0.5964 - val_loss: 7.1321 - val_acc: 0.4766\n",
      "\n",
      "Epoch 00013: val_loss improved from 7.17345 to 7.13210, saving model to saved_models/weights.best.VGG16.hdf5\n",
      "Epoch 14/20\n",
      "6680/6680 [==============================] - ETA: 2s - loss: 5.7122 - acc: 0.600 - ETA: 2s - loss: 6.2050 - acc: 0.587 - ETA: 2s - loss: 6.1457 - acc: 0.600 - ETA: 2s - loss: 6.0771 - acc: 0.609 - ETA: 2s - loss: 6.1443 - acc: 0.607 - ETA: 2s - loss: 6.3206 - acc: 0.594 - ETA: 2s - loss: 6.2025 - acc: 0.600 - ETA: 2s - loss: 6.2591 - acc: 0.594 - ETA: 2s - loss: 6.2116 - acc: 0.597 - ETA: 2s - loss: 6.1362 - acc: 0.602 - ETA: 2s - loss: 6.1744 - acc: 0.599 - ETA: 2s - loss: 6.2003 - acc: 0.598 - ETA: 2s - loss: 6.2147 - acc: 0.596 - ETA: 2s - loss: 6.2920 - acc: 0.592 - ETA: 2s - loss: 6.2774 - acc: 0.593 - ETA: 1s - loss: 6.2784 - acc: 0.592 - ETA: 1s - loss: 6.3098 - acc: 0.591 - ETA: 1s - loss: 6.3081 - acc: 0.590 - ETA: 1s - loss: 6.2794 - acc: 0.592 - ETA: 1s - loss: 6.2075 - acc: 0.597 - ETA: 1s - loss: 6.2030 - acc: 0.597 - ETA: 1s - loss: 6.1711 - acc: 0.598 - ETA: 1s - loss: 6.1255 - acc: 0.600 - ETA: 1s - loss: 6.0848 - acc: 0.603 - ETA: 1s - loss: 6.0878 - acc: 0.604 - ETA: 1s - loss: 6.0834 - acc: 0.604 - ETA: 1s - loss: 6.0740 - acc: 0.605 - ETA: 1s - loss: 6.0662 - acc: 0.606 - ETA: 1s - loss: 6.0607 - acc: 0.606 - ETA: 1s - loss: 6.0555 - acc: 0.607 - ETA: 0s - loss: 6.0999 - acc: 0.604 - ETA: 0s - loss: 6.1017 - acc: 0.604 - ETA: 0s - loss: 6.0489 - acc: 0.608 - ETA: 0s - loss: 6.0575 - acc: 0.607 - ETA: 0s - loss: 6.0531 - acc: 0.607 - ETA: 0s - loss: 6.0643 - acc: 0.607 - ETA: 0s - loss: 6.0749 - acc: 0.606 - ETA: 0s - loss: 6.0573 - acc: 0.607 - ETA: 0s - loss: 6.0863 - acc: 0.605 - ETA: 0s - loss: 6.0950 - acc: 0.604 - ETA: 0s - loss: 6.0737 - acc: 0.606 - ETA: 0s - loss: 6.0636 - acc: 0.606 - ETA: 0s - loss: 6.0539 - acc: 0.607 - ETA: 0s - loss: 6.0428 - acc: 0.607 - ETA: 0s - loss: 6.0463 - acc: 0.607 - ETA: 0s - loss: 6.0553 - acc: 0.606 - 3s 387us/step - loss: 6.0675 - acc: 0.6058 - val_loss: 6.9567 - val_acc: 0.4802\n",
      "\n",
      "Epoch 00014: val_loss improved from 7.13210 to 6.95668, saving model to saved_models/weights.best.VGG16.hdf5\n",
      "Epoch 15/20\n",
      "6680/6680 [==============================] - ETA: 2s - loss: 3.3775 - acc: 0.700 - ETA: 2s - loss: 6.0758 - acc: 0.610 - ETA: 2s - loss: 6.4681 - acc: 0.590 - ETA: 2s - loss: 6.2234 - acc: 0.604 - ETA: 2s - loss: 5.9947 - acc: 0.616 - ETA: 2s - loss: 5.9162 - acc: 0.619 - ETA: 2s - loss: 5.6757 - acc: 0.635 - ETA: 2s - loss: 5.5787 - acc: 0.641 - ETA: 2s - loss: 5.5739 - acc: 0.641 - ETA: 2s - loss: 5.4651 - acc: 0.645 - ETA: 2s - loss: 5.4269 - acc: 0.649 - ETA: 2s - loss: 5.5378 - acc: 0.642 - ETA: 2s - loss: 5.6241 - acc: 0.637 - ETA: 1s - loss: 5.6910 - acc: 0.632 - ETA: 1s - loss: 5.7075 - acc: 0.631 - ETA: 1s - loss: 5.7137 - acc: 0.629 - ETA: 1s - loss: 5.7514 - acc: 0.626 - ETA: 1s - loss: 5.8025 - acc: 0.622 - ETA: 1s - loss: 5.7447 - acc: 0.625 - ETA: 1s - loss: 5.7987 - acc: 0.621 - ETA: 1s - loss: 5.7685 - acc: 0.623 - ETA: 1s - loss: 5.7600 - acc: 0.623 - ETA: 1s - loss: 5.7650 - acc: 0.622 - ETA: 1s - loss: 5.7466 - acc: 0.623 - ETA: 1s - loss: 5.7237 - acc: 0.624 - ETA: 1s - loss: 5.7294 - acc: 0.624 - ETA: 1s - loss: 5.7367 - acc: 0.623 - ETA: 1s - loss: 5.8099 - acc: 0.619 - ETA: 1s - loss: 5.8183 - acc: 0.619 - ETA: 0s - loss: 5.8354 - acc: 0.618 - ETA: 0s - loss: 5.8506 - acc: 0.617 - ETA: 0s - loss: 5.8593 - acc: 0.617 - ETA: 0s - loss: 5.8553 - acc: 0.617 - ETA: 0s - loss: 5.8678 - acc: 0.616 - ETA: 0s - loss: 5.8695 - acc: 0.616 - ETA: 0s - loss: 5.8578 - acc: 0.617 - ETA: 0s - loss: 5.8735 - acc: 0.615 - ETA: 0s - loss: 5.8767 - acc: 0.615 - ETA: 0s - loss: 5.9028 - acc: 0.613 - ETA: 0s - loss: 5.9091 - acc: 0.613 - ETA: 0s - loss: 5.9378 - acc: 0.611 - ETA: 0s - loss: 5.9425 - acc: 0.610 - ETA: 0s - loss: 5.9269 - acc: 0.611 - ETA: 0s - loss: 5.9473 - acc: 0.609 - ETA: 0s - loss: 5.9279 - acc: 0.610 - 3s 384us/step - loss: 5.9444 - acc: 0.6100 - val_loss: 6.8452 - val_acc: 0.4862\n",
      "\n",
      "Epoch 00015: val_loss improved from 6.95668 to 6.84523, saving model to saved_models/weights.best.VGG16.hdf5\n",
      "Epoch 16/20\n",
      "6680/6680 [==============================] - ETA: 2s - loss: 4.8910 - acc: 0.650 - ETA: 2s - loss: 5.3138 - acc: 0.644 - ETA: 2s - loss: 5.3341 - acc: 0.650 - ETA: 1s - loss: 5.5599 - acc: 0.630 - ETA: 1s - loss: 5.5483 - acc: 0.632 - ETA: 1s - loss: 5.5583 - acc: 0.635 - ETA: 1s - loss: 5.6101 - acc: 0.629 - ETA: 1s - loss: 5.5619 - acc: 0.632 - ETA: 1s - loss: 5.6295 - acc: 0.626 - ETA: 1s - loss: 5.5979 - acc: 0.628 - ETA: 1s - loss: 5.6424 - acc: 0.624 - ETA: 1s - loss: 5.5665 - acc: 0.629 - ETA: 1s - loss: 5.5903 - acc: 0.626 - ETA: 1s - loss: 5.6795 - acc: 0.621 - ETA: 1s - loss: 5.7218 - acc: 0.617 - ETA: 1s - loss: 5.7363 - acc: 0.618 - ETA: 1s - loss: 5.7544 - acc: 0.617 - ETA: 1s - loss: 5.7400 - acc: 0.619 - ETA: 1s - loss: 5.7371 - acc: 0.619 - ETA: 1s - loss: 5.7082 - acc: 0.621 - ETA: 0s - loss: 5.7400 - acc: 0.619 - ETA: 0s - loss: 5.7897 - acc: 0.616 - ETA: 0s - loss: 5.8146 - acc: 0.615 - ETA: 0s - loss: 5.7915 - acc: 0.616 - ETA: 0s - loss: 5.7758 - acc: 0.617 - ETA: 0s - loss: 5.7879 - acc: 0.617 - ETA: 0s - loss: 5.7442 - acc: 0.619 - ETA: 0s - loss: 5.7304 - acc: 0.619 - ETA: 0s - loss: 5.7157 - acc: 0.619 - ETA: 0s - loss: 5.7002 - acc: 0.620 - ETA: 0s - loss: 5.6889 - acc: 0.621 - ETA: 0s - loss: 5.6517 - acc: 0.623 - ETA: 0s - loss: 5.6249 - acc: 0.625 - ETA: 0s - loss: 5.6081 - acc: 0.626 - ETA: 0s - loss: 5.5962 - acc: 0.627 - ETA: 0s - loss: 5.6103 - acc: 0.626 - ETA: 0s - loss: 5.5990 - acc: 0.627 - 2s 312us/step - loss: 5.6043 - acc: 0.6269 - val_loss: 6.6082 - val_acc: 0.5030\n",
      "\n",
      "Epoch 00016: val_loss improved from 6.84523 to 6.60825, saving model to saved_models/weights.best.VGG16.hdf5\n",
      "Epoch 17/20\n",
      "6680/6680 [==============================] - ETA: 2s - loss: 7.2533 - acc: 0.550 - ETA: 1s - loss: 5.6740 - acc: 0.636 - ETA: 1s - loss: 5.9135 - acc: 0.623 - ETA: 1s - loss: 5.5130 - acc: 0.645 - ETA: 1s - loss: 5.5050 - acc: 0.646 - ETA: 1s - loss: 5.4643 - acc: 0.649 - ETA: 1s - loss: 5.6619 - acc: 0.636 - ETA: 1s - loss: 5.5695 - acc: 0.643 - ETA: 1s - loss: 5.5321 - acc: 0.646 - ETA: 1s - loss: 5.4794 - acc: 0.647 - ETA: 1s - loss: 5.5570 - acc: 0.642 - ETA: 1s - loss: 5.5527 - acc: 0.642 - ETA: 1s - loss: 5.4873 - acc: 0.647 - ETA: 1s - loss: 5.4585 - acc: 0.647 - ETA: 1s - loss: 5.4163 - acc: 0.648 - ETA: 1s - loss: 5.4584 - acc: 0.645 - ETA: 0s - loss: 5.4555 - acc: 0.646 - ETA: 0s - loss: 5.4741 - acc: 0.644 - ETA: 0s - loss: 5.4946 - acc: 0.644 - ETA: 0s - loss: 5.4736 - acc: 0.645 - ETA: 0s - loss: 5.4967 - acc: 0.644 - ETA: 0s - loss: 5.5131 - acc: 0.642 - ETA: 0s - loss: 5.5216 - acc: 0.641 - ETA: 0s - loss: 5.5222 - acc: 0.641 - ETA: 0s - loss: 5.5098 - acc: 0.641 - ETA: 0s - loss: 5.4933 - acc: 0.642 - ETA: 0s - loss: 5.4854 - acc: 0.642 - ETA: 0s - loss: 5.4490 - acc: 0.644 - ETA: 0s - loss: 5.4446 - acc: 0.644 - ETA: 0s - loss: 5.4233 - acc: 0.646 - ETA: 0s - loss: 5.4286 - acc: 0.645 - ETA: 0s - loss: 5.4265 - acc: 0.645 - ETA: 0s - loss: 5.4397 - acc: 0.644 - ETA: 0s - loss: 5.4312 - acc: 0.644 - ETA: 0s - loss: 5.4464 - acc: 0.642 - ETA: 0s - loss: 5.4605 - acc: 0.641 - 2s 311us/step - loss: 5.4510 - acc: 0.6421 - val_loss: 6.5011 - val_acc: 0.4970\n",
      "\n",
      "Epoch 00017: val_loss improved from 6.60825 to 6.50115, saving model to saved_models/weights.best.VGG16.hdf5\n",
      "Epoch 18/20\n",
      "6680/6680 [==============================] - ETA: 2s - loss: 4.0296 - acc: 0.750 - ETA: 1s - loss: 5.4374 - acc: 0.650 - ETA: 1s - loss: 5.1839 - acc: 0.663 - ETA: 1s - loss: 5.0815 - acc: 0.664 - ETA: 1s - loss: 5.2331 - acc: 0.655 - ETA: 1s - loss: 5.1432 - acc: 0.661 - ETA: 1s - loss: 5.1287 - acc: 0.662 - ETA: 1s - loss: 5.1419 - acc: 0.662 - ETA: 1s - loss: 5.2012 - acc: 0.660 - ETA: 1s - loss: 5.2519 - acc: 0.655 - ETA: 1s - loss: 5.2666 - acc: 0.655 - ETA: 1s - loss: 5.3411 - acc: 0.651 - ETA: 1s - loss: 5.3483 - acc: 0.650 - ETA: 1s - loss: 5.3759 - acc: 0.649 - ETA: 1s - loss: 5.3949 - acc: 0.648 - ETA: 1s - loss: 5.4023 - acc: 0.648 - ETA: 1s - loss: 5.3255 - acc: 0.653 - ETA: 1s - loss: 5.2834 - acc: 0.656 - ETA: 1s - loss: 5.2617 - acc: 0.657 - ETA: 1s - loss: 5.2515 - acc: 0.657 - ETA: 1s - loss: 5.2580 - acc: 0.657 - ETA: 1s - loss: 5.2947 - acc: 0.655 - ETA: 1s - loss: 5.2318 - acc: 0.658 - ETA: 1s - loss: 5.2480 - acc: 0.657 - ETA: 1s - loss: 5.2372 - acc: 0.658 - ETA: 1s - loss: 5.2248 - acc: 0.659 - ETA: 1s - loss: 5.2822 - acc: 0.656 - ETA: 1s - loss: 5.2469 - acc: 0.658 - ETA: 1s - loss: 5.2556 - acc: 0.657 - ETA: 0s - loss: 5.2536 - acc: 0.657 - ETA: 0s - loss: 5.2860 - acc: 0.654 - ETA: 0s - loss: 5.2842 - acc: 0.655 - ETA: 0s - loss: 5.2935 - acc: 0.654 - ETA: 0s - loss: 5.3228 - acc: 0.653 - ETA: 0s - loss: 5.3484 - acc: 0.651 - ETA: 0s - loss: 5.3468 - acc: 0.651 - ETA: 0s - loss: 5.3472 - acc: 0.651 - ETA: 0s - loss: 5.3636 - acc: 0.650 - ETA: 0s - loss: 5.3748 - acc: 0.649 - ETA: 0s - loss: 5.3740 - acc: 0.649 - ETA: 0s - loss: 5.3505 - acc: 0.651 - ETA: 0s - loss: 5.3432 - acc: 0.651 - ETA: 0s - loss: 5.3518 - acc: 0.651 - ETA: 0s - loss: 5.3295 - acc: 0.652 - ETA: 0s - loss: 5.3302 - acc: 0.652 - ETA: 0s - loss: 5.3588 - acc: 0.650 - ETA: 0s - loss: 5.3536 - acc: 0.650 - ETA: 0s - loss: 5.3491 - acc: 0.650 - ETA: 0s - loss: 5.3572 - acc: 0.650 - ETA: 0s - loss: 5.3564 - acc: 0.650 - ETA: 0s - loss: 5.3489 - acc: 0.650 - ETA: 0s - loss: 5.3401 - acc: 0.651 - ETA: 0s - loss: 5.3299 - acc: 0.652 - ETA: 0s - loss: 5.3187 - acc: 0.653 - 3s 483us/step - loss: 5.3116 - acc: 0.6534 - val_loss: 6.3288 - val_acc: 0.5186\n",
      "\n",
      "Epoch 00018: val_loss improved from 6.50115 to 6.32884, saving model to saved_models/weights.best.VGG16.hdf5\n",
      "Epoch 19/20\n",
      "6680/6680 [==============================] - ETA: 2s - loss: 3.3194 - acc: 0.750 - ETA: 2s - loss: 5.4623 - acc: 0.638 - ETA: 2s - loss: 5.8477 - acc: 0.618 - ETA: 2s - loss: 5.4058 - acc: 0.647 - ETA: 2s - loss: 5.2921 - acc: 0.657 - ETA: 2s - loss: 5.2390 - acc: 0.660 - ETA: 2s - loss: 5.2816 - acc: 0.660 - ETA: 2s - loss: 5.2616 - acc: 0.662 - ETA: 2s - loss: 5.2567 - acc: 0.660 - ETA: 2s - loss: 5.2840 - acc: 0.659 - ETA: 2s - loss: 5.3570 - acc: 0.654 - ETA: 2s - loss: 5.3015 - acc: 0.659 - ETA: 2s - loss: 5.2285 - acc: 0.664 - ETA: 2s - loss: 5.2255 - acc: 0.664 - ETA: 2s - loss: 5.2614 - acc: 0.661 - ETA: 2s - loss: 5.3441 - acc: 0.656 - ETA: 2s - loss: 5.3727 - acc: 0.654 - ETA: 2s - loss: 5.3443 - acc: 0.656 - ETA: 2s - loss: 5.2985 - acc: 0.659 - ETA: 2s - loss: 5.2688 - acc: 0.661 - ETA: 2s - loss: 5.2927 - acc: 0.659 - ETA: 2s - loss: 5.2777 - acc: 0.659 - ETA: 2s - loss: 5.2805 - acc: 0.659 - ETA: 2s - loss: 5.3006 - acc: 0.658 - ETA: 2s - loss: 5.2854 - acc: 0.659 - ETA: 2s - loss: 5.2842 - acc: 0.658 - ETA: 2s - loss: 5.2918 - acc: 0.658 - ETA: 2s - loss: 5.2462 - acc: 0.660 - ETA: 2s - loss: 5.2246 - acc: 0.662 - ETA: 1s - loss: 5.2448 - acc: 0.660 - ETA: 1s - loss: 5.2579 - acc: 0.660 - ETA: 1s - loss: 5.2680 - acc: 0.659 - ETA: 1s - loss: 5.3050 - acc: 0.656 - ETA: 1s - loss: 5.3071 - acc: 0.657 - ETA: 1s - loss: 5.3198 - acc: 0.656 - ETA: 1s - loss: 5.3184 - acc: 0.656 - ETA: 1s - loss: 5.2993 - acc: 0.657 - ETA: 1s - loss: 5.2873 - acc: 0.658 - ETA: 1s - loss: 5.2757 - acc: 0.659 - ETA: 1s - loss: 5.2988 - acc: 0.657 - ETA: 1s - loss: 5.2979 - acc: 0.656 - ETA: 1s - loss: 5.3079 - acc: 0.656 - ETA: 1s - loss: 5.2714 - acc: 0.658 - ETA: 1s - loss: 5.2826 - acc: 0.657 - ETA: 0s - loss: 5.2857 - acc: 0.657 - ETA: 0s - loss: 5.2991 - acc: 0.656 - ETA: 0s - loss: 5.2706 - acc: 0.657 - ETA: 0s - loss: 5.2577 - acc: 0.658 - ETA: 0s - loss: 5.2308 - acc: 0.660 - ETA: 0s - loss: 5.2193 - acc: 0.661 - ETA: 0s - loss: 5.2054 - acc: 0.662 - ETA: 0s - loss: 5.2116 - acc: 0.661 - ETA: 0s - loss: 5.2142 - acc: 0.661 - ETA: 0s - loss: 5.2377 - acc: 0.659 - ETA: 0s - loss: 5.2561 - acc: 0.658 - ETA: 0s - loss: 5.2445 - acc: 0.659 - ETA: 0s - loss: 5.2307 - acc: 0.660 - ETA: 0s - loss: 5.2505 - acc: 0.659 - ETA: 0s - loss: 5.2402 - acc: 0.659 - 3s 509us/step - loss: 5.2333 - acc: 0.6602 - val_loss: 6.3353 - val_acc: 0.5186\n",
      "\n",
      "Epoch 00019: val_loss did not improve from 6.32884\n",
      "Epoch 20/20\n",
      "6680/6680 [==============================] - ETA: 3s - loss: 5.6442 - acc: 0.650 - ETA: 2s - loss: 5.7958 - acc: 0.627 - ETA: 2s - loss: 5.0940 - acc: 0.655 - ETA: 2s - loss: 5.1398 - acc: 0.656 - ETA: 2s - loss: 5.0459 - acc: 0.659 - ETA: 2s - loss: 5.1001 - acc: 0.661 - ETA: 2s - loss: 5.0695 - acc: 0.665 - ETA: 2s - loss: 5.2104 - acc: 0.657 - ETA: 2s - loss: 5.1738 - acc: 0.661 - ETA: 1s - loss: 5.1564 - acc: 0.662 - ETA: 1s - loss: 5.1008 - acc: 0.663 - ETA: 1s - loss: 5.1406 - acc: 0.660 - ETA: 1s - loss: 5.1125 - acc: 0.662 - ETA: 1s - loss: 5.0663 - acc: 0.665 - ETA: 1s - loss: 5.0446 - acc: 0.666 - ETA: 1s - loss: 5.0261 - acc: 0.667 - ETA: 1s - loss: 5.0659 - acc: 0.665 - ETA: 1s - loss: 5.0680 - acc: 0.665 - ETA: 1s - loss: 5.1138 - acc: 0.663 - ETA: 1s - loss: 5.1141 - acc: 0.663 - ETA: 1s - loss: 5.1249 - acc: 0.662 - ETA: 1s - loss: 5.0978 - acc: 0.663 - ETA: 1s - loss: 5.0946 - acc: 0.664 - ETA: 1s - loss: 5.0808 - acc: 0.665 - ETA: 1s - loss: 5.0812 - acc: 0.665 - ETA: 1s - loss: 5.0953 - acc: 0.665 - ETA: 0s - loss: 5.0757 - acc: 0.666 - ETA: 0s - loss: 5.0903 - acc: 0.665 - ETA: 0s - loss: 5.0785 - acc: 0.666 - ETA: 0s - loss: 5.1017 - acc: 0.665 - ETA: 0s - loss: 5.0663 - acc: 0.667 - ETA: 0s - loss: 5.0799 - acc: 0.666 - ETA: 0s - loss: 5.0842 - acc: 0.666 - ETA: 0s - loss: 5.0983 - acc: 0.665 - ETA: 0s - loss: 5.0833 - acc: 0.666 - ETA: 0s - loss: 5.0630 - acc: 0.667 - ETA: 0s - loss: 5.0545 - acc: 0.668 - ETA: 0s - loss: 5.0551 - acc: 0.668 - ETA: 0s - loss: 5.0698 - acc: 0.667 - ETA: 0s - loss: 5.0831 - acc: 0.667 - ETA: 0s - loss: 5.0834 - acc: 0.667 - ETA: 0s - loss: 5.0988 - acc: 0.666 - ETA: 0s - loss: 5.1195 - acc: 0.665 - ETA: 0s - loss: 5.1084 - acc: 0.666 - ETA: 0s - loss: 5.0944 - acc: 0.667 - 3s 392us/step - loss: 5.0998 - acc: 0.6671 - val_loss: 6.2216 - val_acc: 0.5281\n",
      "\n"
     ]
    },
    {
     "name": "stdout",
     "output_type": "stream",
     "text": [
      "Epoch 00020: val_loss improved from 6.32884 to 6.22157, saving model to saved_models/weights.best.VGG16.hdf5\n"
     ]
    },
    {
     "data": {
      "text/plain": [
       "<keras.callbacks.History at 0x1ad1c5c5e10>"
      ]
     },
     "execution_count": 28,
     "metadata": {},
     "output_type": "execute_result"
    }
   ],
   "source": [
    "checkpointer = ModelCheckpoint(filepath='saved_models/weights.best.VGG16.hdf5', \n",
    "                               verbose=1, save_best_only=True)\n",
    "\n",
    "VGG16_model.fit(train_VGG16, train_targets, \n",
    "          validation_data=(valid_VGG16, valid_targets),\n",
    "          epochs=20, batch_size=20, callbacks=[checkpointer], verbose=1)"
   ]
  },
  {
   "cell_type": "markdown",
   "metadata": {},
   "source": [
    "### Load the Model with the Best Validation Loss"
   ]
  },
  {
   "cell_type": "code",
   "execution_count": 29,
   "metadata": {},
   "outputs": [],
   "source": [
    "VGG16_model.load_weights('saved_models/weights.best.VGG16.hdf5')"
   ]
  },
  {
   "cell_type": "markdown",
   "metadata": {},
   "source": [
    "### Test the Model\n",
    "\n",
    "Now, we can use the CNN to test how well it identifies breed within our test dataset of dog images.  We print the test accuracy below."
   ]
  },
  {
   "cell_type": "code",
   "execution_count": 30,
   "metadata": {},
   "outputs": [
    {
     "name": "stdout",
     "output_type": "stream",
     "text": [
      "Test accuracy: 53.2297%\n"
     ]
    }
   ],
   "source": [
    "# get index of predicted dog breed for each image in test set\n",
    "VGG16_predictions = [np.argmax(VGG16_model.predict(np.expand_dims(feature, axis=0))) for feature in test_VGG16]\n",
    "\n",
    "# report test accuracy\n",
    "test_accuracy = 100*np.sum(np.array(VGG16_predictions)==np.argmax(test_targets, axis=1))/len(VGG16_predictions)\n",
    "print('Test accuracy: %.4f%%' % test_accuracy)"
   ]
  },
  {
   "cell_type": "markdown",
   "metadata": {},
   "source": [
    "### Predict Dog Breed with the Model"
   ]
  },
  {
   "cell_type": "code",
   "execution_count": 31,
   "metadata": {},
   "outputs": [],
   "source": [
    "from extract_bottleneck_features import *\n",
    "\n",
    "def VGG16_predict_breed(img_path):\n",
    "    # extract bottleneck features\n",
    "    bottleneck_feature = extract_VGG16(path_to_tensor(img_path))\n",
    "    # obtain predicted vector\n",
    "    predicted_vector = VGG16_model.predict(bottleneck_feature)\n",
    "    # return dog breed that is predicted by the model\n",
    "    return dog_names[np.argmax(predicted_vector)]"
   ]
  },
  {
   "cell_type": "markdown",
   "metadata": {},
   "source": [
    "---\n",
    "<a id='step5'></a>\n",
    "## Step 5: Create a CNN to Classify Dog Breeds (using Transfer Learning)\n",
    "\n",
    "You will now use transfer learning to create a CNN that can identify dog breed from images.  Your CNN must attain at least 60% accuracy on the test set.\n",
    "\n",
    "In Step 4, we used transfer learning to create a CNN using VGG-16 bottleneck features.  In this section, you must use the bottleneck features from a different pre-trained model.  To make things easier for you, we have pre-computed the features for all of the networks that are currently available in Keras:\n",
    "- [VGG-19](https://s3-us-west-1.amazonaws.com/udacity-aind/dog-project/DogVGG19Data.npz) bottleneck features\n",
    "- [ResNet-50](https://s3-us-west-1.amazonaws.com/udacity-aind/dog-project/DogResnet50Data.npz) bottleneck features\n",
    "- [Inception](https://s3-us-west-1.amazonaws.com/udacity-aind/dog-project/DogInceptionV3Data.npz) bottleneck features\n",
    "- [Xception](https://s3-us-west-1.amazonaws.com/udacity-aind/dog-project/DogXceptionData.npz) bottleneck features\n",
    "\n",
    "The files are encoded as such:\n",
    "\n",
    "    Dog{network}Data.npz\n",
    "    \n",
    "where `{network}`, in the above filename, can be one of `VGG19`, `Resnet50`, `InceptionV3`, or `Xception`.  Pick one of the above architectures, download the corresponding bottleneck features, and store the downloaded file in the `bottleneck_features/` folder in the repository.\n",
    "\n",
    "### (IMPLEMENTATION) Obtain Bottleneck Features\n",
    "\n",
    "In the code block below, extract the bottleneck features corresponding to the train, test, and validation sets by running the following:\n",
    "\n",
    "    bottleneck_features = np.load('bottleneck_features/Dog{network}Data.npz')\n",
    "    train_{network} = bottleneck_features['train']\n",
    "    valid_{network} = bottleneck_features['valid']\n",
    "    test_{network} = bottleneck_features['test']"
   ]
  },
  {
   "cell_type": "code",
   "execution_count": 32,
   "metadata": {},
   "outputs": [],
   "source": [
    "### TODO: Obtain bottleneck features from another pre-trained CNN.\n",
    "bottleneck_features = np.load('bottleneck_features/DogVGG19Data.npz')\n",
    "train_VGG19 = bottleneck_features['train']\n",
    "valid_VGG19 = bottleneck_features['valid']\n",
    "test_VGG19 = bottleneck_features['test']"
   ]
  },
  {
   "cell_type": "markdown",
   "metadata": {},
   "source": [
    "### (IMPLEMENTATION) Model Architecture\n",
    "\n",
    "Create a CNN to classify dog breed.  At the end of your code cell block, summarize the layers of your model by executing the line:\n",
    "    \n",
    "        <your model's name>.summary()\n",
    "   \n",
    "__Question 5:__ Outline the steps you took to get to your final CNN architecture and your reasoning at each step.  Describe why you think the architecture is suitable for the current problem.\n",
    "\n",
    "__Answer:__ \n",
    "\n"
   ]
  },
  {
   "cell_type": "code",
   "execution_count": 33,
   "metadata": {},
   "outputs": [
    {
     "name": "stdout",
     "output_type": "stream",
     "text": [
      "_________________________________________________________________\n",
      "Layer (type)                 Output Shape              Param #   \n",
      "=================================================================\n",
      "global_average_pooling2d_3 ( (None, 512)               0         \n",
      "_________________________________________________________________\n",
      "dense_3 (Dense)              (None, 133)               68229     \n",
      "_________________________________________________________________\n",
      "dropout_1 (Dropout)          (None, 133)               0         \n",
      "_________________________________________________________________\n",
      "dense_4 (Dense)              (None, 133)               17822     \n",
      "=================================================================\n",
      "Total params: 86,051\n",
      "Trainable params: 86,051\n",
      "Non-trainable params: 0\n",
      "_________________________________________________________________\n"
     ]
    }
   ],
   "source": [
    "### TODO: Define your architecture.\n",
    "VGG19_model = Sequential()\n",
    "VGG19_model.add(GlobalAveragePooling2D(input_shape=train_VGG16.shape[1:]))\n",
    "VGG19_model.add(Dense(133, activation='relu'))\n",
    "VGG19_model.add(Dropout(0.5))\n",
    "VGG19_model.add(Dense(133, activation='softmax'))\n",
    "\n",
    "VGG19_model.summary()"
   ]
  },
  {
   "cell_type": "markdown",
   "metadata": {},
   "source": [
    "### (IMPLEMENTATION) Compile the Model"
   ]
  },
  {
   "cell_type": "code",
   "execution_count": 34,
   "metadata": {},
   "outputs": [],
   "source": [
    "### TODO: Compile the model.\n",
    "VGG19_model.compile(loss='categorical_crossentropy', optimizer='rmsprop', metrics=['accuracy'])"
   ]
  },
  {
   "cell_type": "markdown",
   "metadata": {},
   "source": [
    "### (IMPLEMENTATION) Train the Model\n",
    "\n",
    "Train your model in the code cell below.  Use model checkpointing to save the model that attains the best validation loss.  \n",
    "\n",
    "You are welcome to [augment the training data](https://blog.keras.io/building-powerful-image-classification-models-using-very-little-data.html), but this is not a requirement. "
   ]
  },
  {
   "cell_type": "code",
   "execution_count": 35,
   "metadata": {},
   "outputs": [
    {
     "name": "stdout",
     "output_type": "stream",
     "text": [
      "Train on 6680 samples, validate on 835 samples\n",
      "Epoch 1/3\n",
      "6680/6680 [==============================] - ETA: 5:20 - loss: 14.3037 - acc: 0.03 - ETA: 1:05 - loss: 14.5264 - acc: 0.02 - ETA: 41s - loss: 14.2982 - acc: 0.0167 - ETA: 28s - loss: 13.6244 - acc: 0.016 - ETA: 21s - loss: 12.8970 - acc: 0.018 - ETA: 16s - loss: 11.8057 - acc: 0.015 - ETA: 13s - loss: 10.7339 - acc: 0.016 - ETA: 11s - loss: 9.8720 - acc: 0.016 - ETA: 9s - loss: 9.2328 - acc: 0.0185 - ETA: 8s - loss: 8.7250 - acc: 0.022 - ETA: 7s - loss: 8.3260 - acc: 0.023 - ETA: 6s - loss: 7.9949 - acc: 0.026 - ETA: 6s - loss: 7.7723 - acc: 0.026 - ETA: 5s - loss: 7.5249 - acc: 0.026 - ETA: 5s - loss: 7.3629 - acc: 0.026 - ETA: 5s - loss: 7.1783 - acc: 0.029 - ETA: 4s - loss: 7.0216 - acc: 0.030 - ETA: 4s - loss: 6.8893 - acc: 0.030 - ETA: 4s - loss: 6.7603 - acc: 0.031 - ETA: 3s - loss: 6.6522 - acc: 0.032 - ETA: 3s - loss: 6.5510 - acc: 0.036 - ETA: 3s - loss: 6.4432 - acc: 0.038 - ETA: 2s - loss: 6.3514 - acc: 0.038 - ETA: 2s - loss: 6.2738 - acc: 0.039 - ETA: 2s - loss: 6.1984 - acc: 0.040 - ETA: 2s - loss: 6.1343 - acc: 0.041 - ETA: 2s - loss: 6.0904 - acc: 0.040 - ETA: 2s - loss: 6.0238 - acc: 0.042 - ETA: 1s - loss: 5.9672 - acc: 0.042 - ETA: 1s - loss: 5.9000 - acc: 0.044 - ETA: 1s - loss: 5.8360 - acc: 0.047 - ETA: 1s - loss: 5.7961 - acc: 0.048 - ETA: 1s - loss: 5.7666 - acc: 0.047 - ETA: 1s - loss: 5.7227 - acc: 0.049 - ETA: 1s - loss: 5.6849 - acc: 0.050 - ETA: 0s - loss: 5.6445 - acc: 0.051 - ETA: 0s - loss: 5.5945 - acc: 0.054 - ETA: 0s - loss: 5.5499 - acc: 0.057 - ETA: 0s - loss: 5.5147 - acc: 0.057 - ETA: 0s - loss: 5.4808 - acc: 0.059 - ETA: 0s - loss: 5.4425 - acc: 0.060 - ETA: 0s - loss: 5.3959 - acc: 0.063 - ETA: 0s - loss: 5.3532 - acc: 0.066 - 4s 599us/step - loss: 5.3418 - acc: 0.0663 - val_loss: 3.6729 - val_acc: 0.1916\n",
      "\n",
      "Epoch 00001: val_loss improved from inf to 3.67292, saving model to saved_models/weights.best.VGG19.hdf5\n",
      "Epoch 2/3\n",
      "6680/6680 [==============================] - ETA: 2s - loss: 3.5838 - acc: 0.133 - ETA: 2s - loss: 4.0335 - acc: 0.127 - ETA: 2s - loss: 4.0128 - acc: 0.133 - ETA: 2s - loss: 3.9815 - acc: 0.137 - ETA: 2s - loss: 4.0184 - acc: 0.134 - ETA: 2s - loss: 4.0164 - acc: 0.125 - ETA: 2s - loss: 3.9820 - acc: 0.134 - ETA: 1s - loss: 3.9677 - acc: 0.143 - ETA: 1s - loss: 3.9508 - acc: 0.146 - ETA: 1s - loss: 3.9487 - acc: 0.149 - ETA: 1s - loss: 3.9359 - acc: 0.152 - ETA: 1s - loss: 3.9333 - acc: 0.152 - ETA: 1s - loss: 3.9124 - acc: 0.156 - ETA: 1s - loss: 3.9161 - acc: 0.155 - ETA: 1s - loss: 3.9080 - acc: 0.154 - ETA: 1s - loss: 3.8950 - acc: 0.158 - ETA: 1s - loss: 3.8885 - acc: 0.159 - ETA: 1s - loss: 3.8806 - acc: 0.160 - ETA: 1s - loss: 3.8765 - acc: 0.161 - ETA: 1s - loss: 3.8666 - acc: 0.163 - ETA: 1s - loss: 3.8653 - acc: 0.162 - ETA: 1s - loss: 3.8481 - acc: 0.164 - ETA: 1s - loss: 3.8400 - acc: 0.165 - ETA: 1s - loss: 3.8336 - acc: 0.165 - ETA: 1s - loss: 3.8261 - acc: 0.165 - ETA: 1s - loss: 3.8301 - acc: 0.167 - ETA: 1s - loss: 3.8329 - acc: 0.166 - ETA: 1s - loss: 3.8271 - acc: 0.167 - ETA: 1s - loss: 3.8117 - acc: 0.170 - ETA: 1s - loss: 3.8099 - acc: 0.172 - ETA: 1s - loss: 3.8085 - acc: 0.171 - ETA: 1s - loss: 3.8042 - acc: 0.173 - ETA: 1s - loss: 3.7934 - acc: 0.174 - ETA: 1s - loss: 3.7753 - acc: 0.178 - ETA: 1s - loss: 3.7690 - acc: 0.178 - ETA: 0s - loss: 3.7650 - acc: 0.179 - ETA: 0s - loss: 3.7528 - acc: 0.181 - ETA: 0s - loss: 3.7497 - acc: 0.182 - ETA: 0s - loss: 3.7493 - acc: 0.182 - ETA: 0s - loss: 3.7418 - acc: 0.183 - ETA: 0s - loss: 3.7369 - acc: 0.184 - ETA: 0s - loss: 3.7321 - acc: 0.184 - ETA: 0s - loss: 3.7228 - acc: 0.185 - ETA: 0s - loss: 3.7162 - acc: 0.185 - ETA: 0s - loss: 3.7119 - acc: 0.185 - ETA: 0s - loss: 3.7118 - acc: 0.185 - ETA: 0s - loss: 3.7080 - acc: 0.186 - ETA: 0s - loss: 3.7040 - acc: 0.187 - ETA: 0s - loss: 3.7000 - acc: 0.187 - ETA: 0s - loss: 3.6928 - acc: 0.189 - ETA: 0s - loss: 3.6947 - acc: 0.188 - ETA: 0s - loss: 3.6871 - acc: 0.190 - ETA: 0s - loss: 3.6810 - acc: 0.190 - ETA: 0s - loss: 3.6807 - acc: 0.191 - ETA: 0s - loss: 3.6736 - acc: 0.192 - 3s 487us/step - loss: 3.6656 - acc: 0.1928 - val_loss: 2.4540 - val_acc: 0.4000\n",
      "\n",
      "Epoch 00002: val_loss improved from 3.67292 to 2.45402, saving model to saved_models/weights.best.VGG19.hdf5\n",
      "Epoch 3/3\n",
      "6680/6680 [==============================] - ETA: 2s - loss: 3.1545 - acc: 0.233 - ETA: 4s - loss: 3.3888 - acc: 0.244 - ETA: 4s - loss: 3.1940 - acc: 0.238 - ETA: 4s - loss: 3.1857 - acc: 0.255 - ETA: 3s - loss: 3.1510 - acc: 0.258 - ETA: 3s - loss: 3.1203 - acc: 0.273 - ETA: 3s - loss: 3.1823 - acc: 0.264 - ETA: 3s - loss: 3.1814 - acc: 0.259 - ETA: 3s - loss: 3.1341 - acc: 0.272 - ETA: 3s - loss: 3.1355 - acc: 0.276 - ETA: 3s - loss: 3.1254 - acc: 0.274 - ETA: 3s - loss: 3.1081 - acc: 0.273 - ETA: 3s - loss: 3.1100 - acc: 0.272 - ETA: 3s - loss: 3.0970 - acc: 0.270 - ETA: 2s - loss: 3.1184 - acc: 0.271 - ETA: 2s - loss: 3.1252 - acc: 0.271 - ETA: 2s - loss: 3.1260 - acc: 0.273 - ETA: 2s - loss: 3.1210 - acc: 0.275 - ETA: 2s - loss: 3.1120 - acc: 0.276 - ETA: 2s - loss: 3.1305 - acc: 0.271 - ETA: 2s - loss: 3.1215 - acc: 0.274 - ETA: 2s - loss: 3.1350 - acc: 0.270 - ETA: 2s - loss: 3.1206 - acc: 0.271 - ETA: 2s - loss: 3.1106 - acc: 0.274 - ETA: 2s - loss: 3.1166 - acc: 0.275 - ETA: 2s - loss: 3.1115 - acc: 0.274 - ETA: 1s - loss: 3.1062 - acc: 0.274 - ETA: 1s - loss: 3.1041 - acc: 0.274 - ETA: 1s - loss: 3.1078 - acc: 0.275 - ETA: 1s - loss: 3.1090 - acc: 0.277 - ETA: 1s - loss: 3.1230 - acc: 0.276 - ETA: 1s - loss: 3.1254 - acc: 0.276 - ETA: 1s - loss: 3.1220 - acc: 0.274 - ETA: 1s - loss: 3.1182 - acc: 0.274 - ETA: 1s - loss: 3.1088 - acc: 0.275 - ETA: 1s - loss: 3.1005 - acc: 0.278 - ETA: 1s - loss: 3.0996 - acc: 0.280 - ETA: 1s - loss: 3.0849 - acc: 0.281 - ETA: 1s - loss: 3.0775 - acc: 0.282 - ETA: 0s - loss: 3.0687 - acc: 0.282 - ETA: 0s - loss: 3.0715 - acc: 0.284 - ETA: 0s - loss: 3.0590 - acc: 0.286 - ETA: 0s - loss: 3.0559 - acc: 0.287 - ETA: 0s - loss: 3.0510 - acc: 0.287 - ETA: 0s - loss: 3.0419 - acc: 0.289 - ETA: 0s - loss: 3.0412 - acc: 0.288 - ETA: 0s - loss: 3.0349 - acc: 0.289 - ETA: 0s - loss: 3.0283 - acc: 0.291 - ETA: 0s - loss: 3.0322 - acc: 0.291 - ETA: 0s - loss: 3.0309 - acc: 0.291 - ETA: 0s - loss: 3.0315 - acc: 0.291 - ETA: 0s - loss: 3.0294 - acc: 0.291 - ETA: 0s - loss: 3.0259 - acc: 0.291 - ETA: 0s - loss: 3.0247 - acc: 0.291 - ETA: 0s - loss: 3.0172 - acc: 0.293 - ETA: 0s - loss: 3.0026 - acc: 0.296 - ETA: 0s - loss: 3.0039 - acc: 0.296 - 3s 498us/step - loss: 3.0037 - acc: 0.2972 - val_loss: 1.9068 - val_acc: 0.4874\n",
      "\n",
      "Epoch 00003: val_loss improved from 2.45402 to 1.90678, saving model to saved_models/weights.best.VGG19.hdf5\n"
     ]
    },
    {
     "data": {
      "text/plain": [
       "<keras.callbacks.History at 0x1ad1a0bf160>"
      ]
     },
     "execution_count": 35,
     "metadata": {},
     "output_type": "execute_result"
    }
   ],
   "source": [
    "checkpointer = ModelCheckpoint(filepath='saved_models/weights.best.VGG19.hdf5', \n",
    "                               verbose=1, save_best_only=True)\n",
    "\n",
    "VGG19_model.fit(train_VGG19, train_targets, \n",
    "          validation_data=(valid_VGG19, valid_targets),\n",
    "          epochs=3, batch_size=30, callbacks=[checkpointer], verbose=1)"
   ]
  },
  {
   "cell_type": "markdown",
   "metadata": {},
   "source": [
    "### (IMPLEMENTATION) Load the Model with the Best Validation Loss"
   ]
  },
  {
   "cell_type": "code",
   "execution_count": 36,
   "metadata": {},
   "outputs": [],
   "source": [
    "### TODO: Load the model weights with the best validation loss.\n",
    "VGG19_model.load_weights('saved_models/weights.best.VGG19.hdf5')"
   ]
  },
  {
   "cell_type": "markdown",
   "metadata": {},
   "source": [
    "### (IMPLEMENTATION) Test the Model\n",
    "\n",
    "Try out your model on the test dataset of dog images. Ensure that your test accuracy is greater than 60%."
   ]
  },
  {
   "cell_type": "code",
   "execution_count": 37,
   "metadata": {},
   "outputs": [
    {
     "name": "stdout",
     "output_type": "stream",
     "text": [
      "Test accuracy: 47.9665%\n"
     ]
    }
   ],
   "source": [
    "### TODO: Calculate classification accuracy on the test dataset.\n",
    "### TODO: Train the model.\n",
    "# get index of predicted dog breed for each image in test set\n",
    "VGG19_predictions = [np.argmax(VGG19_model.predict(np.expand_dims(feature, axis=0))) for feature in test_VGG19]\n",
    "\n",
    "# report test accuracy\n",
    "test_accuracy = 100*np.sum(np.array(VGG19_predictions)==np.argmax(test_targets, axis=1))/len(VGG19_predictions)\n",
    "print('Test accuracy: %.4f%%' % test_accuracy)\n",
    "\n",
    "# It is some think rong with the the lfw folder, I dont get all the image"
   ]
  },
  {
   "cell_type": "markdown",
   "metadata": {},
   "source": [
    "### (IMPLEMENTATION) Predict Dog Breed with the Model\n",
    "\n",
    "Write a function that takes an image path as input and returns the dog breed (`Affenpinscher`, `Afghan_hound`, etc) that is predicted by your model.  \n",
    "\n",
    "Similar to the analogous function in Step 5, your function should have three steps:\n",
    "1. Extract the bottleneck features corresponding to the chosen CNN model.\n",
    "2. Supply the bottleneck features as input to the model to return the predicted vector.  Note that the argmax of this prediction vector gives the index of the predicted dog breed.\n",
    "3. Use the `dog_names` array defined in Step 0 of this notebook to return the corresponding breed.\n",
    "\n",
    "The functions to extract the bottleneck features can be found in `extract_bottleneck_features.py`, and they have been imported in an earlier code cell.  To obtain the bottleneck features corresponding to your chosen CNN architecture, you need to use the function\n",
    "\n",
    "    extract_{network}\n",
    "    \n",
    "where `{network}`, in the above filename, should be one of `VGG19`, `Resnet50`, `InceptionV3`, or `Xception`."
   ]
  },
  {
   "cell_type": "code",
   "execution_count": 38,
   "metadata": {},
   "outputs": [],
   "source": [
    "### TODO: Write a function that takes a path to an image as input\n",
    "### and returns the dog breed that is predicted by the model.\n",
    "from extract_bottleneck_features import *\n",
    "\n",
    "def VGG19_predict_breed(img_path):\n",
    "    # extract bottleneck features\n",
    "    bottleneck_feature = extract_VGG19(path_to_tensor(img_path))\n",
    "    # obtain predicted vector\n",
    "    predicted_vector = VGG19_model.predict(bottleneck_feature)\n",
    "    # return dog breed that is predicted by the model\n",
    "    return dog_names[np.argmax(predicted_vector)]\n"
   ]
  },
  {
   "cell_type": "markdown",
   "metadata": {},
   "source": [
    "---\n",
    "<a id='step6'></a>\n",
    "## Step 6: Write your Algorithm\n",
    "\n",
    "Write an algorithm that accepts a file path to an image and first determines whether the image contains a human, dog, or neither.  Then,\n",
    "- if a __dog__ is detected in the image, return the predicted breed.\n",
    "- if a __human__ is detected in the image, return the resembling dog breed.\n",
    "- if __neither__ is detected in the image, provide output that indicates an error.\n",
    "\n",
    "You are welcome to write your own functions for detecting humans and dogs in images, but feel free to use the `face_detector` and `dog_detector` functions developed above.  You are __required__ to use your CNN from Step 5 to predict dog breed.  \n",
    "\n",
    "Some sample output for our algorithm is provided below, but feel free to design your own user experience!\n",
    "\n",
    "![Sample Human Output](images/sample_human_output.png)\n",
    "\n",
    "\n",
    "### (IMPLEMENTATION) Write your Algorithm"
   ]
  },
  {
   "cell_type": "code",
   "execution_count": 39,
   "metadata": {},
   "outputs": [],
   "source": [
    "### TODO: Write your algorithm.\n",
    "### Feel free to use as many code cells as needed.\n",
    "\n",
    "def plott(imge):\n",
    "    img = cv2.imread(imge,0)\n",
    "    plt.imshow(img, cmap = 'gray', interpolation = 'bicubic')\n",
    "    plt.xticks([]), plt.yticks([]) \n",
    "\n",
    "    \n",
    "    \n",
    "def breed_detector(img):\n",
    "    if face_detector(img) == True:\n",
    "        humen = VGG19_predict_breed(img)\n",
    "        print(plott(img))\n",
    "        print('It is a humen that look like a:', humen)\n",
    "        \n",
    "        \n",
    "    elif dog_detector(img) == True:\n",
    "        dog = VGG19_predict_breed(img)\n",
    "        print(plott(img))\n",
    "        print('It is a dog and the breed is:', dog)\n",
    "        \n",
    "    else:\n",
    "        print(plott(img))\n",
    "        print('No human and dog was detected')\n",
    "        "
   ]
  },
  {
   "cell_type": "markdown",
   "metadata": {},
   "source": [
    "---\n",
    "<a id='step7'></a>\n",
    "## Step 7: Test Your Algorithm\n",
    "\n",
    "In this section, you will take your new algorithm for a spin!  What kind of dog does the algorithm think that __you__ look like?  If you have a dog, does it predict your dog's breed accurately?  If you have a cat, does it mistakenly think that your cat is a dog?\n",
    "\n",
    "### (IMPLEMENTATION) Test Your Algorithm on Sample Images!\n",
    "\n",
    "Test your algorithm at least six images on your computer.  Feel free to use any images you like.  Use at least two human and two dog images.  \n",
    "\n",
    "__Question 6:__ Is the output better than you expected :) ?  Or worse :( ?  Provide at least three possible points of improvement for your algorithm.\n",
    "\n",
    "__Answer:__ "
   ]
  },
  {
   "cell_type": "code",
   "execution_count": 40,
   "metadata": {},
   "outputs": [
    {
     "name": "stdout",
     "output_type": "stream",
     "text": [
      "None\n",
      "it is a humen that look like a: German_shepherd_dog\n"
     ]
    },
    {
     "data": {
      "image/png": "[encoded data removed]",
      "text/plain": [
       "<Figure size 432x288 with 1 Axes>"
      ]
     },
     "metadata": {},
     "output_type": "display_data"
    }
   ],
   "source": [
    "## TODO: Execute your algorithm from Step 6 on\n",
    "## at least 6 images on your computer.\n",
    "## Feel free to use as many code cells as needed.\n",
    "breed_detector(\"hund.jpg\")\n",
    "## This is better then I had expected, it detekt that there are a human in the image and it classifies the dog correct"
   ]
  },
  {
   "cell_type": "markdown",
   "metadata": {},
   "source": []
  },
  {
   "cell_type": "code",
   "execution_count": null,
   "metadata": {},
   "outputs": [],
   "source": []
  }
 ],
 "metadata": {
  "anaconda-cloud": {},
  "kernelspec": {
   "display_name": "dog-project",
   "language": "python",
   "name": "dog-project"
  },
  "language_info": {
   "codemirror_mode": {
    "name": "ipython",
    "version": 3
   },
   "file_extension": ".py",
   "mimetype": "text/x-python",
   "name": "python",
   "nbconvert_exporter": "python",
   "pygments_lexer": "ipython3",
   "version": "3.5.5"
  }
 },
 "nbformat": 4,
 "nbformat_minor": 1
}
